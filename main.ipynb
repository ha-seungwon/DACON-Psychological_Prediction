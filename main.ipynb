{
 "cells": [
  {
   "cell_type": "code",
   "execution_count": 1,
   "id": "b40345cc",
   "metadata": {},
   "outputs": [],
   "source": [
    "import pandas as pd\n",
    "import numpy as np\n",
    "from scipy import stats\n",
    "from math import ceil\n",
    "import matplotlib.pyplot as plt\n",
    "import seaborn as sns\n",
    "import sys\n",
    "import math\n",
    "import matplotlib.pyplot as plt\n",
    "from sklearn.model_selection import train_test_split\n",
    "import warnings\n",
    "from sklearn.metrics import confusion_matrix, accuracy_score, precision_score, recall_score\n",
    "from sklearn.metrics import confusion_matrix, f1_score, roc_auc_score\n",
    "from sklearn.preprocessing import QuantileTransformer\n",
    "\n",
    "import xgboost\n",
    "from xgboost import XGBRegressor    \n",
    "from xgboost import XGBRegressor as model\n",
    "\n",
    "def count1(df):\n",
    "    result=[]\n",
    "    index=df.index.tolist()\n",
    "    for i in index:\n",
    "        x=df.loc[i].sum()\n",
    "        result.append(x-1)\n",
    "    return result\n",
    "\n",
    "def vcl_tr(df):\n",
    "    df_=df.loc[:, 'VCL1':'VCL16']\n",
    "    result=[]\n",
    "    index=df_.index.tolist()\n",
    "    for i in index:\n",
    "        x=df_.loc[i].sum()\n",
    "        if(x>=9):\n",
    "            result.append(1)\n",
    "        else:\n",
    "            result.append(0)\n",
    "    train['VCL_M']=result\n",
    "    \n",
    "def vcl_te(df):\n",
    "    df_=df.loc[:, 'VCL1':'VCL16']\n",
    "    result=[]\n",
    "    index=df_.index.tolist()\n",
    "    for i in index:\n",
    "        x=df_.loc[i].sum()\n",
    "        if(x>=9):\n",
    "            result.append(1)\n",
    "        else:\n",
    "            result.append(0)\n",
    "    test['VCL_M']=result\n",
    "\n",
    "def count0(df):\n",
    "    result=[]\n",
    "    index=df.index.tolist()\n",
    "    for i in index:\n",
    "        x=df.loc[i].sum()\n",
    "        result.append(x-1)\n",
    "    return result\n",
    "\n",
    "\n",
    "def q_tr(df):\n",
    "    df_=df.loc[:, 'Q1':'Q26']\n",
    "    result=[]\n",
    "    index=df_.index.tolist()\n",
    "    for i in index:\n",
    "        x=df_.loc[i].tolist()\n",
    "        re=0\n",
    "        for j in x:\n",
    "            re+=((j-1)/4)*100\n",
    "        result.append(re/(len(x)-1))\n",
    "    train['Q_m']=result\n",
    "    \n",
    "def q_te(df):\n",
    "    df_=df.loc[:, 'Q1':'Q26']\n",
    "    result=[]\n",
    "    index=df_.index.tolist()\n",
    "    for i in index:\n",
    "        x=df_.loc[i].tolist()\n",
    "        re=0\n",
    "        for j in x:\n",
    "            re+=((j-1)/4)*100\n",
    "        result.append(re/(len(x)-1))\n",
    "    test['Q_m']=result\n",
    "    \n",
    "def exchange_nan(df,col):\n",
    "    print(col)\n",
    "    train_q0=df[df[col]==0.0]\n",
    "    train_q1=df[df[col]!=0.0]\n",
    "    test_=train_q0\n",
    "    #결과 없는 test\n",
    "    train_=train_q1\n",
    "    #결과 들어가있는 train\n",
    "    test_=test_.drop(col,axis=1)\n",
    "    y = train_[col]\n",
    "    x= train_.drop(col,axis =1)\n",
    "    model = XGBRegressor(objective='reg:squarederror',learning_rate=0.1,max_depth = 4, n_estimators = 1000,n_jobs=-1)\n",
    "    model.fit(x, y)\n",
    "    pred = model.predict(test_)      \n",
    "    pred=pred.round(0)\n",
    "    pred=pred.tolist()\n",
    "    for i in range(len(pred)):\n",
    "        if(pred[i]<=0):\n",
    "            pred[i]=1\n",
    "    index=test_.index.tolist()\n",
    "    for i in range(len(index)):\n",
    "        df.at[index[i],col]=pred[i]\n",
    "        \n",
    "\n",
    "def age_outlier(df):\n",
    "    mean=int(df['age'].mean())\n",
    "    index=df[df['age']>110].index\n",
    "\n",
    "    for i in index:\n",
    "        df.at[i,'age']=mean\n",
    "\n",
    "\n",
    "def family_outlier(df):\n",
    "    mean=int(df['familysize'].mean())\n",
    "    index=df[df['familysize']>100].index\n",
    "    for i in index:\n",
    "        df.at[i,'familysize']=mean\n"
   ]
  },
  {
   "cell_type": "code",
   "execution_count": 2,
   "id": "24c2d497",
   "metadata": {},
   "outputs": [],
   "source": [
    "sample = pd.read_csv('sample_submission.csv')\n",
    "test = pd.read_csv('test.csv')\n",
    "train = pd.read_csv('train.csv')\n",
    "Question_te=test.loc[:, 'Q1':'Q26']\n"
   ]
  },
  {
   "cell_type": "code",
   "execution_count": 3,
   "id": "90571284",
   "metadata": {},
   "outputs": [],
   "source": [
    "country_map = {}\n",
    "\n",
    "for i, c in enumerate(train['country'].unique()):\n",
    "    country_map[c] = i\n",
    "    "
   ]
  },
  {
   "cell_type": "markdown",
   "id": "7d333bbe",
   "metadata": {},
   "source": [
    "# train feature"
   ]
  },
  {
   "cell_type": "code",
   "execution_count": 4,
<<<<<<< HEAD
   "id": "991ffe54",
=======
   "id": "ad9a32b9",
>>>>>>> d911d26a7ec3f476afbe36c41c7a45f792b17b72
   "metadata": {},
   "outputs": [],
   "source": [
    "train['country'] = train['country'].map(country_map)\n",
    "train = train.fillna(0)#test 결측치 0으로 채우기\n",
    "train=train.drop(train.loc[:,'VCL1':'VCL16'],axis=1)\n",
    "age_outlier(train)\n",
    "family_outlier(train)"
   ]
  },
  {
   "cell_type": "markdown",
   "id": "9e4f82b4",
   "metadata": {},
   "source": [
    "# test feature"
   ]
  },
  {
   "cell_type": "code",
   "execution_count": 5,
   "id": "967bc52e",
   "metadata": {},
   "outputs": [],
   "source": [
    "\n",
    "test['country'] = test['country'].map(country_map) #country열 Mapping\n",
    "test = test.fillna(0)\n",
    "test=test.drop(test.loc[:,'VCL1':'VCL16'],axis=1)\n",
    "age_outlier(test)\n",
    "family_outlier(test)"
   ]
  },
  {
   "cell_type": "code",
   "execution_count": 6,
   "id": "2fdc3e5d",
   "metadata": {},
   "outputs": [],
   "source": [
    "#vcl_tr(train)\n",
    "#vcl_te(test)"
   ]
  },
  {
   "cell_type": "code",
   "execution_count": 7,
<<<<<<< HEAD
=======
   "id": "66cf8646",
   "metadata": {},
   "outputs": [],
   "source": [
    "\n",
    "train=train.drop(train.loc[:,'VCL1':'VCL16'],axis=1)\n",
    "test=test.drop(test.loc[:,'VCL1':'VCL16'],axis=1)"
   ]
  },
  {
   "cell_type": "code",
   "execution_count": 8,
>>>>>>> d911d26a7ec3f476afbe36c41c7a45f792b17b72
   "id": "4ef1e24e",
   "metadata": {},
   "outputs": [],
   "source": [
    "#q_tr(train)\n",
    "#q_te(test)"
   ]
  },
  {
   "cell_type": "code",
<<<<<<< HEAD
   "execution_count": 8,
=======
   "execution_count": 9,
   "id": "9ddaea9c",
   "metadata": {},
   "outputs": [
    {
     "data": {
      "text/plain": [
       "\"\\ncol=test.loc[:, 'TIPI1':'TIPI10']\\ncol=col.columns.tolist()\\nfor i in col:\\n    exchange_nan(train,i)\\nfor i in col:\\n    exchange_nan(test,i)\\n\""
      ]
     },
     "execution_count": 9,
     "metadata": {},
     "output_type": "execute_result"
    }
   ],
   "source": [
    "'''\n",
    "col=test.loc[:, 'TIPI1':'TIPI10']\n",
    "col=col.columns.tolist()\n",
    "for i in col:\n",
    "    exchange_nan(train,i)\n",
    "for i in col:\n",
    "    exchange_nan(test,i)\n",
    "'''"
   ]
  },
  {
   "cell_type": "code",
   "execution_count": 10,
>>>>>>> d911d26a7ec3f476afbe36c41c7a45f792b17b72
   "id": "8a8d81ff",
   "metadata": {},
   "outputs": [
    {
     "data": {
      "text/plain": [
<<<<<<< HEAD
       "'\\n\\ncol=Question_te.columns.tolist()\\ncol\\n\\nfor i in col:\\n    question_nan(train,i)\\n    \\nfor i in col:\\n    question_nan(test,i)\\n'"
      ]
     },
     "execution_count": 8,
=======
       "'\\ncol=Question_te.columns.tolist()\\ncol\\n\\nfor i in col:\\n    exchange_nan(train,i)\\n    \\nfor i in col:\\n    exchange_nan(test,i)\\n'"
      ]
     },
     "execution_count": 10,
>>>>>>> d911d26a7ec3f476afbe36c41c7a45f792b17b72
     "metadata": {},
     "output_type": "execute_result"
    }
   ],
   "source": [
<<<<<<< HEAD
    "'''\n",
    "\n",
=======
    "\n",
    "'''\n",
>>>>>>> d911d26a7ec3f476afbe36c41c7a45f792b17b72
    "col=Question_te.columns.tolist()\n",
    "col\n",
    "\n",
    "for i in col:\n",
    "    exchange_nan(train,i)\n",
    "    \n",
    "for i in col:\n",
<<<<<<< HEAD
    "    question_nan(test,i)\n",
=======
    "    exchange_nan(test,i)\n",
>>>>>>> d911d26a7ec3f476afbe36c41c7a45f792b17b72
    "'''"
   ]
  },
  {
   "cell_type": "code",
<<<<<<< HEAD
   "execution_count": 9,
=======
   "execution_count": 11,
>>>>>>> d911d26a7ec3f476afbe36c41c7a45f792b17b72
   "id": "f0e5e712",
   "metadata": {},
   "outputs": [],
   "source": [
    "\n",
    "train=train.drop('index',axis=1)\n",
    "test=test.drop('index',axis=1)"
   ]
  },
  {
   "cell_type": "code",
<<<<<<< HEAD
   "execution_count": 10,
   "id": "b06908cc",
=======
   "execution_count": 12,
   "id": "c9d97686",
>>>>>>> d911d26a7ec3f476afbe36c41c7a45f792b17b72
   "metadata": {},
   "outputs": [],
   "source": [
    "\n",
    "from sklearn.preprocessing import RobustScaler\n",
    "\n",
    "\n",
    "promos = ['introelapse','testelapse','surveyelapse']\n",
    "#MinMaxScaler\n",
    "#StandardScaler\n",
    "#RobustScaler\n",
    "#QuantileTransformer\n",
    "#PowerTransformer\n",
    "#KBinsDiscretizer\n",
    "scaler = QuantileTransformer()\n",
    "scaler.fit(train[promos])\n",
    "train[promos] = scaler.transform(train[promos])\n",
    "test[promos] = scaler.transform(test[promos])"
   ]
  },
  {
   "cell_type": "code",
<<<<<<< HEAD
   "execution_count": 11,
=======
   "execution_count": null,
   "id": "ba6b010e",
   "metadata": {},
   "outputs": [],
   "source": []
  },
  {
   "cell_type": "code",
   "execution_count": 13,
>>>>>>> d911d26a7ec3f476afbe36c41c7a45f792b17b72
   "id": "23b95c12",
   "metadata": {},
   "outputs": [],
   "source": [
    "\n",
    "x_train = train.drop('nerdiness',axis=1)\n",
    "#x_train=x_train.loc[:, 'Q1':'Q26']\n",
    "y_train = train['nerdiness']"
   ]
  },
  {
   "cell_type": "code",
<<<<<<< HEAD
   "execution_count": null,
=======
   "execution_count": 14,
   "id": "5c3b3c4b",
   "metadata": {},
   "outputs": [
    {
     "name": "stdout",
     "output_type": "stream",
     "text": [
      "<class 'pandas.core.frame.DataFrame'>\n",
      "RangeIndex: 35452 entries, 0 to 35451\n",
      "Data columns (total 53 columns):\n",
      " #   Column        Non-Null Count  Dtype  \n",
      "---  ------        --------------  -----  \n",
      " 0   Q1            35452 non-null  float64\n",
      " 1   Q2            35452 non-null  float64\n",
      " 2   Q3            35452 non-null  float64\n",
      " 3   Q4            35452 non-null  float64\n",
      " 4   Q5            35452 non-null  float64\n",
      " 5   Q6            35452 non-null  float64\n",
      " 6   Q7            35452 non-null  float64\n",
      " 7   Q8            35452 non-null  float64\n",
      " 8   Q9            35452 non-null  float64\n",
      " 9   Q10           35452 non-null  float64\n",
      " 10  Q11           35452 non-null  float64\n",
      " 11  Q12           35452 non-null  float64\n",
      " 12  Q13           35452 non-null  float64\n",
      " 13  Q14           35452 non-null  float64\n",
      " 14  Q15           35452 non-null  float64\n",
      " 15  Q16           35452 non-null  float64\n",
      " 16  Q17           35452 non-null  float64\n",
      " 17  Q18           35452 non-null  float64\n",
      " 18  Q19           35452 non-null  float64\n",
      " 19  Q20           35452 non-null  float64\n",
      " 20  Q21           35452 non-null  float64\n",
      " 21  Q22           35452 non-null  float64\n",
      " 22  Q23           35452 non-null  float64\n",
      " 23  Q24           35452 non-null  float64\n",
      " 24  Q25           35452 non-null  float64\n",
      " 25  Q26           35452 non-null  float64\n",
      " 26  country       35452 non-null  float64\n",
      " 27  introelapse   35452 non-null  float64\n",
      " 28  testelapse    35452 non-null  float64\n",
      " 29  surveyelapse  35452 non-null  float64\n",
      " 30  TIPI1         35452 non-null  float64\n",
      " 31  TIPI2         35452 non-null  float64\n",
      " 32  TIPI3         35452 non-null  float64\n",
      " 33  TIPI4         35452 non-null  float64\n",
      " 34  TIPI5         35452 non-null  float64\n",
      " 35  TIPI6         35452 non-null  float64\n",
      " 36  TIPI7         35452 non-null  float64\n",
      " 37  TIPI8         35452 non-null  float64\n",
      " 38  TIPI9         35452 non-null  float64\n",
      " 39  TIPI10        35452 non-null  float64\n",
      " 40  education     35452 non-null  float64\n",
      " 41  urban         35452 non-null  int64  \n",
      " 42  gender        35452 non-null  float64\n",
      " 43  engnat        35452 non-null  float64\n",
      " 44  age           35452 non-null  int64  \n",
      " 45  hand          35452 non-null  float64\n",
      " 46  religion      35452 non-null  float64\n",
      " 47  orientation   35452 non-null  float64\n",
      " 48  voted         35452 non-null  float64\n",
      " 49  married       35452 non-null  float64\n",
      " 50  familysize    35452 non-null  float64\n",
      " 51  ASD           35452 non-null  float64\n",
      " 52  VCL_M         35452 non-null  int64  \n",
      "dtypes: float64(50), int64(3)\n",
      "memory usage: 14.3 MB\n"
     ]
    }
   ],
   "source": [
    "test.info()"
   ]
  },
  {
   "cell_type": "code",
   "execution_count": 15,
>>>>>>> d911d26a7ec3f476afbe36c41c7a45f792b17b72
   "id": "245832ed",
   "metadata": {},
   "outputs": [
    {
     "name": "stdout",
     "output_type": "stream",
     "text": [
      "Fitting 5 folds for each of 3 candidates, totalling 15 fits\n"
     ]
<<<<<<< HEAD
=======
    },
    {
     "data": {
      "text/plain": [
       "GridSearchCV(estimator=RandomForestClassifier(n_jobs=-1, random_state=42),\n",
       "             n_jobs=-1, param_grid={'n_estimators': [100, 1000, 3000]},\n",
       "             scoring='accuracy', verbose=1)"
      ]
     },
     "execution_count": 15,
     "metadata": {},
     "output_type": "execute_result"
>>>>>>> d911d26a7ec3f476afbe36c41c7a45f792b17b72
    }
   ],
   "source": [
    "from sklearn.ensemble import RandomForestClassifier\n",
    "model = RandomForestClassifier(random_state=42, n_jobs=-1)\n",
    "\n",
    "from sklearn.model_selection import KFold, GridSearchCV #하이퍼파라미터 튜닝을 위한 불러오기\n",
    "from sklearn.metrics import accuracy_score\n",
    "\n",
    "model_param_grid = {'n_estimators' : [100, 1000, 3000]} # Default(100)대비 큰값으로 Dictionary구성\n",
    "\n",
    "model_grid = GridSearchCV(model, param_grid = model_param_grid, scoring=\"accuracy\",n_jobs=-1,verbose=1) #훈련 (장치 사양에 따라 시간이 걸릴 수 있음)\n",
    "model_grid.fit(x_train, y_train)"
   ]
  },
  {
   "cell_type": "code",
<<<<<<< HEAD
   "execution_count": null,
=======
   "execution_count": 16,
>>>>>>> d911d26a7ec3f476afbe36c41c7a45f792b17b72
   "id": "61938b56",
   "metadata": {},
   "outputs": [],
   "source": [
    "\n",
    "gcv=GridSearchCV(model, param_grid=model_param_grid, scoring='f1', n_jobs=-1)"
   ]
  },
  {
   "cell_type": "code",
<<<<<<< HEAD
   "execution_count": null,
   "id": "6def8d1e",
   "metadata": {},
   "outputs": [],
=======
   "execution_count": 17,
   "id": "6def8d1e",
   "metadata": {},
   "outputs": [
    {
     "name": "stdout",
     "output_type": "stream",
     "text": [
      "final params {'n_estimators': 3000}\n"
     ]
    },
    {
     "data": {
      "text/plain": [
       "RandomForestClassifier(n_estimators=3000, n_jobs=-1, random_state=42)"
      ]
     },
     "execution_count": 17,
     "metadata": {},
     "output_type": "execute_result"
    }
   ],
>>>>>>> d911d26a7ec3f476afbe36c41c7a45f792b17b72
   "source": [
    "\n",
    "gcv.fit(x_train.values,y_train.values)\n",
    "print('final params', gcv.best_params_)   # 최적의 파라미터 값 출력\n",
    "\n",
    "model = RandomForestClassifier(n_estimators=3000, random_state=42, n_jobs=-1)\n",
    "\n",
    "model.fit(x_train, y_train) #학습"
   ]
  },
  {
   "cell_type": "code",
<<<<<<< HEAD
   "execution_count": null,
=======
   "execution_count": 18,
>>>>>>> d911d26a7ec3f476afbe36c41c7a45f792b17b72
   "id": "8f70c3b4",
   "metadata": {},
   "outputs": [],
   "source": [
    "\n",
    "pred = model.predict_proba(test)[:,1] #proba를 통해 확률값으로 변환"
   ]
  },
  {
   "cell_type": "code",
<<<<<<< HEAD
   "execution_count": null,
=======
   "execution_count": 19,
>>>>>>> d911d26a7ec3f476afbe36c41c7a45f792b17b72
   "id": "9fddc261",
   "metadata": {},
   "outputs": [],
   "source": [
    "sample['nerdiness'] = pred"
   ]
  },
  {
   "cell_type": "code",
   "execution_count": null,
   "id": "0d3bd5b1",
   "metadata": {},
   "outputs": [],
<<<<<<< HEAD
=======
   "source": []
  },
  {
   "cell_type": "code",
   "execution_count": 20,
   "id": "59ed8ca1",
   "metadata": {},
   "outputs": [
    {
     "data": {
      "text/html": [
       "<div>\n",
       "<style scoped>\n",
       "    .dataframe tbody tr th:only-of-type {\n",
       "        vertical-align: middle;\n",
       "    }\n",
       "\n",
       "    .dataframe tbody tr th {\n",
       "        vertical-align: top;\n",
       "    }\n",
       "\n",
       "    .dataframe thead th {\n",
       "        text-align: right;\n",
       "    }\n",
       "</style>\n",
       "<table border=\"1\" class=\"dataframe\">\n",
       "  <thead>\n",
       "    <tr style=\"text-align: right;\">\n",
       "      <th></th>\n",
       "      <th>index</th>\n",
       "      <th>nerdiness</th>\n",
       "    </tr>\n",
       "  </thead>\n",
       "  <tbody>\n",
       "  </tbody>\n",
       "</table>\n",
       "</div>"
      ],
      "text/plain": [
       "Empty DataFrame\n",
       "Columns: [index, nerdiness]\n",
       "Index: []"
      ]
     },
     "execution_count": 20,
     "metadata": {},
     "output_type": "execute_result"
    }
   ],
>>>>>>> d911d26a7ec3f476afbe36c41c7a45f792b17b72
   "source": [
    "sample"
   ]
  },
  {
   "cell_type": "code",
<<<<<<< HEAD
   "execution_count": null,
   "id": "59ed8ca1",
   "metadata": {},
   "outputs": [],
   "source": [
    "\n"
   ]
  },
  {
   "cell_type": "code",
   "execution_count": null,
=======
   "execution_count": 21,
>>>>>>> d911d26a7ec3f476afbe36c41c7a45f792b17b72
   "id": "0b2a090e",
   "metadata": {},
   "outputs": [],
   "source": [
<<<<<<< HEAD
    "sample.to_csv('result8.11_4.csv',index=False)"
=======
    "sample.to_csv('result8.9_3.csv',index=False)"
>>>>>>> d911d26a7ec3f476afbe36c41c7a45f792b17b72
   ]
  },
  {
   "cell_type": "code",
<<<<<<< HEAD
   "execution_count": null,
   "id": "3a071dd0",
   "metadata": {},
   "outputs": [],
=======
   "execution_count": 22,
   "id": "3a071dd0",
   "metadata": {},
   "outputs": [
    {
     "data": {
      "text/plain": [
       "19735.170333333335"
      ]
     },
     "execution_count": 22,
     "metadata": {},
     "output_type": "execute_result"
    }
   ],
>>>>>>> d911d26a7ec3f476afbe36c41c7a45f792b17b72
   "source": [
    "sample['nerdiness'].sum()\n",
    "#19384.0\n",
    "#19228.0  result8.6_3\n",
    "# 19729.191 result8.9_1\n",
    "# 19737.59333333333 result8.11_2.csv   0.9026266776\t\n",
    "# 19722.430333333334  result8.11_3.csv   0.9021614897\n",
    "#19731.831  result8.11_4"
   ]
  },
  {
   "cell_type": "code",
   "execution_count": null,
   "id": "217e1639",
   "metadata": {
    "scrolled": false
   },
   "outputs": [],
   "source": [
    "col=train.columns\n",
    "col=col.tolist()\n",
    "col\n",
    "for i in col:\n",
    "    print(i)\n",
    "    print(train[i].unique())\n"
   ]
  },
  {
   "cell_type": "code",
   "execution_count": null,
   "id": "00b31990",
   "metadata": {},
   "outputs": [],
   "source": [
    "plt.figure(figsize=(50,50))\n",
    "sns.heatmap(data = train.corr(), annot=True, \n",
    "fmt = '.2f', linewidths=.5, cmap='Blues')"
   ]
  },
  {
   "cell_type": "code",
   "execution_count": null,
   "id": "24daa732",
   "metadata": {},
   "outputs": [],
   "source": []
  },
  {
   "cell_type": "code",
   "execution_count": null,
   "id": "93338c96",
   "metadata": {},
   "outputs": [],
   "source": [
    "d"
   ]
  }
 ],
 "metadata": {
  "kernelspec": {
   "display_name": "Python 3 (ipykernel)",
   "language": "python",
   "name": "python3"
  },
  "language_info": {
   "codemirror_mode": {
    "name": "ipython",
    "version": 3
   },
   "file_extension": ".py",
   "mimetype": "text/x-python",
   "name": "python",
   "nbconvert_exporter": "python",
   "pygments_lexer": "ipython3",
   "version": "3.9.7"
  }
 },
 "nbformat": 4,
 "nbformat_minor": 5
}
