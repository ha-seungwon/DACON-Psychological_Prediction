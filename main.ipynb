{
 "cells": [
  {
   "cell_type": "code",
   "execution_count": 1,
   "id": "6c8fea31",
   "metadata": {},
   "outputs": [],
   "source": [
    "\n",
    "import pandas as pd\n",
    "import numpy as np\n",
    "from scipy import stats\n",
    "from math import ceil\n",
    "import matplotlib.pyplot as plt\n",
    "import seaborn as sns\n",
    "import sys\n",
    "import math\n",
    "import matplotlib.pyplot as plt\n",
    "from sklearn.model_selection import train_test_split\n",
    "import warnings\n",
    "from sklearn.metrics import confusion_matrix, accuracy_score, precision_score, recall_score\n",
    "from sklearn.metrics import confusion_matrix, f1_score, roc_auc_score\n",
    "from sklearn.preprocessing import QuantileTransformer\n",
    "\n",
    "import xgboost\n",
    "from xgboost import XGBRegressor    \n",
    "from xgboost import XGBRegressor as model\n",
    "\n",
    "def count1(df):\n",
    "    result=[]\n",
    "    index=df.index.tolist()\n",
    "    for i in index:\n",
    "        x=df.loc[i].sum()\n",
    "        result.append(x-1)\n",
    "    return result\n",
    "\n",
    "def vcl_tr(df):\n",
    "    df_=df.loc[:, 'VCL1':'VCL16']\n",
    "    result=[]\n",
    "    index=df_.index.tolist()\n",
    "    for i in index:\n",
    "        x=df_.loc[i].sum()\n",
    "        if(x>=9):\n",
    "            result.append(1)\n",
    "        else:\n",
    "            result.append(0)\n",
    "    train['VCL_M']=result\n",
    "    \n",
    "def vcl_te(df):\n",
    "    df_=df.loc[:, 'VCL1':'VCL16']\n",
    "    result=[]\n",
    "    index=df_.index.tolist()\n",
    "    for i in index:\n",
    "        x=df_.loc[i].sum()\n",
    "        if(x>=9):\n",
    "            result.append(1)\n",
    "        else:\n",
    "            result.append(0)\n",
    "    test['VCL_M']=result\n",
    "\n",
    "def count0(df):\n",
    "    result=[]\n",
    "    index=df.index.tolist()\n",
    "    for i in index:\n",
    "        x=df.loc[i].sum()\n",
    "        result.append(x-1)\n",
    "    return result\n",
    "\n",
    "\n",
    "def q_tr(df):\n",
    "    df_=df.loc[:, 'Q1':'Q26']\n",
    "    result=[]\n",
    "    index=df_.index.tolist()\n",
    "    for i in index:\n",
    "        x=df_.loc[i].tolist()\n",
    "        re=0\n",
    "        for j in x:\n",
    "            re+=((j-1)/4)*100\n",
    "        result.append(re/(len(x)-1))\n",
    "    train['Q_m']=result\n",
    "    \n",
    "def q_te(df):\n",
    "    df_=df.loc[:, 'Q1':'Q26']\n",
    "    result=[]\n",
    "    index=df_.index.tolist()\n",
    "    for i in index:\n",
    "        x=df_.loc[i].tolist()\n",
    "        re=0\n",
    "        for j in x:\n",
    "            re+=((j-1)/4)*100\n",
    "        result.append(re/(len(x)-1))\n",
    "    test['Q_m']=result\n",
    "    \n",
    "def question_nan(df,col):\n",
    "    print(col)\n",
    "    train_q0=df[df[col]==0.0]\n",
    "    train_q1=df[df[col]!=0.0]\n",
    "    test_=train_q0\n",
    "    #결과 없는 test\n",
    "    train_=train_q1\n",
    "    #결과 들어가있는 train\n",
    "    test_=test_.drop(col,axis=1)\n",
    "    y = train_[col]\n",
    "    x= train_.drop(col,axis =1)\n",
    "    model = XGBRegressor(objective='reg:squarederror',learning_rate=0.1,max_depth = 4, n_estimators = 1000,n_jobs=-1)\n",
    "    model.fit(x, y)\n",
    "    pred = model.predict(test_)      \n",
    "    pred=pred.round(0)\n",
    "    pred=pred.tolist()\n",
    "    for i in range(len(pred)):\n",
    "        if(pred[i]<=0):\n",
    "            pred[i]=1\n",
    "    index=test_.index.tolist()\n",
    "    for i in range(len(index)):\n",
    "        df.at[index[i],col]=pred[i]\n",
    "        \n",
    "\n",
    "def age_outlier(df):\n",
    "    mean=int(df['age'].mean())\n",
    "    index=df[df['age']>110].index\n",
    "\n",
    "    for i in index:\n",
    "        df.at[i,'age']=mean\n",
    "\n",
    "\n",
    "def family_outlier(df):\n",
    "    mean=int(df['familysize'].mean())\n",
    "    index=df[df['familysize']>30].index\n",
    "    for i in index:\n",
    "        df.at[i,'familysize']=mean\n",
    "        \n",
    "        \n",
    "def outlier_iqr(data, column): \n",
    "    print()\n",
    "\n",
    "    # lower, upper 글로벌 변수 선언하기     \n",
    "    global lower, upper    \n",
    "    \n",
    "    # 4분위수 기준 지정하기     \n",
    "    q25, q75 = np.quantile(data[column], 0.25), np.quantile(data[column], 0.75)          \n",
    "    \n",
    "    # IQR 계산하기     \n",
    "    iqr = q75 - q25    \n",
    "    \n",
    "    # outlier cutoff 계산하기     \n",
    "    cut_off = iqr * 1.5          \n",
    "    \n",
    "    # lower와 upper bound 값 구하기     \n",
    "    lower, upper = q25 - cut_off, q75 + cut_off     \n",
    "    \n",
    "    print('IQR은',iqr, '이다.')     \n",
    "    print('lower bound 값은', lower, '이다.')     \n",
    "    print('upper bound 값은', upper, '이다.')    \n",
    "    \n",
    "    # 1사 분위와 4사 분위에 속해있는 데이터 각각 저장하기     \n",
    "    data1 = data[data[column] > upper]\n",
    "    #data[data[column] > upper]  = upper\n",
    "    data2 = data[data[column] < lower] \n",
    "    #data[data[column] < lower] = lower\n",
    "    \n",
    "    sns.boxplot(data[column])\n",
    "    plt.show()\n",
    "    # 이상치 총 개수 구하기\n",
    "    return print('총 이상치 개수는', data1.shape[0] + data2.shape[0], '이다.')\n",
    "    \n",
    "\n"
   ]
  },
  {
   "cell_type": "code",
   "execution_count": 2,
   "id": "0d49c9ec",
   "metadata": {},
   "outputs": [],
   "source": [
    "sample = pd.read_csv('sample_submission.csv')\n",
    "test = pd.read_csv('test.csv')\n",
    "train = pd.read_csv('train.csv')\n",
    "Question_te=test.loc[:, 'Q1':'Q26']\n"
   ]
  },
  {
   "cell_type": "code",
   "execution_count": 3,
   "id": "c1992476",
   "metadata": {},
   "outputs": [],
   "source": [
    "country_map = {}\n",
    "\n",
    "for i, c in enumerate(train['country'].unique()):\n",
    "    country_map[c] = i\n",
    "    \n"
   ]
  },
  {
   "cell_type": "markdown",
   "id": "246ef2ee",
   "metadata": {},
   "source": [
    "# train feature"
   ]
  },
  {
   "cell_type": "code",
   "execution_count": 4,
   "id": "de3eb974",
   "metadata": {},
   "outputs": [],
   "source": [
    "\n",
    "train['country'] = train['country'].map(country_map)\n",
    "train = train.fillna(0)#test 결측치 0으로 채우기\n",
    "#vcl_tr(train)\n",
    "train=train.drop(train.loc[:,'VCL1':'VCL16'],axis=1)\n",
    "age_outlier(train)\n",
    "family_outlier(train)\n",
    "#q_tr(train)"
   ]
  },
  {
   "cell_type": "markdown",
   "id": "7d7cb9b6",
   "metadata": {},
   "source": [
    "# test feature"
   ]
  },
  {
   "cell_type": "code",
   "execution_count": 5,
   "id": "776b403c",
   "metadata": {},
   "outputs": [],
   "source": [
    "\n",
    "test['country'] = test['country'].map(country_map) #country열 Mapping\n",
    "test = test.fillna(0)\n",
    "#vcl_te(test)\n",
    "test=test.drop(test.loc[:,'VCL1':'VCL16'],axis=1)\n",
    "age_outlier(test)\n",
    "family_outlier(test)\n",
    "#q_te(test)"
   ]
  },
  {
   "cell_type": "code",
   "execution_count": 6,
   "id": "5b0b2720",
   "metadata": {},
   "outputs": [
    {
     "name": "stdout",
     "output_type": "stream",
     "text": [
      "Q1\n",
      "Q2\n",
      "Q3\n",
      "Q4\n",
      "Q5\n",
      "Q6\n",
      "Q7\n",
      "Q8\n",
      "Q9\n",
      "Q10\n",
      "Q11\n",
      "Q12\n",
      "Q13\n",
      "Q14\n",
      "Q15\n",
      "Q16\n",
      "Q17\n",
      "Q18\n",
      "Q19\n",
      "Q20\n",
      "Q21\n",
      "Q22\n",
      "Q23\n",
      "Q24\n",
      "Q25\n",
      "Q26\n",
      "Q1\n",
      "Q2\n",
      "Q3\n",
      "Q4\n",
      "Q5\n",
      "Q6\n",
      "Q7\n",
      "Q8\n",
      "Q9\n",
      "Q10\n",
      "Q11\n",
      "Q12\n",
      "Q13\n",
      "Q14\n",
      "Q15\n",
      "Q16\n",
      "Q17\n",
      "Q18\n",
      "Q19\n",
      "Q20\n",
      "Q21\n",
      "Q22\n",
      "Q23\n",
      "Q24\n",
      "Q25\n",
      "Q26\n"
     ]
    }
   ],
   "source": [
    "\n",
    "\n",
    "col=Question_te.columns.tolist()\n",
    "col\n",
    "\n",
    "for i in col:\n",
    "    question_nan(train,i)\n",
    "    \n",
    "for i in col:\n",
    "    question_nan(test,i)\n",
    "\n"
   ]
  },
  {
   "cell_type": "code",
   "execution_count": 7,
   "id": "b95dd689",
   "metadata": {},
   "outputs": [],
   "source": [
    "train=train.drop('index',axis=1)\n",
    "test=test.drop('index',axis=1)\n"
   ]
  },
  {
   "cell_type": "code",
   "execution_count": 8,
   "id": "159107fd",
   "metadata": {},
   "outputs": [],
   "source": [
    "from sklearn.preprocessing import RobustScaler\n",
    "\n",
    "\n",
    "promos = ['introelapse','testelapse','surveyelapse']\n",
    "#MinMaxScaler\n",
    "#StandardScaler\n",
    "#RobustScaler\n",
    "#QuantileTransformer\n",
    "#PowerTransformer\n",
    "#KBinsDiscretizer\n",
    "scaler = QuantileTransformer()\n",
    "scaler.fit(train[promos])\n",
    "train[promos] = scaler.transform(train[promos])\n",
    "test[promos] = scaler.transform(test[promos])\n",
    "\n"
   ]
  },
  {
   "cell_type": "code",
   "execution_count": 9,
   "id": "7d66ff09",
   "metadata": {},
   "outputs": [],
   "source": [
    "x_train = train.drop('nerdiness',axis=1)\n",
    "#x_train=x_train.loc[:, 'Q1':'Q26']\n",
    "y_train = train['nerdiness']\n",
    "\n"
   ]
  },
  {
   "cell_type": "code",
   "execution_count": 10,
   "id": "761917a4",
   "metadata": {},
   "outputs": [
    {
     "name": "stdout",
     "output_type": "stream",
     "text": [
      "[1. 4. 5. 3. 2.]\n",
      "\n",
      "IQR은 2.0 이다.\n",
      "lower bound 값은 0.0 이다.\n",
      "upper bound 값은 8.0 이다.\n"
     ]
    },
    {
     "name": "stderr",
     "output_type": "stream",
     "text": [
      "/Users/haseung-won/opt/anaconda3/lib/python3.9/site-packages/seaborn/_decorators.py:36: FutureWarning: Pass the following variable as a keyword arg: x. From version 0.12, the only valid positional argument will be `data`, and passing other arguments without an explicit keyword will result in an error or misinterpretation.\n",
      "  warnings.warn(\n"
     ]
    },
    {
     "data": {
      "image/png": "[encoded data removed]",
      "text/plain": [
       "<Figure size 432x288 with 1 Axes>"
      ]
     },
     "metadata": {
      "needs_background": "light"
     },
     "output_type": "display_data"
    },
    {
     "name": "stdout",
     "output_type": "stream",
     "text": [
      "총 이상치 개수는 0 이다.\n",
      "[5. 4. 3. 2. 1.]\n",
      "\n",
      "IQR은 1.0 이다.\n",
      "lower bound 값은 2.5 이다.\n",
      "upper bound 값은 6.5 이다.\n"
     ]
    },
    {
     "name": "stderr",
     "output_type": "stream",
     "text": [
      "/Users/haseung-won/opt/anaconda3/lib/python3.9/site-packages/seaborn/_decorators.py:36: FutureWarning: Pass the following variable as a keyword arg: x. From version 0.12, the only valid positional argument will be `data`, and passing other arguments without an explicit keyword will result in an error or misinterpretation.\n",
      "  warnings.warn(\n"
     ]
    },
    {
     "data": {
      "image/png": "[encoded data removed]",
      "text/plain": [
       "<Figure size 432x288 with 1 Axes>"
      ]
     },
     "metadata": {
      "needs_background": "light"
     },
     "output_type": "display_data"
    },
    {
     "name": "stdout",
     "output_type": "stream",
     "text": [
      "총 이상치 개수는 1893 이다.\n",
      "[5. 4. 3. 2. 1.]\n",
      "\n",
      "IQR은 1.0 이다.\n",
      "lower bound 값은 2.5 이다.\n",
      "upper bound 값은 6.5 이다.\n"
     ]
    },
    {
     "name": "stderr",
     "output_type": "stream",
     "text": [
      "/Users/haseung-won/opt/anaconda3/lib/python3.9/site-packages/seaborn/_decorators.py:36: FutureWarning: Pass the following variable as a keyword arg: x. From version 0.12, the only valid positional argument will be `data`, and passing other arguments without an explicit keyword will result in an error or misinterpretation.\n",
      "  warnings.warn(\n"
     ]
    },
    {
     "data": {
      "image/png": "[encoded data removed]",
      "text/plain": [
       "<Figure size 432x288 with 1 Axes>"
      ]
     },
     "metadata": {
      "needs_background": "light"
     },
     "output_type": "display_data"
    },
    {
     "name": "stdout",
     "output_type": "stream",
     "text": [
      "총 이상치 개수는 1290 이다.\n",
      "[5. 4. 2. 3. 1. 6.]\n",
      "\n",
      "IQR은 2.0 이다.\n",
      "lower bound 값은 0.0 이다.\n",
      "upper bound 값은 8.0 이다.\n"
     ]
    },
    {
     "name": "stderr",
     "output_type": "stream",
     "text": [
      "/Users/haseung-won/opt/anaconda3/lib/python3.9/site-packages/seaborn/_decorators.py:36: FutureWarning: Pass the following variable as a keyword arg: x. From version 0.12, the only valid positional argument will be `data`, and passing other arguments without an explicit keyword will result in an error or misinterpretation.\n",
      "  warnings.warn(\n"
     ]
    },
    {
     "data": {
      "image/png": "[encoded data removed]",
      "text/plain": [
       "<Figure size 432x288 with 1 Axes>"
      ]
     },
     "metadata": {
      "needs_background": "light"
     },
     "output_type": "display_data"
    },
    {
     "name": "stdout",
     "output_type": "stream",
     "text": [
      "총 이상치 개수는 0 이다.\n",
      "[1. 4. 3. 5. 2.]\n",
      "\n",
      "IQR은 2.0 이다.\n",
      "lower bound 값은 0.0 이다.\n",
      "upper bound 값은 8.0 이다.\n"
     ]
    },
    {
     "name": "stderr",
     "output_type": "stream",
     "text": [
      "/Users/haseung-won/opt/anaconda3/lib/python3.9/site-packages/seaborn/_decorators.py:36: FutureWarning: Pass the following variable as a keyword arg: x. From version 0.12, the only valid positional argument will be `data`, and passing other arguments without an explicit keyword will result in an error or misinterpretation.\n",
      "  warnings.warn(\n"
     ]
    },
    {
     "data": {
      "image/png": "[encoded data removed]",
      "text/plain": [
       "<Figure size 432x288 with 1 Axes>"
      ]
     },
     "metadata": {
      "needs_background": "light"
     },
     "output_type": "display_data"
    },
    {
     "name": "stdout",
     "output_type": "stream",
     "text": [
      "총 이상치 개수는 0 이다.\n",
      "[4. 5. 3. 2. 1.]\n",
      "\n",
      "IQR은 2.0 이다.\n",
      "lower bound 값은 0.0 이다.\n",
      "upper bound 값은 8.0 이다.\n"
     ]
    },
    {
     "name": "stderr",
     "output_type": "stream",
     "text": [
      "/Users/haseung-won/opt/anaconda3/lib/python3.9/site-packages/seaborn/_decorators.py:36: FutureWarning: Pass the following variable as a keyword arg: x. From version 0.12, the only valid positional argument will be `data`, and passing other arguments without an explicit keyword will result in an error or misinterpretation.\n",
      "  warnings.warn(\n"
     ]
    },
    {
     "data": {
      "image/png": "[encoded data removed]",
      "text/plain": [
       "<Figure size 432x288 with 1 Axes>"
      ]
     },
     "metadata": {
      "needs_background": "light"
     },
     "output_type": "display_data"
    },
    {
     "name": "stdout",
     "output_type": "stream",
     "text": [
      "총 이상치 개수는 0 이다.\n",
      "[5. 4. 3. 2. 1.]\n",
      "\n",
      "IQR은 1.0 이다.\n",
      "lower bound 값은 2.5 이다.\n",
      "upper bound 값은 6.5 이다.\n"
     ]
    },
    {
     "name": "stderr",
     "output_type": "stream",
     "text": [
      "/Users/haseung-won/opt/anaconda3/lib/python3.9/site-packages/seaborn/_decorators.py:36: FutureWarning: Pass the following variable as a keyword arg: x. From version 0.12, the only valid positional argument will be `data`, and passing other arguments without an explicit keyword will result in an error or misinterpretation.\n",
      "  warnings.warn(\n"
     ]
    },
    {
     "data": {
      "image/png": "[encoded data removed]",
      "text/plain": [
       "<Figure size 432x288 with 1 Axes>"
      ]
     },
     "metadata": {
      "needs_background": "light"
     },
     "output_type": "display_data"
    },
    {
     "name": "stdout",
     "output_type": "stream",
     "text": [
      "총 이상치 개수는 1384 이다.\n",
      "[5. 4. 2. 3. 1.]\n",
      "\n",
      "IQR은 2.0 이다.\n",
      "lower bound 값은 0.0 이다.\n",
      "upper bound 값은 8.0 이다.\n"
     ]
    },
    {
     "name": "stderr",
     "output_type": "stream",
     "text": [
      "/Users/haseung-won/opt/anaconda3/lib/python3.9/site-packages/seaborn/_decorators.py:36: FutureWarning: Pass the following variable as a keyword arg: x. From version 0.12, the only valid positional argument will be `data`, and passing other arguments without an explicit keyword will result in an error or misinterpretation.\n",
      "  warnings.warn(\n"
     ]
    },
    {
     "data": {
      "image/png": "[encoded data removed]",
      "text/plain": [
       "<Figure size 432x288 with 1 Axes>"
      ]
     },
     "metadata": {
      "needs_background": "light"
     },
     "output_type": "display_data"
    },
    {
     "name": "stdout",
     "output_type": "stream",
     "text": [
      "총 이상치 개수는 0 이다.\n",
      "[1. 3. 4. 5. 2. 6.]\n",
      "\n",
      "IQR은 2.0 이다.\n",
      "lower bound 값은 0.0 이다.\n",
      "upper bound 값은 8.0 이다.\n"
     ]
    },
    {
     "name": "stderr",
     "output_type": "stream",
     "text": [
      "/Users/haseung-won/opt/anaconda3/lib/python3.9/site-packages/seaborn/_decorators.py:36: FutureWarning: Pass the following variable as a keyword arg: x. From version 0.12, the only valid positional argument will be `data`, and passing other arguments without an explicit keyword will result in an error or misinterpretation.\n",
      "  warnings.warn(\n"
     ]
    },
    {
     "data": {
      "image/png": "[encoded data removed]",
      "text/plain": [
       "<Figure size 432x288 with 1 Axes>"
      ]
     },
     "metadata": {
      "needs_background": "light"
     },
     "output_type": "display_data"
    },
    {
     "name": "stderr",
     "output_type": "stream",
     "text": [
      "/Users/haseung-won/opt/anaconda3/lib/python3.9/site-packages/seaborn/_decorators.py:36: FutureWarning: Pass the following variable as a keyword arg: x. From version 0.12, the only valid positional argument will be `data`, and passing other arguments without an explicit keyword will result in an error or misinterpretation.\n",
      "  warnings.warn(\n"
     ]
    },
    {
     "name": "stdout",
     "output_type": "stream",
     "text": [
      "총 이상치 개수는 0 이다.\n",
      "[3. 4. 5. 2. 1.]\n",
      "\n",
      "IQR은 1.0 이다.\n",
      "lower bound 값은 2.5 이다.\n",
      "upper bound 값은 6.5 이다.\n"
     ]
    },
    {
     "data": {
      "image/png": "[encoded data removed]",
      "text/plain": [
       "<Figure size 432x288 with 1 Axes>"
      ]
     },
     "metadata": {
      "needs_background": "light"
     },
     "output_type": "display_data"
    },
    {
     "name": "stdout",
     "output_type": "stream",
     "text": [
      "총 이상치 개수는 1186 이다.\n"
     ]
    },
    {
     "name": "stderr",
     "output_type": "stream",
     "text": [
      "/Users/haseung-won/opt/anaconda3/lib/python3.9/site-packages/seaborn/_decorators.py:36: FutureWarning: Pass the following variable as a keyword arg: x. From version 0.12, the only valid positional argument will be `data`, and passing other arguments without an explicit keyword will result in an error or misinterpretation.\n",
      "  warnings.warn(\n"
     ]
    },
    {
     "name": "stdout",
     "output_type": "stream",
     "text": [
      "[5. 1. 2. 4. 3.]\n",
      "\n",
      "IQR은 4.0 이다.\n",
      "lower bound 값은 -5.0 이다.\n",
      "upper bound 값은 11.0 이다.\n"
     ]
    },
    {
     "data": {
      "image/png": "[encoded data removed]",
      "text/plain": [
       "<Figure size 432x288 with 1 Axes>"
      ]
     },
     "metadata": {
      "needs_background": "light"
     },
     "output_type": "display_data"
    },
    {
     "name": "stderr",
     "output_type": "stream",
     "text": [
      "/Users/haseung-won/opt/anaconda3/lib/python3.9/site-packages/seaborn/_decorators.py:36: FutureWarning: Pass the following variable as a keyword arg: x. From version 0.12, the only valid positional argument will be `data`, and passing other arguments without an explicit keyword will result in an error or misinterpretation.\n",
      "  warnings.warn(\n"
     ]
    },
    {
     "name": "stdout",
     "output_type": "stream",
     "text": [
      "총 이상치 개수는 0 이다.\n",
      "[5. 4. 2. 3. 1.]\n",
      "\n",
      "IQR은 2.0 이다.\n",
      "lower bound 값은 0.0 이다.\n",
      "upper bound 값은 8.0 이다.\n"
     ]
    },
    {
     "data": {
      "image/png": "[encoded data removed]",
      "text/plain": [
       "<Figure size 432x288 with 1 Axes>"
      ]
     },
     "metadata": {
      "needs_background": "light"
     },
     "output_type": "display_data"
    },
    {
     "name": "stdout",
     "output_type": "stream",
     "text": [
      "총 이상치 개수는 0 이다.\n",
      "[5. 2. 3. 1. 4.]\n",
      "\n",
      "IQR은 2.0 이다.\n",
      "lower bound 값은 0.0 이다.\n",
      "upper bound 값은 8.0 이다.\n"
     ]
    },
    {
     "name": "stderr",
     "output_type": "stream",
     "text": [
      "/Users/haseung-won/opt/anaconda3/lib/python3.9/site-packages/seaborn/_decorators.py:36: FutureWarning: Pass the following variable as a keyword arg: x. From version 0.12, the only valid positional argument will be `data`, and passing other arguments without an explicit keyword will result in an error or misinterpretation.\n",
      "  warnings.warn(\n"
     ]
    },
    {
     "data": {
      "image/png": "[encoded data removed]",
      "text/plain": [
       "<Figure size 432x288 with 1 Axes>"
      ]
     },
     "metadata": {
      "needs_background": "light"
     },
     "output_type": "display_data"
    },
    {
     "name": "stdout",
     "output_type": "stream",
     "text": [
      "총 이상치 개수는 0 이다.\n",
      "[5. 3. 4. 2. 1.]\n",
      "\n",
      "IQR은 2.0 이다.\n",
      "lower bound 값은 0.0 이다.\n",
      "upper bound 값은 8.0 이다.\n"
     ]
    },
    {
     "name": "stderr",
     "output_type": "stream",
     "text": [
      "/Users/haseung-won/opt/anaconda3/lib/python3.9/site-packages/seaborn/_decorators.py:36: FutureWarning: Pass the following variable as a keyword arg: x. From version 0.12, the only valid positional argument will be `data`, and passing other arguments without an explicit keyword will result in an error or misinterpretation.\n",
      "  warnings.warn(\n"
     ]
    },
    {
     "data": {
      "image/png": "[encoded data removed]",
      "text/plain": [
       "<Figure size 432x288 with 1 Axes>"
      ]
     },
     "metadata": {
      "needs_background": "light"
     },
     "output_type": "display_data"
    },
    {
     "name": "stdout",
     "output_type": "stream",
     "text": [
      "총 이상치 개수는 0 이다.\n",
      "[5. 1. 4. 3. 2.]\n",
      "\n",
      "IQR은 3.0 이다.\n",
      "lower bound 값은 -3.5 이다.\n",
      "upper bound 값은 8.5 이다.\n"
     ]
    },
    {
     "name": "stderr",
     "output_type": "stream",
     "text": [
      "/Users/haseung-won/opt/anaconda3/lib/python3.9/site-packages/seaborn/_decorators.py:36: FutureWarning: Pass the following variable as a keyword arg: x. From version 0.12, the only valid positional argument will be `data`, and passing other arguments without an explicit keyword will result in an error or misinterpretation.\n",
      "  warnings.warn(\n"
     ]
    },
    {
     "data": {
      "image/png": "[encoded data removed]",
      "text/plain": [
       "<Figure size 432x288 with 1 Axes>"
      ]
     },
     "metadata": {
      "needs_background": "light"
     },
     "output_type": "display_data"
    },
    {
     "name": "stdout",
     "output_type": "stream",
     "text": [
      "총 이상치 개수는 0 이다.\n",
      "[5. 2. 3. 1. 4.]\n",
      "\n",
      "IQR은 3.0 이다.\n",
      "lower bound 값은 -2.5 이다.\n",
      "upper bound 값은 9.5 이다.\n"
     ]
    },
    {
     "name": "stderr",
     "output_type": "stream",
     "text": [
      "/Users/haseung-won/opt/anaconda3/lib/python3.9/site-packages/seaborn/_decorators.py:36: FutureWarning: Pass the following variable as a keyword arg: x. From version 0.12, the only valid positional argument will be `data`, and passing other arguments without an explicit keyword will result in an error or misinterpretation.\n",
      "  warnings.warn(\n"
     ]
    },
    {
     "data": {
      "image/png": "[encoded data removed]",
      "text/plain": [
       "<Figure size 432x288 with 1 Axes>"
      ]
     },
     "metadata": {
      "needs_background": "light"
     },
     "output_type": "display_data"
    },
    {
     "name": "stdout",
     "output_type": "stream",
     "text": [
      "총 이상치 개수는 0 이다.\n",
      "[5. 4. 1. 2. 3.]\n",
      "\n",
      "IQR은 2.0 이다.\n",
      "lower bound 값은 0.0 이다.\n",
      "upper bound 값은 8.0 이다.\n"
     ]
    },
    {
     "name": "stderr",
     "output_type": "stream",
     "text": [
      "/Users/haseung-won/opt/anaconda3/lib/python3.9/site-packages/seaborn/_decorators.py:36: FutureWarning: Pass the following variable as a keyword arg: x. From version 0.12, the only valid positional argument will be `data`, and passing other arguments without an explicit keyword will result in an error or misinterpretation.\n",
      "  warnings.warn(\n"
     ]
    },
    {
     "data": {
      "image/png": "[encoded data removed]",
      "text/plain": [
       "<Figure size 432x288 with 1 Axes>"
      ]
     },
     "metadata": {
      "needs_background": "light"
     },
     "output_type": "display_data"
    },
    {
     "name": "stdout",
     "output_type": "stream",
     "text": [
      "총 이상치 개수는 0 이다.\n",
      "[1. 5. 3. 2. 4.]\n",
      "\n",
      "IQR은 2.0 이다.\n",
      "lower bound 값은 0.0 이다.\n",
      "upper bound 값은 8.0 이다.\n"
     ]
    },
    {
     "name": "stderr",
     "output_type": "stream",
     "text": [
      "/Users/haseung-won/opt/anaconda3/lib/python3.9/site-packages/seaborn/_decorators.py:36: FutureWarning: Pass the following variable as a keyword arg: x. From version 0.12, the only valid positional argument will be `data`, and passing other arguments without an explicit keyword will result in an error or misinterpretation.\n",
      "  warnings.warn(\n"
     ]
    },
    {
     "data": {
      "image/png": "[encoded data removed]",
      "text/plain": [
       "<Figure size 432x288 with 1 Axes>"
      ]
     },
     "metadata": {
      "needs_background": "light"
     },
     "output_type": "display_data"
    },
    {
     "name": "stderr",
     "output_type": "stream",
     "text": [
      "/Users/haseung-won/opt/anaconda3/lib/python3.9/site-packages/seaborn/_decorators.py:36: FutureWarning: Pass the following variable as a keyword arg: x. From version 0.12, the only valid positional argument will be `data`, and passing other arguments without an explicit keyword will result in an error or misinterpretation.\n",
      "  warnings.warn(\n"
     ]
    },
    {
     "name": "stdout",
     "output_type": "stream",
     "text": [
      "총 이상치 개수는 0 이다.\n",
      "[5. 1. 4. 3. 2. 6.]\n",
      "\n",
      "IQR은 3.0 이다.\n",
      "lower bound 값은 -2.5 이다.\n",
      "upper bound 값은 9.5 이다.\n"
     ]
    },
    {
     "data": {
      "image/png": "[encoded data removed]",
      "text/plain": [
       "<Figure size 432x288 with 1 Axes>"
      ]
     },
     "metadata": {
      "needs_background": "light"
     },
     "output_type": "display_data"
    },
    {
     "name": "stdout",
     "output_type": "stream",
     "text": [
      "총 이상치 개수는 0 이다.\n"
     ]
    },
    {
     "name": "stderr",
     "output_type": "stream",
     "text": [
      "/Users/haseung-won/opt/anaconda3/lib/python3.9/site-packages/seaborn/_decorators.py:36: FutureWarning: Pass the following variable as a keyword arg: x. From version 0.12, the only valid positional argument will be `data`, and passing other arguments without an explicit keyword will result in an error or misinterpretation.\n",
      "  warnings.warn(\n"
     ]
    },
    {
     "name": "stdout",
     "output_type": "stream",
     "text": [
      "[5. 3. 2. 4. 1.]\n",
      "\n",
      "IQR은 2.0 이다.\n",
      "lower bound 값은 0.0 이다.\n",
      "upper bound 값은 8.0 이다.\n"
     ]
    },
    {
     "data": {
      "image/png": "[encoded data removed]",
      "text/plain": [
       "<Figure size 432x288 with 1 Axes>"
      ]
     },
     "metadata": {
      "needs_background": "light"
     },
     "output_type": "display_data"
    },
    {
     "name": "stdout",
     "output_type": "stream",
     "text": [
      "총 이상치 개수는 0 이다.\n"
     ]
    },
    {
     "name": "stderr",
     "output_type": "stream",
     "text": [
      "/Users/haseung-won/opt/anaconda3/lib/python3.9/site-packages/seaborn/_decorators.py:36: FutureWarning: Pass the following variable as a keyword arg: x. From version 0.12, the only valid positional argument will be `data`, and passing other arguments without an explicit keyword will result in an error or misinterpretation.\n",
      "  warnings.warn(\n"
     ]
    },
    {
     "name": "stdout",
     "output_type": "stream",
     "text": [
      "[1. 2. 3. 4. 5.]\n",
      "\n",
      "IQR은 4.0 이다.\n",
      "lower bound 값은 -5.0 이다.\n",
      "upper bound 값은 11.0 이다.\n"
     ]
    },
    {
     "data": {
      "image/png": "[encoded data removed]",
      "text/plain": [
       "<Figure size 432x288 with 1 Axes>"
      ]
     },
     "metadata": {
      "needs_background": "light"
     },
     "output_type": "display_data"
    },
    {
     "name": "stdout",
     "output_type": "stream",
     "text": [
      "총 이상치 개수는 0 이다.\n"
     ]
    },
    {
     "name": "stderr",
     "output_type": "stream",
     "text": [
      "/Users/haseung-won/opt/anaconda3/lib/python3.9/site-packages/seaborn/_decorators.py:36: FutureWarning: Pass the following variable as a keyword arg: x. From version 0.12, the only valid positional argument will be `data`, and passing other arguments without an explicit keyword will result in an error or misinterpretation.\n",
      "  warnings.warn(\n"
     ]
    },
    {
     "name": "stdout",
     "output_type": "stream",
     "text": [
      "[5. 1. 4. 2. 3.]\n",
      "\n",
      "IQR은 2.0 이다.\n",
      "lower bound 값은 -2.0 이다.\n",
      "upper bound 값은 6.0 이다.\n"
     ]
    },
    {
     "data": {
      "image/png": "[encoded data removed]",
      "text/plain": [
       "<Figure size 432x288 with 1 Axes>"
      ]
     },
     "metadata": {
      "needs_background": "light"
     },
     "output_type": "display_data"
    },
    {
     "name": "stderr",
     "output_type": "stream",
     "text": [
      "/Users/haseung-won/opt/anaconda3/lib/python3.9/site-packages/seaborn/_decorators.py:36: FutureWarning: Pass the following variable as a keyword arg: x. From version 0.12, the only valid positional argument will be `data`, and passing other arguments without an explicit keyword will result in an error or misinterpretation.\n",
      "  warnings.warn(\n"
     ]
    },
    {
     "name": "stdout",
     "output_type": "stream",
     "text": [
      "총 이상치 개수는 0 이다.\n",
      "[1. 5. 2. 3. 4.]\n",
      "\n",
      "IQR은 2.0 이다.\n",
      "lower bound 값은 0.0 이다.\n",
      "upper bound 값은 8.0 이다.\n"
     ]
    },
    {
     "data": {
      "image/png": "[encoded data removed]",
      "text/plain": [
       "<Figure size 432x288 with 1 Axes>"
      ]
     },
     "metadata": {
      "needs_background": "light"
     },
     "output_type": "display_data"
    },
    {
     "name": "stderr",
     "output_type": "stream",
     "text": [
      "/Users/haseung-won/opt/anaconda3/lib/python3.9/site-packages/seaborn/_decorators.py:36: FutureWarning: Pass the following variable as a keyword arg: x. From version 0.12, the only valid positional argument will be `data`, and passing other arguments without an explicit keyword will result in an error or misinterpretation.\n",
      "  warnings.warn(\n"
     ]
    },
    {
     "name": "stdout",
     "output_type": "stream",
     "text": [
      "총 이상치 개수는 0 이다.\n",
      "[5. 3. 4. 1. 2.]\n",
      "\n",
      "IQR은 1.0 이다.\n",
      "lower bound 값은 2.5 이다.\n",
      "upper bound 값은 6.5 이다.\n"
     ]
    },
    {
     "data": {
      "image/png": "[encoded data removed]",
      "text/plain": [
       "<Figure size 432x288 with 1 Axes>"
      ]
     },
     "metadata": {
      "needs_background": "light"
     },
     "output_type": "display_data"
    },
    {
     "name": "stdout",
     "output_type": "stream",
     "text": [
      "총 이상치 개수는 823 이다.\n",
      "[1. 2. 4. 3. 5.]\n",
      "\n",
      "IQR은 2.0 이다.\n",
      "lower bound 값은 -1.0 이다.\n",
      "upper bound 값은 7.0 이다.\n"
     ]
    },
    {
     "name": "stderr",
     "output_type": "stream",
     "text": [
      "/Users/haseung-won/opt/anaconda3/lib/python3.9/site-packages/seaborn/_decorators.py:36: FutureWarning: Pass the following variable as a keyword arg: x. From version 0.12, the only valid positional argument will be `data`, and passing other arguments without an explicit keyword will result in an error or misinterpretation.\n",
      "  warnings.warn(\n"
     ]
    },
    {
     "data": {
      "image/png": "[encoded data removed]",
      "text/plain": [
       "<Figure size 432x288 with 1 Axes>"
      ]
     },
     "metadata": {
      "needs_background": "light"
     },
     "output_type": "display_data"
    },
    {
     "name": "stdout",
     "output_type": "stream",
     "text": [
      "총 이상치 개수는 0 이다.\n",
      "[1. 5. 2. 4. 3.]\n",
      "\n",
      "IQR은 1.0 이다.\n",
      "lower bound 값은 2.5 이다.\n",
      "upper bound 값은 6.5 이다.\n"
     ]
    },
    {
     "name": "stderr",
     "output_type": "stream",
     "text": [
      "/Users/haseung-won/opt/anaconda3/lib/python3.9/site-packages/seaborn/_decorators.py:36: FutureWarning: Pass the following variable as a keyword arg: x. From version 0.12, the only valid positional argument will be `data`, and passing other arguments without an explicit keyword will result in an error or misinterpretation.\n",
      "  warnings.warn(\n"
     ]
    },
    {
     "data": {
      "image/png": "[encoded data removed]",
      "text/plain": [
       "<Figure size 432x288 with 1 Axes>"
      ]
     },
     "metadata": {
      "needs_background": "light"
     },
     "output_type": "display_data"
    },
    {
     "name": "stdout",
     "output_type": "stream",
     "text": [
      "총 이상치 개수는 1283 이다.\n",
      "[  0   1   2   3   4   5   6   7   8   9  10  11  12  13  14  15  16  17\n",
      "  18  19  20  21  22  23  24  25  26  27  28  29  30  31  32  33  34  35\n",
      "  36  37  38  39  40  41  42  43  44  45  46  47  48  49  50  51  52  53\n",
      "  54  55  56  57  58  59  60  61  62  63  64  65  66  67  68  69  70  71\n",
      "  72  73  74  75  76  77  78  79  80  81  82  83  84  85  86  87  88  89\n",
      "  90  91  92  93  94  95  96  97  98  99 100 101 102 103 104 105 106 107\n",
      " 108 109 110 111 112 113 114 115 116 117 118 119 120 121 122 123 124 125\n",
      " 126 127 128 129 130 131 132 133 134 135 136 137]\n",
      "\n",
      "IQR은 15.0 이다.\n",
      "lower bound 값은 -22.5 이다.\n",
      "upper bound 값은 37.5 이다.\n"
     ]
    },
    {
     "name": "stderr",
     "output_type": "stream",
     "text": [
      "/Users/haseung-won/opt/anaconda3/lib/python3.9/site-packages/seaborn/_decorators.py:36: FutureWarning: Pass the following variable as a keyword arg: x. From version 0.12, the only valid positional argument will be `data`, and passing other arguments without an explicit keyword will result in an error or misinterpretation.\n",
      "  warnings.warn(\n"
     ]
    },
    {
     "data": {
      "image/png": "[encoded data removed]",
      "text/plain": [
       "<Figure size 432x288 with 1 Axes>"
      ]
     },
     "metadata": {
      "needs_background": "light"
     },
     "output_type": "display_data"
    },
    {
     "name": "stdout",
     "output_type": "stream",
     "text": [
      "총 이상치 개수는 1339 이다.\n",
      "[0.18718719 0.32782783 0.46646647 ... 0.94534907 0.97714267 0.91993485]\n",
      "\n",
      "IQR은 0.47847847847847846 이다.\n",
      "lower bound 값은 -0.44744744744744736 이다.\n",
      "upper bound 값은 1.4664664664664664 이다.\n"
     ]
    },
    {
     "name": "stderr",
     "output_type": "stream",
     "text": [
      "/Users/haseung-won/opt/anaconda3/lib/python3.9/site-packages/seaborn/_decorators.py:36: FutureWarning: Pass the following variable as a keyword arg: x. From version 0.12, the only valid positional argument will be `data`, and passing other arguments without an explicit keyword will result in an error or misinterpretation.\n",
      "  warnings.warn(\n"
     ]
    },
    {
     "data": {
      "image/png": "[encoded data removed]",
      "text/plain": [
       "<Figure size 432x288 with 1 Axes>"
      ]
     },
     "metadata": {
      "needs_background": "light"
     },
     "output_type": "display_data"
    },
    {
     "name": "stdout",
     "output_type": "stream",
     "text": [
      "총 이상치 개수는 0 이다.\n",
      "[9.79668065e-01 2.83283283e-01 5.24524525e-01 6.40140140e-01\n",
      " 9.82982983e-01 4.43943944e-01 3.15315315e-01 2.20220220e-02\n",
      " 8.32832833e-01 7.17717718e-01 2.73273273e-01 5.62562563e-01\n",
      " 9.25925926e-02 9.71319849e-01 6.65665666e-01 9.68255291e-01\n",
      " 2.16716717e-01 4.00900901e-01 5.15015015e-01 5.53553554e-01\n",
      " 2.51251251e-01 7.54254254e-01 9.81850240e-01 8.60360360e-01\n",
      " 7.12712713e-01 4.33433433e-01 3.47347347e-01 8.00800801e-01\n",
      " 8.82882883e-01 7.00700701e-01 1.38638639e-01 4.60460460e-02\n",
      " 7.80780781e-02 3.26326326e-01 2.92792793e-01 1.29129129e-01\n",
      " 1.20120120e-01 2.39239239e-01 6.94194194e-01 6.52652653e-01\n",
      " 3.68368368e-01 8.71371371e-01 7.63263263e-01 6.72172172e-01\n",
      " 4.92992993e-01 5.80080080e-01 7.75775776e-01 9.76999504e-01\n",
      " 1.10610611e-01 4.11411411e-01 1.57657658e-01 1.85185185e-02\n",
      " 9.52952953e-01 1.97697698e-01 8.12812813e-01 8.07807808e-01\n",
      " 8.24824825e-01 9.72071429e-01 7.71771772e-01 1.01101101e-01\n",
      " 3.03803804e-01 9.71901312e-01 5.98098098e-01 4.71471471e-01\n",
      " 8.96896897e-01 6.59159159e-01 3.79379379e-01 9.74527903e-01\n",
      " 5.00500501e-03 8.79879880e-01 7.93293293e-01 8.81881882e-01\n",
      " 6.32132132e-01 9.92003512e-01 9.52452452e-01 7.44744745e-01\n",
      " 7.39739740e-01 2.62762763e-01 1.68168168e-01 4.81981982e-01\n",
      " 9.30930931e-01 8.35335335e-01 9.87992610e-01 9.02402402e-01\n",
      " 5.04004004e-01 9.54221692e-01 9.41941942e-01 8.37837838e-01\n",
      " 3.57857858e-01 7.06706707e-01 8.92892893e-01 4.53453453e-01\n",
      " 1.55155155e-02 2.28228228e-01 8.50850851e-02 7.58758759e-01\n",
      " 1.47647648e-01 5.34034034e-01 4.22422422e-01 7.89789790e-01\n",
      " 6.06106106e-01 8.62362362e-01 9.27927928e-01 5.89589590e-01\n",
      " 2.07207207e-01 7.97297297e-01 6.14614615e-01 8.88888889e-01\n",
      " 9.20920921e-01 9.64279753e-01 7.79279279e-01 8.41841842e-01\n",
      " 4.62462462e-01 1.78678679e-01 3.36836837e-01 9.06906907e-01\n",
      " 9.48615282e-01 9.17417417e-01 5.44044044e-01 7.49749750e-01\n",
      " 9.07907908e-01 5.75575576e-02 6.83183183e-01 8.73373373e-01\n",
      " 9.53703704e-01 2.66618926e-03 8.89889890e-01 9.13913914e-01\n",
      " 8.58358358e-01 6.47147147e-01 9.92074649e-01 8.64364364e-01\n",
      " 8.87387387e-01 9.70970971e-01 8.19819820e-01 9.65262527e-01\n",
      " 6.23623624e-01 9.73588172e-01 3.90390390e-01 3.00300300e-03\n",
      " 9.00400400e-01 7.05705706e-02 9.15915916e-01 7.23723724e-01\n",
      " 6.35635636e-02 8.69369369e-01 9.88294913e-01 8.49349349e-01\n",
      " 8.16316316e-01 9.61327127e-01 9.91203011e-01 8.29829830e-01\n",
      " 2.32937552e-03 9.50950951e-03 9.32426476e-01 6.77677678e-01\n",
      " 9.90587019e-01 9.99565304e-01 8.67367367e-01 9.69347692e-01\n",
      " 9.93549567e-01 9.14914915e-01 5.15515516e-02 9.96014635e-01\n",
      " 9.12912913e-01 8.78878879e-01 8.91391391e-01 9.22922923e-01\n",
      " 7.50750751e-03 7.83283283e-01 8.65865866e-01 4.10410410e-02\n",
      " 9.87131025e-01 8.75375375e-01 3.65365365e-02 1.88188188e-01\n",
      " 9.87030198e-01 7.34734735e-01 8.10310310e-01 6.88688689e-01\n",
      " 2.95295295e-02 9.74369638e-01 9.51951952e-01 9.21921922e-01\n",
      " 9.58250185e-01 8.44344344e-01 7.67267267e-01 9.52702703e-01\n",
      " 9.25961676e-01 9.78206015e-01 9.24924925e-01 9.05905906e-01\n",
      " 9.92861111e-01 9.11911912e-01 5.71071071e-01 9.83237998e-01\n",
      " 7.29729730e-01 9.82955371e-01 9.77908087e-01 9.59119859e-01\n",
      " 9.98070218e-01 9.46279613e-01 8.51351351e-01 1.15115115e-02\n",
      " 9.89214541e-01 8.22322322e-01 7.86286286e-01 3.30330330e-02\n",
      " 8.27327327e-01 9.91761687e-01 8.99399399e-01 9.45278612e-01\n",
      " 9.66045273e-01 9.81274893e-01 9.55955956e-01 1.35135135e-02\n",
      " 9.57957958e-01 9.20253587e-01 9.55194921e-01 9.64806069e-01\n",
      " 9.49282616e-01 9.96208585e-01 8.85885886e-01 9.91023437e-01\n",
      " 9.23923924e-01 9.55385180e-01 9.71785019e-01 9.17917918e-01\n",
      " 9.59959960e-01 9.77348959e-01 9.76237600e-01 9.04904905e-01\n",
      " 9.19038086e-01 2.55255255e-02 9.92529137e-01 9.26926927e-01\n",
      " 9.45945946e-01 9.40940941e-01 9.94296331e-01 9.29929930e-01\n",
      " 9.80699439e-01 4.00400400e-03 9.97305797e-01 9.58542411e-01\n",
      " 9.03903904e-01 1.74563591e-03 9.78576576e-01 9.56956957e-01\n",
      " 9.16916917e-01 6.00600601e-03 9.96686001e-01 9.81179002e-01\n",
      " 9.66711052e-01 9.67318396e-01 9.71087264e-01 9.93941238e-01\n",
      " 9.39939940e-01 9.69503262e-01 8.03803804e-01 8.95395395e-01\n",
      " 9.72142857e-01 9.81898185e-01 9.77488741e-01 8.77877878e-01\n",
      " 9.88111699e-01 9.35435435e-01 9.49616283e-01 9.08488291e-01\n",
      " 9.96101731e-01 9.86078183e-01 9.65661809e-01 9.79979980e-01\n",
      " 9.71436141e-01 8.93893894e-01 9.34934935e-01 8.84884885e-01\n",
      " 9.33933934e-01 9.28923944e-01 9.83025486e-01 9.38938939e-01\n",
      " 9.97407154e-01 8.53353353e-01 9.50950951e-01 9.65462168e-01\n",
      " 8.97897898e-01 9.98376311e-01 9.49949950e-01 9.25434869e-01\n",
      " 9.90268604e-01 9.84426848e-01 9.53953954e-01 9.74923566e-01\n",
      " 9.91153129e-01 9.62742115e-01 9.65062887e-01 9.18454687e-01\n",
      " 9.50617284e-01 9.69036554e-01 9.86302092e-01 9.20587254e-01\n",
      " 9.90507415e-01 9.46946947e-01 9.70146617e-01 9.87534332e-01\n",
      " 9.61510210e-01 9.93705084e-01 9.84360987e-01 9.93995555e-01\n",
      " 9.66877497e-01 8.55355355e-01 9.62079571e-01 9.37687688e-01\n",
      " 9.82927759e-01 9.37437437e-01 9.86486486e-01 9.40440440e-01\n",
      " 9.70617677e-01 1.99501247e-03 9.80459619e-01 9.73202369e-01\n",
      " 9.97166145e-01 9.94257342e-01 8.46846847e-01 9.96050521e-01\n",
      " 9.55765697e-01 9.56122789e-01 8.56856857e-01 9.42942943e-01\n",
      " 9.31886954e-01 8.86246033e-04 9.84854944e-01 9.79356150e-01\n",
      " 9.84097543e-01 9.96069473e-01 9.38438438e-01 9.75451442e-01\n",
      " 9.60794127e-01 9.69192123e-01 9.10910911e-01 9.29428174e-01\n",
      " 9.63797130e-01 8.84269121e-01 9.57557558e-01 9.93791482e-01\n",
      " 9.48281615e-01 9.75826592e-01 9.36603270e-01 9.97998106e-01\n",
      " 9.59679926e-01 9.55575438e-01 9.19919920e-01 9.66378162e-01\n",
      " 9.75601502e-01 9.44944945e-01 9.80507583e-01 9.79494779e-01\n",
      " 9.64490280e-01 9.39272606e-01 9.75526472e-01 9.82430741e-01\n",
      " 9.88203306e-01 9.09909910e-01 9.95990359e-01 9.75676532e-01\n",
      " 6.86125961e-04 9.88752947e-01 9.86736737e-01 9.79564093e-01\n",
      " 9.92161595e-01 9.90220841e-01 9.51201201e-01 9.80219800e-01\n",
      " 9.82099396e-01 9.41608275e-01 9.46613280e-01 9.67746539e-01\n",
      " 9.94340890e-01 9.60960961e-01 9.83110491e-01 9.94435579e-01\n",
      " 9.72214286e-01 9.81083111e-01 9.92620035e-01 9.32679704e-01\n",
      " 9.67889254e-01 9.82900147e-01 1.24688279e-03 9.43610277e-01\n",
      " 9.98541143e-01 9.99006384e-01 8.98898899e-01 9.77698414e-01\n",
      " 9.91103247e-01 9.87952043e-01 9.60126793e-01 9.94233205e-01\n",
      " 9.59399893e-01 9.92742549e-01 9.98301688e-01 9.71203556e-01\n",
      " 9.78091997e-01 9.81802294e-01 9.99203533e-01 9.56289623e-01\n",
      " 9.89225164e-01 9.95078146e-01 9.34434434e-01 9.89426993e-01\n",
      " 9.68588569e-01 9.99845206e-01 9.63296630e-01 9.79841351e-01\n",
      " 9.89989990e-01 9.81754349e-01 9.68505249e-01 9.57157157e-01\n",
      " 9.62962963e-01 9.50283617e-01 9.99461033e-01 9.95182655e-01\n",
      " 9.54489429e-01 9.77209177e-01 9.98110424e-01 9.32173247e-01\n",
      " 9.68005332e-01 9.93013899e-01 9.33266600e-01 9.52202202e-01\n",
      " 9.85111041e-01 9.69969970e-01 9.60293627e-01 9.62300419e-01\n",
      " 9.51451451e-01 9.79009577e-01 9.93999268e-01 9.67032967e-01\n",
      " 9.85506849e-01 9.97593842e-01 9.84756153e-01 9.74844434e-01\n",
      " 9.78890127e-01 9.89203918e-01 9.72011778e-04 9.78519566e-01\n",
      " 9.48948949e-01 8.29068870e-04 9.63463463e-01 9.67603825e-01\n",
      " 9.32932933e-01 9.64174490e-01 9.94444862e-01 9.70794324e-01\n",
      " 9.84229265e-01 1.00000000e+00 9.87692774e-01 9.53203203e-01\n",
      " 9.95617113e-01 9.61144044e-01 9.60460460e-01 9.82127008e-01\n",
      " 9.43943944e-01 9.85006881e-01 9.83998752e-01 9.89575709e-01\n",
      " 9.41274608e-01 9.82541189e-01 9.90069594e-01 9.63963964e-01\n",
      " 9.47614281e-01 9.77977978e-01 9.98030013e-01 9.93198215e-01\n",
      " 9.88084217e-01 9.62521267e-01 9.61876377e-01 9.97818617e-01\n",
      " 9.91462396e-01 9.47947948e-01 9.47280614e-01 9.36269603e-01\n",
      " 9.87246256e-01 9.88927001e-01 9.98746843e-01 9.97124312e-01\n",
      " 9.92260396e-01 9.84624431e-01 9.95860469e-01 9.97346798e-01\n",
      " 9.85152705e-01 9.78491062e-01 9.73105918e-01 9.57757758e-01\n",
      " 9.88496448e-01 9.69658831e-01 9.86433802e-01 9.88459805e-01\n",
      " 9.81610512e-01 9.83195496e-01 9.89671312e-01 9.95794778e-01\n",
      " 9.97668559e-01 9.86315263e-01 9.67175681e-01 9.85985986e-01\n",
      " 9.99074121e-01 9.82375517e-01 9.83067988e-01 9.88725465e-01\n",
      " 9.72714286e-01 9.39606273e-01 9.45612279e-01 9.83918039e-01\n",
      " 9.44611278e-01 9.90403930e-01 9.87188641e-01 9.92043033e-01\n",
      " 9.70735441e-01 9.37937938e-01 9.89033957e-01 9.75001262e-01\n",
      " 9.70264382e-01 9.82513577e-01 9.44277611e-01 9.87880024e-01\n",
      " 9.85736002e-01 9.73009468e-01 9.85860994e-01 9.33600267e-01\n",
      " 8.57657452e-05 9.94021548e-01 9.89002089e-01 9.94591537e-01\n",
      " 9.35935936e-01 9.51701702e-01 9.76107374e-01 9.80027944e-01\n",
      " 9.95428997e-01 9.14834615e-04 9.83493014e-01 9.92505425e-01\n",
      " 9.70853206e-01 9.90961157e-01 9.61693293e-01 9.93054218e-01\n",
      " 9.96039634e-01 9.93837561e-01 9.83833034e-01 9.70499912e-01\n",
      " 9.86367947e-01 9.86670881e-01 9.81466675e-01 9.84591500e-01\n",
      " 9.60627294e-01 9.85486017e-01 9.36936937e-01 9.90013871e-01\n",
      " 9.58834638e-01 9.97108078e-01 9.73973974e-01 9.70382147e-01\n",
      " 9.71668727e-01 9.80315727e-01 9.90977078e-01 9.43276610e-01\n",
      " 9.90308406e-01 9.75301382e-01 9.79702722e-01 9.95487224e-01\n",
      " 9.72500000e-01 9.73395270e-01 9.81988947e-01 9.86446973e-01\n",
      " 9.53453453e-01 9.88670501e-01 9.84130474e-01 9.56623290e-01\n",
      " 9.97756596e-01 9.88560573e-01 9.74448770e-01 9.85069377e-01\n",
      " 9.77838196e-01 9.98357864e-01 9.65861449e-01 9.64911332e-01\n",
      " 9.92244588e-01 9.90993508e-01 9.64069227e-01 9.70676559e-01\n",
      " 9.88716305e-01 9.94689939e-01 9.94879316e-01 9.96723904e-01\n",
      " 9.96335600e-01 9.89193296e-01 9.94175649e-01 9.76498050e-01\n",
      " 9.90905435e-01 9.87750390e-01 9.96292455e-01 9.84492709e-01\n",
      " 9.76888726e-01 9.72357143e-01 9.78747603e-01 9.76758501e-01\n",
      " 9.75151322e-01 9.95299108e-01 1.00060036e-03 9.98218452e-01\n",
      " 9.79737379e-01 9.85236033e-01 9.83280501e-01 9.68171971e-01\n",
      " 9.89522596e-01 9.95122936e-01 9.95563366e-01 9.82320292e-01\n",
      " 9.84328056e-01 9.73781073e-01 9.56790123e-01 9.68921846e-01\n",
      " 9.73491721e-01 9.63630297e-01 9.88047574e-01 9.85423521e-01\n",
      " 9.81946131e-01 9.86986987e-01 9.91741734e-01 9.98999235e-01\n",
      " 9.95002004e-01 9.95996893e-01 9.72642857e-01 9.78690594e-01\n",
      " 9.84262195e-01 9.80603511e-01 9.73684622e-01 9.85361025e-01\n",
      " 9.99770607e-01 9.97975544e-01 9.92501473e-01 9.63129796e-01\n",
      " 9.98014635e-01 9.91671900e-01 9.99050912e-01 9.75376412e-01\n",
      " 9.68338610e-01 9.96309391e-01 9.78006483e-01 0.00000000e+00\n",
      " 9.87174237e-01 9.93019659e-01 9.95426011e-01 9.64385017e-01\n",
      " 9.43423197e-04 9.72000000e-01 9.90141237e-01 9.89830651e-01\n",
      " 9.74211372e-01 9.96577534e-01 9.95999715e-01 9.97003183e-01\n",
      " 9.98258100e-01 1.49625935e-03 9.82347905e-01 9.92189259e-01\n",
      " 9.78918631e-01 9.91013460e-01 9.89596954e-01 9.79425464e-01\n",
      " 9.72928571e-01 9.86341605e-01 9.99122261e-01 9.74132239e-01\n",
      " 9.64595543e-01 9.68838527e-01 9.99121958e-01 9.98272815e-01\n",
      " 9.93146376e-01 9.95996086e-01 9.57357357e-01 9.54757167e-01\n",
      " 9.93803002e-01 9.70205500e-01 9.91422491e-01 9.94702935e-01]\n",
      "\n",
      "IQR은 0.4984984984984986 이다.\n",
      "lower bound 값은 -0.49649649649649663 이다.\n",
      "upper bound 값은 1.4974974974974977 이다.\n"
     ]
    },
    {
     "name": "stderr",
     "output_type": "stream",
     "text": [
      "/Users/haseung-won/opt/anaconda3/lib/python3.9/site-packages/seaborn/_decorators.py:36: FutureWarning: Pass the following variable as a keyword arg: x. From version 0.12, the only valid positional argument will be `data`, and passing other arguments without an explicit keyword will result in an error or misinterpretation.\n",
      "  warnings.warn(\n"
     ]
    },
    {
     "data": {
      "image/png": "[encoded data removed]",
      "text/plain": [
       "<Figure size 432x288 with 1 Axes>"
      ]
     },
     "metadata": {
      "needs_background": "light"
     },
     "output_type": "display_data"
    },
    {
     "name": "stderr",
     "output_type": "stream",
     "text": [
      "/Users/haseung-won/opt/anaconda3/lib/python3.9/site-packages/seaborn/_decorators.py:36: FutureWarning: Pass the following variable as a keyword arg: x. From version 0.12, the only valid positional argument will be `data`, and passing other arguments without an explicit keyword will result in an error or misinterpretation.\n",
      "  warnings.warn(\n"
     ]
    },
    {
     "name": "stdout",
     "output_type": "stream",
     "text": [
      "총 이상치 개수는 0 이다.\n",
      "[6.00600601e-04 2.13213213e-01 9.15915916e-02 3.34334334e-01\n",
      " 7.48748749e-01 5.69569570e-01 4.99499499e-01 1.60160160e-01\n",
      " 7.38238238e-01 5.74574575e-01 6.34134134e-01 5.12012012e-01\n",
      " 7.80780781e-02 4.79979980e-01 5.58058058e-01 6.38638639e-01\n",
      " 2.37737738e-01 7.23723724e-01 5.64064064e-01 7.90290290e-01\n",
      " 6.84184184e-01 2.67267267e-01 7.20220220e-01 7.15715716e-01\n",
      " 3.76376376e-01 1.12112112e-01 4.86986987e-01 5.18018018e-01\n",
      " 8.37337337e-01 2.31231231e-01 1.10110110e-02 8.80880881e-01\n",
      " 4.60460460e-01 5.05505506e-01 4.20920921e-01 6.65665666e-02\n",
      " 2.44244244e-01 7.51751752e-01 9.92714827e-01 8.20820821e-01\n",
      " 7.58258258e-01 5.86086086e-01 9.89433855e-01 9.11411411e-01\n",
      " 8.25825826e-02 7.28228228e-01 8.87887888e-01 2.10210210e-02\n",
      " 9.54621288e-01 1.71171171e-01 4.40940941e-01 4.26926927e-01\n",
      " 7.74774775e-01 4.53453453e-01 3.07807808e-01 9.05905906e-01\n",
      " 5.35535536e-01 8.55355355e-01 9.64764765e-01 2.73773774e-01\n",
      " 1.99199199e-01 4.15415415e-02 1.07107107e-01 7.54754755e-01\n",
      " 6.43643644e-01 6.57657658e-01 8.00300300e-01 9.32932933e-01\n",
      " 9.67857856e-01 9.64164164e-01 8.58358358e-01 9.84994897e-01\n",
      " 6.79179179e-01 1.40640641e-01 5.24024024e-01 8.06806807e-01\n",
      " 9.68297016e-01 2.19719720e-01 4.13913914e-01 5.52552553e-01\n",
      " 5.80080080e-01 8.79379379e-01 2.06706707e-01 9.21921922e-01\n",
      " 1.85685686e-01 4.66466466e-01 9.59399893e-01 9.90011242e-01\n",
      " 1.24124124e-01 8.15815816e-01 9.95031942e-01 8.74874875e-01\n",
      " 8.50850851e-03 7.92792793e-01 3.27327327e-01 8.35335335e-01\n",
      " 7.01701702e-01 9.04904905e-01 4.93493493e-01 9.34414914e-01\n",
      " 1.18118118e-01 6.48148148e-01 1.65165165e-01 2.25225225e-01\n",
      " 9.17917918e-01 5.20520521e-02 7.63763764e-01 6.74674675e-01\n",
      " 8.28328328e-01 1.47647648e-01 6.96696697e-01 5.41041041e-01\n",
      " 3.60360360e-02 3.40340340e-01 9.39866153e-01 3.83383383e-01\n",
      " 3.01801802e-01 2.94794795e-01 3.54354354e-01 9.82760538e-01\n",
      " 2.55755756e-01 2.50250250e-01 1.02102102e-01 6.05105105e-01\n",
      " 1.78678679e-01 8.65865866e-02 8.24824825e-01 4.00900901e-01\n",
      " 9.50950951e-01 7.06206206e-01 5.30030030e-01 6.09609610e-01\n",
      " 9.74886893e-01 8.43343343e-01 8.71371371e-01 6.20620621e-02\n",
      " 3.14314314e-01 2.25225225e-02 7.10710711e-01 4.34434434e-01\n",
      " 3.05305305e-02 8.59859860e-01 3.89389389e-01 3.62362362e-01\n",
      " 9.21421421e-01 4.71971972e-01 5.50550551e-03 8.18818819e-01\n",
      " 2.45245245e-02 7.41741742e-01 9.71571572e-01 9.67059293e-01\n",
      " 9.55455455e-01 8.69869870e-01 8.02302302e-01 5.92092092e-01\n",
      " 8.72872873e-01 7.61261261e-01 9.00900901e-01 5.50550551e-02\n",
      " 2.80780781e-01 9.90993778e-01 2.87287287e-01 8.86886887e-01\n",
      " 5.47047047e-01 9.23923924e-01 7.44744745e-01 4.06906907e-01\n",
      " 3.69369369e-01 9.44277611e-01 9.95284783e-01 9.70970971e-02\n",
      " 9.03403403e-01 6.24124124e-01 4.50450450e-03 8.85385385e-01\n",
      " 9.56289623e-01 7.81281281e-01 9.63963964e-01 8.95895896e-01\n",
      " 7.00700701e-02 6.29629630e-01 3.46346346e-01 8.66366366e-01\n",
      " 6.52652653e-01 1.92192192e-01 8.48848849e-01 4.46946947e-01\n",
      " 7.72272272e-01 4.85485485e-02 6.65665666e-01 1.34134134e-01\n",
      " 3.95395395e-01 2.61761762e-01 9.75412913e-01 9.25925926e-01\n",
      " 5.97097097e-01 9.41441441e-01 9.16916917e-01 9.51618285e-01\n",
      " 8.98898899e-01 7.31731732e-01 9.86263277e-01 1.29129129e-01\n",
      " 9.60960961e-01 8.82882883e-01 9.49282616e-01 6.91691692e-01\n",
      " 8.04304304e-01 1.35135135e-02 6.87687688e-01 9.01901902e-01\n",
      " 3.30330330e-02 6.19119119e-01 8.97897898e-01 9.81112366e-01\n",
      " 8.77877878e-01 8.10810811e-01 8.63863864e-01 9.70266249e-01\n",
      " 9.91638899e-01 6.61661662e-01 9.73131414e-01 7.84784785e-01\n",
      " 2.60260260e-02 3.20820821e-01 2.80280280e-02 9.79325487e-01\n",
      " 9.59119859e-01 1.20120120e-02 9.46279613e-01 9.20920921e-01\n",
      " 9.79587284e-01 9.86430287e-01 9.80918386e-01 8.87387387e-01\n",
      " 9.68431407e-01 1.44261909e-03 1.54154154e-01 7.69269269e-01\n",
      " 9.72257972e-01 8.90890891e-01 7.66266266e-01 8.64864865e-01\n",
      " 6.14614615e-01 8.50350350e-01 9.94255349e-01 8.08808809e-01\n",
      " 9.47697698e-01 2.00200200e-03 9.91011452e-01 9.73289855e-01\n",
      " 8.46346346e-01 9.79849081e-01 7.35735736e-02 2.00200200e-04\n",
      " 9.89281140e-01 9.49949950e-01 9.09909910e-01 9.18918919e-01\n",
      " 9.93742033e-01 8.41341341e-01 8.39339339e-01 1.70170170e-02\n",
      " 8.99899900e-01 8.22822823e-01 7.87787788e-01 8.93893894e-01\n",
      " 8.30830831e-01 7.97797798e-01 9.12912913e-01 9.52952953e-01\n",
      " 9.95235297e-01 8.81881882e-01 6.01101101e-01 9.58880467e-01\n",
      " 9.57457457e-01 9.81054392e-01 9.86151937e-01 4.50450450e-02\n",
      " 9.87679452e-01 8.44844845e-01 9.93995933e-01 6.70170170e-01\n",
      " 9.85655025e-01 9.84860663e-01 9.98704167e-01 9.11911912e-01\n",
      " 7.95295295e-01 9.29911247e-01 8.56856857e-01 8.73873874e-01\n",
      " 9.10910911e-01 9.53953954e-01 7.34734735e-01 9.51951952e-01\n",
      " 9.36936937e-01 9.97010044e-01 9.30259339e-01 8.61361361e-01\n",
      " 9.48948949e-01 9.37876345e-01 9.34934935e-01 9.13913914e-01\n",
      " 9.43228636e-01 9.79194588e-01 9.31931932e-01 9.26949454e-01\n",
      " 9.80406528e-01 9.71371371e-01 9.90655755e-01 9.86986987e-01\n",
      " 9.15915916e-01 9.35935936e-01 9.82037593e-01 7.78778779e-01\n",
      " 9.98226921e-01 9.86318947e-01 5.80580581e-02 1.55155155e-02\n",
      " 9.65393965e-01 3.85385385e-02 9.23590257e-01 9.45945946e-01\n",
      " 8.68868869e-01 9.94922623e-01 8.62862863e-01 9.77197071e-01\n",
      " 9.79979980e-01 9.93207717e-01 9.93130405e-01 9.70970971e-01\n",
      " 8.89889890e-01 9.73685957e-01 9.75663163e-01 8.13313313e-01\n",
      " 3.49818711e-03 9.23256590e-01 1.00100100e-02 9.22922923e-01\n",
      " 9.65679966e-01 9.62562563e-01 9.45278612e-01 9.33864032e-01\n",
      " 9.59679926e-01 9.77696405e-01 9.97865695e-01 9.74358398e-01\n",
      " 9.85796481e-01 8.76876877e-01 9.78234314e-01 8.51851852e-01\n",
      " 9.80747767e-01 9.88995629e-01 9.89101866e-01 6.00600601e-03\n",
      " 9.90722102e-01 1.95195195e-02 9.91090988e-01 8.47847848e-01\n",
      " 9.52452452e-01 1.00000000e+00 8.83883884e-01 9.89374097e-01\n",
      " 8.91891892e-01 4.00400400e-04 9.75788288e-01 8.26326326e-01\n",
      " 5.00500501e-03 9.76918887e-01 9.53203203e-01 9.46946947e-01\n",
      " 2.88970728e-03 8.33333333e-01 9.37406641e-01 9.07907908e-01\n",
      " 9.65965966e-01 9.53453453e-01 9.39402546e-01 9.96438857e-01\n",
      " 9.36603270e-01 9.89898641e-01 9.55955956e-01 9.08908909e-01\n",
      " 8.92892893e-01 9.57957958e-01 4.00400400e-03 9.28428428e-01\n",
      " 9.19919920e-01 7.00700701e-03 9.40159080e-01 9.30930931e-01\n",
      " 9.78567463e-01 9.73923619e-01 8.53353353e-01 8.96896897e-01\n",
      " 9.74094151e-01 9.54954955e-01 9.44944945e-01 9.90200805e-01\n",
      " 9.40680321e-01 9.88590948e-01 9.91338431e-01 9.69187548e-01\n",
      " 9.14914915e-01 9.98689513e-01 9.43586290e-01 9.84459593e-01\n",
      " 9.24924925e-01 9.47947948e-01 9.68968969e-01 9.56956957e-01\n",
      " 9.20420420e-01 9.81692110e-01 9.95379888e-01 9.58511463e-01\n",
      " 1.82535477e-03 9.90333499e-01 9.44611278e-01 9.38938939e-01\n",
      " 1.47206030e-03 9.42775275e-01 9.92496306e-01 9.80996418e-01\n",
      " 9.54287621e-01 9.06906907e-01 9.62162162e-01 9.92675096e-01\n",
      " 9.86096267e-01 9.48448448e-01 9.45612279e-01 9.72829973e-01\n",
      " 9.85183505e-01 9.94062228e-01 9.90551496e-01 9.35435435e-01\n",
      " 9.28928929e-01 9.62962963e-01 9.69624707e-01 9.26432255e-01\n",
      " 9.99000422e-01 9.95798970e-01 9.87502310e-01 9.40940941e-01\n",
      " 9.94915417e-01 9.77529960e-01 9.75725726e-01 9.91205872e-01\n",
      " 9.83565812e-01 9.46613280e-01 9.30595135e-01 9.36269603e-01\n",
      " 9.88833234e-01 9.92901067e-01 9.80833077e-01 9.85607873e-01\n",
      " 9.79063690e-01 9.67658215e-01 9.58695965e-01 9.62362362e-01\n",
      " 9.90305064e-01 9.27927928e-01 9.47447447e-01 9.95882477e-01\n",
      " 1.08932462e-03 9.93968816e-01 2.66778096e-03 9.94024757e-01\n",
      " 9.66146732e-01 9.66327499e-01 9.82982983e-01 9.65107965e-01\n",
      " 9.88296744e-01 9.51284618e-01 9.83072649e-01 9.38403320e-01\n",
      " 9.59959960e-01 9.98058334e-01 9.94096817e-01 9.93504941e-01\n",
      " 9.40419700e-01 9.80150599e-01 9.76833168e-01 9.82482482e-01\n",
      " 9.96431666e-01 9.61628295e-01 9.75162663e-01 9.72972973e-01\n",
      " 9.76747449e-01 9.63463463e-01 9.71171171e-01 9.53703704e-01\n",
      " 9.85136353e-01 9.73448296e-01 9.57207207e-01 9.74006068e-01\n",
      " 2.83422570e-03 9.96472076e-01 9.96551868e-01 9.91267733e-01\n",
      " 9.98999004e-01 9.79718183e-01 9.99025954e-01 9.43943944e-01\n",
      " 9.84236777e-01 9.88660173e-01 2.94518886e-03 9.83879643e-01\n",
      " 9.78123265e-01 9.61961962e-01 9.89679528e-01 9.77862850e-01\n",
      " 9.61294628e-01 9.69296838e-01 9.74270315e-01 9.92017048e-01\n",
      " 9.87792179e-01 9.97233633e-01 9.98550045e-01 9.87035298e-01\n",
      " 9.71971972e-01 2.44585464e-03 9.88383275e-01 9.80491838e-01\n",
      " 9.58326962e-01 9.84370467e-01 9.96250506e-01 9.82538094e-01\n",
      " 9.83700311e-01 9.75538038e-01 9.87115818e-01 9.90608365e-01\n",
      " 9.41941942e-01 9.57707708e-01 9.92384561e-01 9.70618610e-01\n",
      " 9.68565797e-01 9.90191327e-01 9.93327981e-01 9.93475734e-01\n",
      " 9.65250965e-01 9.84771536e-01 9.66869798e-01 9.63713714e-01\n",
      " 9.49616283e-01 3.24527866e-03 9.31431431e-01 9.76576010e-01\n",
      " 9.84013960e-01 9.81634136e-01 9.83027816e-01 9.79783632e-01\n",
      " 9.81228315e-01 9.77363515e-01 9.74974975e-01 9.96683372e-01\n",
      " 1.03044221e-03 9.98999029e-01 9.97250308e-01 9.97132001e-01\n",
      " 9.97945904e-01 9.89008908e-01 9.98738334e-01 9.76147414e-01\n",
      " 9.94560883e-01 9.73210634e-01 9.64964965e-01 9.87566725e-01\n",
      " 9.92185905e-01 9.88435193e-01 9.77030626e-01 9.87921010e-01\n",
      " 9.89115145e-01 9.98711541e-01 9.60460460e-01 9.88279438e-01\n",
      " 9.76318853e-01 9.85230657e-01 9.69733996e-01 9.68028235e-01\n",
      " 9.95874745e-01 9.75975976e-01 9.87808283e-01 9.92615499e-01\n",
      " 9.75287788e-01 2.39037306e-03 9.95802063e-01 9.81170341e-01\n",
      " 9.73765178e-01 9.78456413e-01 9.88746703e-01 9.66508265e-01\n",
      " 9.84949789e-01 9.93492915e-01 9.99003377e-01 9.84281340e-01\n",
      " 9.88988989e-01 9.81750084e-01 9.68700188e-01 9.96173110e-01\n",
      " 9.82704927e-01 9.84905226e-01 9.82816149e-01 9.63213213e-01\n",
      " 3.00067044e-03 9.50450450e-01 9.74710728e-01 9.87550621e-01\n",
      " 9.96167973e-01 9.94769856e-01 9.94027639e-01 9.93321109e-01\n",
      " 9.78998240e-01 9.97997998e-01 0.00000000e+00 9.69843286e-01\n",
      " 9.56623290e-01 9.73606737e-01 9.89334258e-01 1.05988341e-03\n",
      " 9.74534563e-01 9.83251981e-01 9.92970597e-01 9.98685901e-01\n",
      " 9.91378199e-01 9.91493084e-01 9.86875647e-01 9.62762763e-01\n",
      " 9.72686973e-01 9.98251729e-01 9.83162315e-01 1.00100100e-03\n",
      " 9.91391455e-01 9.73052193e-01 9.92180939e-01 9.96111468e-01\n",
      " 9.97032804e-01 9.78345364e-01 9.78678512e-01 9.97841474e-01\n",
      " 9.99007457e-01 9.88002540e-01 9.93047938e-01 9.80321219e-01\n",
      " 9.90295586e-01 9.90949578e-01 9.85749329e-01 9.98205328e-01\n",
      " 9.83520979e-01 9.81981982e-01 9.47197197e-01 9.76233134e-01\n",
      " 9.89261221e-01 9.87389583e-01 9.95996745e-01 9.95824486e-01\n",
      " 9.95193544e-01 9.98999366e-01 9.98999571e-01 9.87019195e-01\n",
      " 9.67258934e-01 9.81286289e-01 9.86040597e-01 9.89274500e-01\n",
      " 9.92994678e-01 9.93199127e-01 9.91046801e-01 9.86597297e-01\n",
      " 9.92533554e-01 9.87582829e-01 9.98384938e-01 9.94140053e-01\n",
      " 9.94997921e-01 9.99006124e-01 9.82593705e-01 9.95967531e-01\n",
      " 9.97517105e-01 9.97858879e-01 9.78900611e-01 2.55681780e-03\n",
      " 9.81402238e-01 9.94029080e-01 9.88452499e-01 9.89825603e-01\n",
      " 9.92747109e-01 9.93053092e-01 9.73527516e-01 9.99221205e-01\n",
      " 9.97001889e-01 1.50150150e-03 9.78012215e-01 9.99005964e-01\n",
      " 3.75109556e-03 9.66689032e-01 9.98901550e-01 9.72400972e-01\n",
      " 9.88937071e-01 9.88227519e-01 9.71771772e-01 1.14820703e-03\n",
      " 9.82260038e-01 9.76061695e-01 9.75600601e-01 9.97855592e-01\n",
      " 9.69078259e-01 9.97579301e-01 9.75913413e-01 9.96135440e-01\n",
      " 9.99161108e-01 9.68162626e-01 9.90731580e-01 9.98999824e-01]\n",
      "\n",
      "IQR은 0.5015015015015015 이다.\n",
      "lower bound 값은 -0.5020020020020021 이다.\n",
      "upper bound 값은 1.5040040040040041 이다.\n"
     ]
    },
    {
     "data": {
      "image/png": "[encoded data removed]",
      "text/plain": [
       "<Figure size 432x288 with 1 Axes>"
      ]
     },
     "metadata": {
      "needs_background": "light"
     },
     "output_type": "display_data"
    },
    {
     "name": "stdout",
     "output_type": "stream",
     "text": [
      "총 이상치 개수는 0 이다.\n",
      "[4. 1. 3. 5. 2. 0.]\n",
      "\n"
     ]
    },
    {
     "name": "stderr",
     "output_type": "stream",
     "text": [
      "/Users/haseung-won/opt/anaconda3/lib/python3.9/site-packages/seaborn/_decorators.py:36: FutureWarning: Pass the following variable as a keyword arg: x. From version 0.12, the only valid positional argument will be `data`, and passing other arguments without an explicit keyword will result in an error or misinterpretation.\n",
      "  warnings.warn(\n"
     ]
    },
    {
     "name": "stdout",
     "output_type": "stream",
     "text": [
      "IQR은 1.0 이다.\n",
      "lower bound 값은 0.5 이다.\n",
      "upper bound 값은 4.5 이다.\n"
     ]
    },
    {
     "data": {
      "image/png": "[encoded data removed]",
      "text/plain": [
       "<Figure size 432x288 with 1 Axes>"
      ]
     },
     "metadata": {
      "needs_background": "light"
     },
     "output_type": "display_data"
    },
    {
     "name": "stdout",
     "output_type": "stream",
     "text": [
      "총 이상치 개수는 1083 이다.\n",
      "[3. 2. 1. 4. 5. 0.]\n",
      "\n",
      "IQR은 1.0 이다.\n",
      "lower bound 값은 1.5 이다.\n",
      "upper bound 값은 5.5 이다.\n"
     ]
    },
    {
     "name": "stderr",
     "output_type": "stream",
     "text": [
      "/Users/haseung-won/opt/anaconda3/lib/python3.9/site-packages/seaborn/_decorators.py:36: FutureWarning: Pass the following variable as a keyword arg: x. From version 0.12, the only valid positional argument will be `data`, and passing other arguments without an explicit keyword will result in an error or misinterpretation.\n",
      "  warnings.warn(\n"
     ]
    },
    {
     "data": {
      "image/png": "[encoded data removed]",
      "text/plain": [
       "<Figure size 432x288 with 1 Axes>"
      ]
     },
     "metadata": {
      "needs_background": "light"
     },
     "output_type": "display_data"
    },
    {
     "name": "stdout",
     "output_type": "stream",
     "text": [
      "총 이상치 개수는 1652 이다.\n",
      "[5. 3. 4. 1. 2. 0.]\n",
      "\n",
      "IQR은 1.0 이다.\n",
      "lower bound 값은 1.5 이다.\n",
      "upper bound 값은 5.5 이다.\n"
     ]
    },
    {
     "name": "stderr",
     "output_type": "stream",
     "text": [
      "/Users/haseung-won/opt/anaconda3/lib/python3.9/site-packages/seaborn/_decorators.py:36: FutureWarning: Pass the following variable as a keyword arg: x. From version 0.12, the only valid positional argument will be `data`, and passing other arguments without an explicit keyword will result in an error or misinterpretation.\n",
      "  warnings.warn(\n"
     ]
    },
    {
     "data": {
      "image/png": "[encoded data removed]",
      "text/plain": [
       "<Figure size 432x288 with 1 Axes>"
      ]
     },
     "metadata": {
      "needs_background": "light"
     },
     "output_type": "display_data"
    },
    {
     "name": "stdout",
     "output_type": "stream",
     "text": [
      "총 이상치 개수는 675 이다.\n",
      "[1. 5. 4. 3. 2. 0.]\n",
      "\n",
      "IQR은 1.0 이다.\n",
      "lower bound 값은 1.5 이다.\n",
      "upper bound 값은 5.5 이다.\n"
     ]
    },
    {
     "name": "stderr",
     "output_type": "stream",
     "text": [
      "/Users/haseung-won/opt/anaconda3/lib/python3.9/site-packages/seaborn/_decorators.py:36: FutureWarning: Pass the following variable as a keyword arg: x. From version 0.12, the only valid positional argument will be `data`, and passing other arguments without an explicit keyword will result in an error or misinterpretation.\n",
      "  warnings.warn(\n"
     ]
    },
    {
     "data": {
      "image/png": "[encoded data removed]",
      "text/plain": [
       "<Figure size 432x288 with 1 Axes>"
      ]
     },
     "metadata": {
      "needs_background": "light"
     },
     "output_type": "display_data"
    },
    {
     "name": "stdout",
     "output_type": "stream",
     "text": [
      "총 이상치 개수는 1472 이다.\n",
      "[3. 5. 4. 2. 1. 0.]\n",
      "\n",
      "IQR은 2.0 이다.\n",
      "lower bound 값은 0.0 이다.\n",
      "upper bound 값은 8.0 이다.\n"
     ]
    },
    {
     "name": "stderr",
     "output_type": "stream",
     "text": [
      "/Users/haseung-won/opt/anaconda3/lib/python3.9/site-packages/seaborn/_decorators.py:36: FutureWarning: Pass the following variable as a keyword arg: x. From version 0.12, the only valid positional argument will be `data`, and passing other arguments without an explicit keyword will result in an error or misinterpretation.\n",
      "  warnings.warn(\n"
     ]
    },
    {
     "data": {
      "image/png": "[encoded data removed]",
      "text/plain": [
       "<Figure size 432x288 with 1 Axes>"
      ]
     },
     "metadata": {
      "needs_background": "light"
     },
     "output_type": "display_data"
    },
    {
     "name": "stdout",
     "output_type": "stream",
     "text": [
      "총 이상치 개수는 0 이다.\n",
      "[5. 2. 3. 4. 1. 0.]\n",
      "\n",
      "IQR은 2.0 이다.\n",
      "lower bound 값은 0.0 이다.\n",
      "upper bound 값은 8.0 이다.\n"
     ]
    },
    {
     "name": "stderr",
     "output_type": "stream",
     "text": [
      "/Users/haseung-won/opt/anaconda3/lib/python3.9/site-packages/seaborn/_decorators.py:36: FutureWarning: Pass the following variable as a keyword arg: x. From version 0.12, the only valid positional argument will be `data`, and passing other arguments without an explicit keyword will result in an error or misinterpretation.\n",
      "  warnings.warn(\n"
     ]
    },
    {
     "data": {
      "image/png": "[encoded data removed]",
      "text/plain": [
       "<Figure size 432x288 with 1 Axes>"
      ]
     },
     "metadata": {
      "needs_background": "light"
     },
     "output_type": "display_data"
    },
    {
     "name": "stdout",
     "output_type": "stream",
     "text": [
      "총 이상치 개수는 0 이다.\n",
      "[5. 3. 4. 2. 1. 0.]\n",
      "\n",
      "IQR은 1.0 이다.\n",
      "lower bound 값은 1.5 이다.\n",
      "upper bound 값은 5.5 이다.\n"
     ]
    },
    {
     "name": "stderr",
     "output_type": "stream",
     "text": [
      "/Users/haseung-won/opt/anaconda3/lib/python3.9/site-packages/seaborn/_decorators.py:36: FutureWarning: Pass the following variable as a keyword arg: x. From version 0.12, the only valid positional argument will be `data`, and passing other arguments without an explicit keyword will result in an error or misinterpretation.\n",
      "  warnings.warn(\n"
     ]
    },
    {
     "data": {
      "image/png": "[encoded data removed]",
      "text/plain": [
       "<Figure size 432x288 with 1 Axes>"
      ]
     },
     "metadata": {
      "needs_background": "light"
     },
     "output_type": "display_data"
    },
    {
     "name": "stdout",
     "output_type": "stream",
     "text": [
      "총 이상치 개수는 615 이다.\n",
      "[3. 1. 4. 5. 2. 0.]\n",
      "\n",
      "IQR은 2.0 이다.\n",
      "lower bound 값은 -1.0 이다.\n",
      "upper bound 값은 7.0 이다.\n"
     ]
    },
    {
     "name": "stderr",
     "output_type": "stream",
     "text": [
      "/Users/haseung-won/opt/anaconda3/lib/python3.9/site-packages/seaborn/_decorators.py:36: FutureWarning: Pass the following variable as a keyword arg: x. From version 0.12, the only valid positional argument will be `data`, and passing other arguments without an explicit keyword will result in an error or misinterpretation.\n",
      "  warnings.warn(\n"
     ]
    },
    {
     "data": {
      "image/png": "[encoded data removed]",
      "text/plain": [
       "<Figure size 432x288 with 1 Axes>"
      ]
     },
     "metadata": {
      "needs_background": "light"
     },
     "output_type": "display_data"
    },
    {
     "name": "stdout",
     "output_type": "stream",
     "text": [
      "총 이상치 개수는 0 이다.\n",
      "[5. 2. 3. 4. 1. 0.]\n",
      "\n",
      "IQR은 1.0 이다.\n",
      "lower bound 값은 1.5 이다.\n",
      "upper bound 값은 5.5 이다.\n"
     ]
    },
    {
     "name": "stderr",
     "output_type": "stream",
     "text": [
      "/Users/haseung-won/opt/anaconda3/lib/python3.9/site-packages/seaborn/_decorators.py:36: FutureWarning: Pass the following variable as a keyword arg: x. From version 0.12, the only valid positional argument will be `data`, and passing other arguments without an explicit keyword will result in an error or misinterpretation.\n",
      "  warnings.warn(\n"
     ]
    },
    {
     "data": {
      "image/png": "[encoded data removed]",
      "text/plain": [
       "<Figure size 432x288 with 1 Axes>"
      ]
     },
     "metadata": {
      "needs_background": "light"
     },
     "output_type": "display_data"
    },
    {
     "name": "stdout",
     "output_type": "stream",
     "text": [
      "총 이상치 개수는 1270 이다.\n",
      "[3. 2. 1. 4. 5. 0.]\n",
      "\n",
      "IQR은 2.0 이다.\n",
      "lower bound 값은 -2.0 이다.\n",
      "upper bound 값은 6.0 이다.\n"
     ]
    },
    {
     "name": "stderr",
     "output_type": "stream",
     "text": [
      "/Users/haseung-won/opt/anaconda3/lib/python3.9/site-packages/seaborn/_decorators.py:36: FutureWarning: Pass the following variable as a keyword arg: x. From version 0.12, the only valid positional argument will be `data`, and passing other arguments without an explicit keyword will result in an error or misinterpretation.\n",
      "  warnings.warn(\n"
     ]
    },
    {
     "data": {
      "image/png": "[encoded data removed]",
      "text/plain": [
       "<Figure size 432x288 with 1 Axes>"
      ]
     },
     "metadata": {
      "needs_background": "light"
     },
     "output_type": "display_data"
    },
    {
     "name": "stdout",
     "output_type": "stream",
     "text": [
      "총 이상치 개수는 0 이다.\n",
      "[2. 4. 1. 3. 0.]\n",
      "\n",
      "IQR은 1.0 이다.\n",
      "lower bound 값은 0.5 이다.\n",
      "upper bound 값은 4.5 이다.\n"
     ]
    },
    {
     "name": "stderr",
     "output_type": "stream",
     "text": [
      "/Users/haseung-won/opt/anaconda3/lib/python3.9/site-packages/seaborn/_decorators.py:36: FutureWarning: Pass the following variable as a keyword arg: x. From version 0.12, the only valid positional argument will be `data`, and passing other arguments without an explicit keyword will result in an error or misinterpretation.\n",
      "  warnings.warn(\n"
     ]
    },
    {
     "data": {
      "image/png": "[encoded data removed]",
      "text/plain": [
       "<Figure size 432x288 with 1 Axes>"
      ]
     },
     "metadata": {
      "needs_background": "light"
     },
     "output_type": "display_data"
    },
    {
     "name": "stdout",
     "output_type": "stream",
     "text": [
      "총 이상치 개수는 167 이다.\n",
      "[1 2 3 0]\n",
      "\n",
      "IQR은 1.0 이다.\n",
      "lower bound 값은 0.5 이다.\n",
      "upper bound 값은 4.5 이다.\n"
     ]
    },
    {
     "name": "stderr",
     "output_type": "stream",
     "text": [
      "/Users/haseung-won/opt/anaconda3/lib/python3.9/site-packages/seaborn/_decorators.py:36: FutureWarning: Pass the following variable as a keyword arg: x. From version 0.12, the only valid positional argument will be `data`, and passing other arguments without an explicit keyword will result in an error or misinterpretation.\n",
      "  warnings.warn(\n"
     ]
    },
    {
     "data": {
      "image/png": "[encoded data removed]",
      "text/plain": [
       "<Figure size 432x288 with 1 Axes>"
      ]
     },
     "metadata": {
      "needs_background": "light"
     },
     "output_type": "display_data"
    },
    {
     "name": "stderr",
     "output_type": "stream",
     "text": [
      "/Users/haseung-won/opt/anaconda3/lib/python3.9/site-packages/seaborn/_decorators.py:36: FutureWarning: Pass the following variable as a keyword arg: x. From version 0.12, the only valid positional argument will be `data`, and passing other arguments without an explicit keyword will result in an error or misinterpretation.\n",
      "  warnings.warn(\n"
     ]
    },
    {
     "name": "stdout",
     "output_type": "stream",
     "text": [
      "총 이상치 개수는 82 이다.\n",
      "[3. 2. 1. 0.]\n",
      "\n",
      "IQR은 1.0 이다.\n",
      "lower bound 값은 -0.5 이다.\n",
      "upper bound 값은 3.5 이다.\n"
     ]
    },
    {
     "data": {
      "image/png": "[encoded data removed]",
      "text/plain": [
       "<Figure size 432x288 with 1 Axes>"
      ]
     },
     "metadata": {
      "needs_background": "light"
     },
     "output_type": "display_data"
    },
    {
     "name": "stdout",
     "output_type": "stream",
     "text": [
      "총 이상치 개수는 0 이다.\n",
      "[1. 2. 0.]\n",
      "\n",
      "IQR은 1.0 이다.\n",
      "lower bound 값은 -0.5 이다.\n",
      "upper bound 값은 3.5 이다.\n"
     ]
    },
    {
     "name": "stderr",
     "output_type": "stream",
     "text": [
      "/Users/haseung-won/opt/anaconda3/lib/python3.9/site-packages/seaborn/_decorators.py:36: FutureWarning: Pass the following variable as a keyword arg: x. From version 0.12, the only valid positional argument will be `data`, and passing other arguments without an explicit keyword will result in an error or misinterpretation.\n",
      "  warnings.warn(\n"
     ]
    },
    {
     "data": {
      "image/png": "[encoded data removed]",
      "text/plain": [
       "<Figure size 432x288 with 1 Axes>"
      ]
     },
     "metadata": {
      "needs_background": "light"
     },
     "output_type": "display_data"
    },
    {
     "name": "stderr",
     "output_type": "stream",
     "text": [
      "/Users/haseung-won/opt/anaconda3/lib/python3.9/site-packages/seaborn/_decorators.py:36: FutureWarning: Pass the following variable as a keyword arg: x. From version 0.12, the only valid positional argument will be `data`, and passing other arguments without an explicit keyword will result in an error or misinterpretation.\n",
      "  warnings.warn(\n"
     ]
    },
    {
     "name": "stdout",
     "output_type": "stream",
     "text": [
      "총 이상치 개수는 0 이다.\n",
      "[ 20  49  43  17  18  26  40  34  29  24  13  14  16  19  15  23  32  22\n",
      "  25  27  33  41  21  50  64  44  31  35  67  48  38  46  58  59  52  42\n",
      "  37  55  36  45  28  47  30  39  54  53  69  57  72  51  56  65  60  61\n",
      " 100  66  73  70  68  62  71  78  76  63  74  88  75  77  99  81  80]\n",
      "\n",
      "IQR은 10.0 이다.\n",
      "lower bound 값은 2.0 이다.\n",
      "upper bound 값은 42.0 이다.\n"
     ]
    },
    {
     "data": {
      "image/png": "[encoded data removed]",
      "text/plain": [
       "<Figure size 432x288 with 1 Axes>"
      ]
     },
     "metadata": {
      "needs_background": "light"
     },
     "output_type": "display_data"
    },
    {
     "name": "stdout",
     "output_type": "stream",
     "text": [
      "총 이상치 개수는 1230 이다.\n",
      "[2. 1. 3. 0.]\n",
      "\n",
      "IQR은 0.0 이다.\n",
      "lower bound 값은 1.0 이다.\n",
      "upper bound 값은 1.0 이다.\n"
     ]
    },
    {
     "name": "stderr",
     "output_type": "stream",
     "text": [
      "/Users/haseung-won/opt/anaconda3/lib/python3.9/site-packages/seaborn/_decorators.py:36: FutureWarning: Pass the following variable as a keyword arg: x. From version 0.12, the only valid positional argument will be `data`, and passing other arguments without an explicit keyword will result in an error or misinterpretation.\n",
      "  warnings.warn(\n"
     ]
    },
    {
     "data": {
      "image/png": "[encoded data removed]",
      "text/plain": [
       "<Figure size 432x288 with 1 Axes>"
      ]
     },
     "metadata": {
      "needs_background": "light"
     },
     "output_type": "display_data"
    },
    {
     "name": "stdout",
     "output_type": "stream",
     "text": [
      "총 이상치 개수는 2206 이다.\n",
      "[12.  2.  1.  7. 10.  3.  4.  6.  9.  5.  8.  0. 11.]\n",
      "\n"
     ]
    },
    {
     "name": "stderr",
     "output_type": "stream",
     "text": [
      "/Users/haseung-won/opt/anaconda3/lib/python3.9/site-packages/seaborn/_decorators.py:36: FutureWarning: Pass the following variable as a keyword arg: x. From version 0.12, the only valid positional argument will be `data`, and passing other arguments without an explicit keyword will result in an error or misinterpretation.\n",
      "  warnings.warn(\n"
     ]
    },
    {
     "name": "stdout",
     "output_type": "stream",
     "text": [
      "IQR은 5.0 이다.\n",
      "lower bound 값은 -6.5 이다.\n",
      "upper bound 값은 13.5 이다.\n"
     ]
    },
    {
     "data": {
      "image/png": "[encoded data removed]",
      "text/plain": [
       "<Figure size 432x288 with 1 Axes>"
      ]
     },
     "metadata": {
      "needs_background": "light"
     },
     "output_type": "display_data"
    },
    {
     "name": "stdout",
     "output_type": "stream",
     "text": [
      "총 이상치 개수는 0 이다.\n",
      "[4. 1. 2. 5. 0. 3.]\n",
      "\n",
      "IQR은 1.0 이다.\n",
      "lower bound 값은 -0.5 이다.\n",
      "upper bound 값은 3.5 이다.\n"
     ]
    },
    {
     "name": "stderr",
     "output_type": "stream",
     "text": [
      "/Users/haseung-won/opt/anaconda3/lib/python3.9/site-packages/seaborn/_decorators.py:36: FutureWarning: Pass the following variable as a keyword arg: x. From version 0.12, the only valid positional argument will be `data`, and passing other arguments without an explicit keyword will result in an error or misinterpretation.\n",
      "  warnings.warn(\n"
     ]
    },
    {
     "data": {
      "image/png": "[encoded data removed]",
      "text/plain": [
       "<Figure size 432x288 with 1 Axes>"
      ]
     },
     "metadata": {
      "needs_background": "light"
     },
     "output_type": "display_data"
    },
    {
     "name": "stdout",
     "output_type": "stream",
     "text": [
      "총 이상치 개수는 2126 이다.\n",
      "[2. 1. 0.]\n",
      "\n",
      "IQR은 1.0 이다.\n",
      "lower bound 값은 -0.5 이다.\n",
      "upper bound 값은 3.5 이다.\n"
     ]
    },
    {
     "name": "stderr",
     "output_type": "stream",
     "text": [
      "/Users/haseung-won/opt/anaconda3/lib/python3.9/site-packages/seaborn/_decorators.py:36: FutureWarning: Pass the following variable as a keyword arg: x. From version 0.12, the only valid positional argument will be `data`, and passing other arguments without an explicit keyword will result in an error or misinterpretation.\n",
      "  warnings.warn(\n"
     ]
    },
    {
     "data": {
      "image/png": "[encoded data removed]",
      "text/plain": [
       "<Figure size 432x288 with 1 Axes>"
      ]
     },
     "metadata": {
      "needs_background": "light"
     },
     "output_type": "display_data"
    },
    {
     "name": "stdout",
     "output_type": "stream",
     "text": [
      "총 이상치 개수는 0 이다.\n",
      "[1. 2. 3. 0.]\n",
      "\n"
     ]
    },
    {
     "name": "stderr",
     "output_type": "stream",
     "text": [
      "/Users/haseung-won/opt/anaconda3/lib/python3.9/site-packages/seaborn/_decorators.py:36: FutureWarning: Pass the following variable as a keyword arg: x. From version 0.12, the only valid positional argument will be `data`, and passing other arguments without an explicit keyword will result in an error or misinterpretation.\n",
      "  warnings.warn(\n"
     ]
    },
    {
     "name": "stdout",
     "output_type": "stream",
     "text": [
      "IQR은 0.0 이다.\n",
      "lower bound 값은 1.0 이다.\n",
      "upper bound 값은 1.0 이다.\n"
     ]
    },
    {
     "data": {
      "image/png": "[encoded data removed]",
      "text/plain": [
       "<Figure size 432x288 with 1 Axes>"
      ]
     },
     "metadata": {
      "needs_background": "light"
     },
     "output_type": "display_data"
    },
    {
     "name": "stdout",
     "output_type": "stream",
     "text": [
      "총 이상치 개수는 2247 이다.\n",
      "[ 4.  2.  1.  3.  5.  0.  8.  6. 23. 13.  7. 10.  9. 12. 14. 19. 16. 11.\n",
      " 17.]\n",
      "\n",
      "IQR은 1.0 이다.\n",
      "lower bound 값은 0.5 이다.\n",
      "upper bound 값은 4.5 이다.\n"
     ]
    },
    {
     "name": "stderr",
     "output_type": "stream",
     "text": [
      "/Users/haseung-won/opt/anaconda3/lib/python3.9/site-packages/seaborn/_decorators.py:36: FutureWarning: Pass the following variable as a keyword arg: x. From version 0.12, the only valid positional argument will be `data`, and passing other arguments without an explicit keyword will result in an error or misinterpretation.\n",
      "  warnings.warn(\n"
     ]
    },
    {
     "data": {
      "image/png": "[encoded data removed]",
      "text/plain": [
       "<Figure size 432x288 with 1 Axes>"
      ]
     },
     "metadata": {
      "needs_background": "light"
     },
     "output_type": "display_data"
    },
    {
     "name": "stdout",
     "output_type": "stream",
     "text": [
      "총 이상치 개수는 1303 이다.\n",
      "[2. 1. 0.]\n",
      "\n",
      "IQR은 0.0 이다.\n",
      "lower bound 값은 2.0 이다.\n",
      "upper bound 값은 2.0 이다.\n"
     ]
    },
    {
     "name": "stderr",
     "output_type": "stream",
     "text": [
      "/Users/haseung-won/opt/anaconda3/lib/python3.9/site-packages/seaborn/_decorators.py:36: FutureWarning: Pass the following variable as a keyword arg: x. From version 0.12, the only valid positional argument will be `data`, and passing other arguments without an explicit keyword will result in an error or misinterpretation.\n",
      "  warnings.warn(\n"
     ]
    },
    {
     "data": {
      "image/png": "[encoded data removed]",
      "text/plain": [
       "<Figure size 432x288 with 1 Axes>"
      ]
     },
     "metadata": {
      "needs_background": "light"
     },
     "output_type": "display_data"
    },
    {
     "name": "stdout",
     "output_type": "stream",
     "text": [
      "총 이상치 개수는 1003 이다.\n",
      "[1 0]\n",
      "\n"
     ]
    },
    {
     "name": "stderr",
     "output_type": "stream",
     "text": [
      "/Users/haseung-won/opt/anaconda3/lib/python3.9/site-packages/seaborn/_decorators.py:36: FutureWarning: Pass the following variable as a keyword arg: x. From version 0.12, the only valid positional argument will be `data`, and passing other arguments without an explicit keyword will result in an error or misinterpretation.\n",
      "  warnings.warn(\n"
     ]
    },
    {
     "name": "stdout",
     "output_type": "stream",
     "text": [
      "IQR은 1.0 이다.\n",
      "lower bound 값은 -1.5 이다.\n",
      "upper bound 값은 2.5 이다.\n"
     ]
    },
    {
     "data": {
      "image/png": "[encoded data removed]",
      "text/plain": [
       "<Figure size 432x288 with 1 Axes>"
      ]
     },
     "metadata": {
      "needs_background": "light"
     },
     "output_type": "display_data"
    },
    {
     "name": "stdout",
     "output_type": "stream",
     "text": [
      "총 이상치 개수는 0 이다.\n"
     ]
    }
   ],
   "source": [
    "col=train.columns\n",
    "for i in col:\n",
    "    print(train[i].unique())\n",
    "    outlier_iqr(train,i)"
   ]
  },
  {
   "cell_type": "code",
   "execution_count": 11,
   "id": "21552125",
   "metadata": {},
   "outputs": [
    {
     "name": "stdout",
     "output_type": "stream",
     "text": [
      "Fitting 5 folds for each of 4 candidates, totalling 20 fits\n"
     ]
    },
    {
     "name": "stderr",
     "output_type": "stream",
     "text": [
      "/Users/haseung-won/opt/anaconda3/lib/python3.9/site-packages/joblib/externals/loky/process_executor.py:702: UserWarning: A worker stopped while some jobs were given to the executor. This can be caused by a too short worker timeout or by a memory leak.\n",
      "  warnings.warn(\n"
     ]
    },
    {
     "data": {
      "text/plain": [
       "GridSearchCV(estimator=RandomForestClassifier(n_jobs=-1, random_state=42),\n",
       "             n_jobs=-1, param_grid={'n_estimators': [100, 1000, 2000, 3000]},\n",
       "             scoring='accuracy', verbose=1)"
      ]
     },
     "execution_count": 11,
     "metadata": {},
     "output_type": "execute_result"
    }
   ],
   "source": [
    "from sklearn.ensemble import RandomForestClassifier\n",
    "model = RandomForestClassifier(random_state=42, n_jobs=-1)\n",
    "\n",
    "\n",
    "from sklearn.model_selection import KFold, GridSearchCV #하이퍼파라미터 튜닝을 위한 불러오기\n",
    "from sklearn.metrics import accuracy_score\n",
    "\n",
    "model_param_grid = {'n_estimators' : [100, 1000,2000, 3000]} # Default(100)대비 큰값으로 Dictionary구성\n",
    "\n",
    "model_grid = GridSearchCV(model, param_grid = model_param_grid, scoring=\"accuracy\",n_jobs=-1,verbose=1) #훈련 (장치 사양에 따라 시간이 걸릴 수 있음)\n",
    "model_grid.fit(x_train, y_train)"
   ]
  },
  {
   "cell_type": "code",
   "execution_count": 12,
   "id": "287ab4af",
   "metadata": {},
   "outputs": [
    {
     "name": "stdout",
     "output_type": "stream",
     "text": [
      "final params {'n_estimators': 3000}\n"
     ]
    }
   ],
   "source": [
    "gcv=GridSearchCV(model, param_grid=model_param_grid, scoring='f1', n_jobs=-1)\n",
    "gcv.fit(x_train.values,y_train.values)\n",
    "print('final params', gcv.best_params_)   # 최적의 파라미터 값 출력\n",
    "\n"
   ]
  },
  {
   "cell_type": "code",
   "execution_count": 13,
   "id": "b9a5911f",
   "metadata": {},
   "outputs": [],
   "source": [
    "model = RandomForestClassifier(n_estimators=3000,random_state=42, n_jobs=-1)\n",
    "\n",
    "\n"
   ]
  },
  {
   "cell_type": "code",
   "execution_count": 14,
   "id": "4b95f38a",
   "metadata": {},
   "outputs": [],
   "source": [
    "model.fit(x_train, y_train) #학습\n",
    "pred = model.predict_proba(test)[:,1] #proba를 통해 확률값으로 변환\n",
    "sample['nerdiness'] = pred\n",
    "sample.to_csv('result8.15_2.csv',index=False)\n"
   ]
  },
  {
   "cell_type": "code",
   "execution_count": 15,
   "id": "883cc851",
   "metadata": {},
   "outputs": [
    {
     "data": {
      "text/plain": [
       "19728.691666666666"
      ]
     },
     "execution_count": 15,
     "metadata": {},
     "output_type": "execute_result"
    }
   ],
   "source": [
    "\n",
    "sample['nerdiness'].sum()\n",
    "#19384.0\n",
    "#19228.0  result8.6_3\n",
    "# 19729.191 result8.9_1\n",
    "# 19737.59333333333 result8.11_2.csv   0.9026266776\t\n",
    "# 19722.430333333334  result8.11_3.csv   0.9021614897\n",
    "#19731.831  result8.11_4 0.9026705801\n",
    "# 19732.594666666664  result8.14_1 0.90273\n",
    "# 19700.586000000003 result8.15_1. \n",
    "# "
   ]
  },
  {
   "cell_type": "code",
   "execution_count": 16,
   "id": "86b59eeb",
   "metadata": {},
   "outputs": [
    {
     "data": {
      "text/plain": [
       "<Figure size 1080x576 with 0 Axes>"
      ]
     },
     "execution_count": 16,
     "metadata": {},
     "output_type": "execute_result"
    },
    {
     "data": {
      "image/png": "[encoded data removed]",
      "text/plain": [
       "<Figure size 432x288 with 1 Axes>"
      ]
     },
     "metadata": {
      "needs_background": "light"
     },
     "output_type": "display_data"
    },
    {
     "data": {
      "text/plain": [
       "<Figure size 1080x576 with 0 Axes>"
      ]
     },
     "metadata": {},
     "output_type": "display_data"
    }
   ],
   "source": [
    "sns.scatterplot(x=sample.index,y=sample['nerdiness'],sizes = (300,350))\n",
    "plt.figure(figsize=(15,8))\n"
   ]
  },
  {
   "cell_type": "code",
   "execution_count": 17,
   "id": "08cb149f",
   "metadata": {},
   "outputs": [],
   "source": [
    "def plot_feature_importance(model, X_train, figsize=(12, 6)):\n",
    "    feature_importance = model.feature_importances_\n",
    "    feature_importance = 100.0 * (feature_importance / feature_importance.max())\n",
    "    sorted_idx = np.argsort(feature_importance)\n",
    "    pos = np.arange(sorted_idx.shape[0]) + .5\n",
    "    plt.figure(figsize=figsize)\n",
    "    plt.barh(pos, feature_importance[sorted_idx], align='center')\n",
    "    plt.yticks(pos, X_train.columns[sorted_idx])\n",
    "    plt.xlabel('Relative Importance')\n",
    "    plt.title('Variable Importance')\n",
    "    plt.show()            \n",
    "                \n",
    "\n",
    "        "
   ]
  },
  {
   "cell_type": "code",
   "execution_count": 18,
   "id": "95dc42af",
   "metadata": {},
   "outputs": [
    {
     "data": {
      "image/png": "[encoded data removed]",
      "text/plain": [
       "<Figure size 864x432 with 1 Axes>"
      ]
     },
     "metadata": {
      "needs_background": "light"
     },
     "output_type": "display_data"
    }
   ],
   "source": [
    "plot_feature_importance(model,x_train)"
   ]
  },
  {
   "cell_type": "code",
   "execution_count": null,
   "id": "4287708e",
   "metadata": {},
   "outputs": [],
   "source": []
  }
 ],
 "metadata": {
  "kernelspec": {
   "display_name": "Python 3 (ipykernel)",
   "language": "python",
   "name": "python3"
  },
  "language_info": {
   "codemirror_mode": {
    "name": "ipython",
    "version": 3
   },
   "file_extension": ".py",
   "mimetype": "text/x-python",
   "name": "python",
   "nbconvert_exporter": "python",
   "pygments_lexer": "ipython3",
   "version": "3.9.7"
  }
 },
 "nbformat": 4,
 "nbformat_minor": 5
}
