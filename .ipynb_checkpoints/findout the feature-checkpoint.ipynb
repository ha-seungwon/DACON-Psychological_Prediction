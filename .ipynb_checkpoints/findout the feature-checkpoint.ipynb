{
 "cells": [
  {
   "cell_type": "code",
   "execution_count": 28,
   "id": "ce9d72ee",
   "metadata": {},
   "outputs": [],
   "source": [
    "import pandas as pd\n",
    "import numpy as np\n",
    "from scipy import stats\n",
    "from math import ceil\n",
    "import matplotlib.pyplot as plt\n",
    "import seaborn as sns\n",
    "import sys\n",
    "import math\n",
    "import matplotlib.pyplot as plt\n",
    "from sklearn.model_selection import train_test_split\n",
    "import warnings\n",
    "from sklearn.metrics import confusion_matrix, accuracy_score, precision_score, recall_score\n",
    "from sklearn.metrics import confusion_matrix, f1_score, roc_auc_score\n",
    "from sklearn.preprocessing import QuantileTransformer"
   ]
  },
  {
   "cell_type": "code",
   "execution_count": 29,
   "id": "57accf60",
   "metadata": {},
   "outputs": [],
   "source": [
    "\n",
    "#https://dacon.io/codeshare/1877\n",
    "sample = pd.read_csv('sample_submission.csv')\n",
    "test = pd.read_csv('test.csv')\n",
    "train = pd.read_csv('train.csv')"
   ]
  },
  {
   "cell_type": "code",
   "execution_count": 30,
   "id": "b51a5a18",
   "metadata": {},
   "outputs": [],
   "source": [
    "country_map = {}\n",
    "\n",
    "for i, c in enumerate(train['country'].unique()):\n",
    "    country_map[c] = i\n",
    "    "
   ]
  },
  {
   "cell_type": "code",
   "execution_count": 31,
   "id": "1c97624b",
   "metadata": {},
   "outputs": [],
   "source": [
    "train['country'] = train['country'].map(country_map)\n",
    "test['country'] = test['country'].map(country_map) #country열 Mapping"
   ]
  },
  {
   "cell_type": "code",
   "execution_count": 32,
   "id": "b71b3d6c",
   "metadata": {},
   "outputs": [],
   "source": [
    "test = test.fillna(0)\n",
    "train = train.fillna(0)#test 결측치 0으로 채우기"
   ]
  },
  {
   "cell_type": "code",
   "execution_count": 33,
   "id": "ff1aad01",
   "metadata": {},
   "outputs": [],
   "source": [
    "\n",
    "x_train = train.loc[:, 'Q1':'ASD']\n",
    "y_train = train['nerdiness']\n",
    "x_test = test.loc[:, 'Q1':'ASD'] #index와 nerdiness열 제외\n"
   ]
  },
  {
   "cell_type": "code",
   "execution_count": 34,
   "id": "b78e70fa",
   "metadata": {},
   "outputs": [
    {
     "name": "stdout",
     "output_type": "stream",
     "text": [
      "Fitting 5 folds for each of 3 candidates, totalling 15 fits\n"
     ]
    },
    {
     "data": {
      "text/plain": [
       "GridSearchCV(estimator=RandomForestClassifier(n_jobs=-1, random_state=42),\n",
       "             n_jobs=-1, param_grid={'n_estimators': [100, 1000, 3000]},\n",
       "             scoring='accuracy', verbose=1)"
      ]
     },
     "execution_count": 34,
     "metadata": {},
     "output_type": "execute_result"
    }
   ],
   "source": [
    "\n",
    "from sklearn.ensemble import RandomForestClassifier\n",
    "model = RandomForestClassifier(random_state=42, n_jobs=-1)\n",
    "\n",
    "from sklearn.model_selection import KFold, GridSearchCV #하이퍼파라미터 튜닝을 위한 불러오기\n",
    "from sklearn.metrics import accuracy_score\n",
    "\n",
    "model_param_grid = {'n_estimators' : [100, 1000, 3000]} # Default(100)대비 큰값으로 Dictionary구성\n",
    "\n",
    "model_grid = GridSearchCV(model, param_grid = model_param_grid, scoring=\"accuracy\",n_jobs=-1,verbose=1) #훈련 (장치 사양에 따라 시간이 걸릴 수 있음)\n",
    "model_grid.fit(x_train, y_train)\n",
    "\n",
    "#pred = model_grid.predict_proba(x_test)[:,1] #proba를 통해 확률값으로 변환\n",
    "\n",
    "\n"
   ]
  },
  {
   "cell_type": "code",
   "execution_count": 35,
   "id": "9f7af207",
   "metadata": {},
   "outputs": [],
   "source": []
  },
  {
   "cell_type": "code",
   "execution_count": 36,
   "id": "7f474d58",
   "metadata": {},
   "outputs": [],
   "source": [
    "gcv=GridSearchCV(model, param_grid=model_param_grid, cv=cv, scoring='f1', n_jobs=-1)\n",
    "\n"
   ]
  },
  {
   "cell_type": "code",
   "execution_count": 37,
   "id": "be103d54",
   "metadata": {},
   "outputs": [
    {
     "name": "stdout",
     "output_type": "stream",
     "text": [
      "final params {'n_estimators': 3000}\n"
     ]
    },
    {
     "data": {
      "text/plain": [
       "RandomForestClassifier(n_estimators=3000, n_jobs=-1, random_state=42)"
      ]
     },
     "execution_count": 37,
     "metadata": {},
     "output_type": "execute_result"
    }
   ],
   "source": [
    "gcv.fit(x_train.values,y_train.values)\n",
    "print('final params', gcv.best_params_)   # 최적의 파라미터 값 출력\n",
    "\n",
    "model = RandomForestClassifier(n_estimators=3000, random_state=42, n_jobs=-1)\n",
    "\n",
    "model.fit(x_train, y_train) #학습\n",
    "\n"
   ]
  },
  {
   "cell_type": "code",
   "execution_count": 38,
   "id": "b35842d2",
   "metadata": {},
   "outputs": [],
   "source": [
    "pred = model.predict_proba(x_test)[:,1] #proba를 통해 확률값으로 변환\n",
    "\n"
   ]
  },
  {
   "cell_type": "code",
   "execution_count": 39,
   "id": "569c4c0d",
   "metadata": {},
   "outputs": [],
   "source": [
    "sample['nerdiness'] = pred"
   ]
  },
  {
   "cell_type": "code",
   "execution_count": 13,
   "id": "240170b5",
   "metadata": {},
   "outputs": [
    {
     "data": {
      "text/html": [
       "<div>\n",
       "<style scoped>\n",
       "    .dataframe tbody tr th:only-of-type {\n",
       "        vertical-align: middle;\n",
       "    }\n",
       "\n",
       "    .dataframe tbody tr th {\n",
       "        vertical-align: top;\n",
       "    }\n",
       "\n",
       "    .dataframe thead th {\n",
       "        text-align: right;\n",
       "    }\n",
       "</style>\n",
       "<table border=\"1\" class=\"dataframe\">\n",
       "  <thead>\n",
       "    <tr style=\"text-align: right;\">\n",
       "      <th></th>\n",
       "      <th>index</th>\n",
       "      <th>nerdiness</th>\n",
       "    </tr>\n",
       "  </thead>\n",
       "  <tbody>\n",
       "    <tr>\n",
       "      <th>0</th>\n",
       "      <td>0</td>\n",
       "      <td>0.250667</td>\n",
       "    </tr>\n",
       "    <tr>\n",
       "      <th>1</th>\n",
       "      <td>1</td>\n",
       "      <td>0.822000</td>\n",
       "    </tr>\n",
       "    <tr>\n",
       "      <th>2</th>\n",
       "      <td>2</td>\n",
       "      <td>0.852333</td>\n",
       "    </tr>\n",
       "    <tr>\n",
       "      <th>3</th>\n",
       "      <td>3</td>\n",
       "      <td>0.596667</td>\n",
       "    </tr>\n",
       "    <tr>\n",
       "      <th>4</th>\n",
       "      <td>4</td>\n",
       "      <td>0.845000</td>\n",
       "    </tr>\n",
       "    <tr>\n",
       "      <th>...</th>\n",
       "      <td>...</td>\n",
       "      <td>...</td>\n",
       "    </tr>\n",
       "    <tr>\n",
       "      <th>35447</th>\n",
       "      <td>35447</td>\n",
       "      <td>0.854000</td>\n",
       "    </tr>\n",
       "    <tr>\n",
       "      <th>35448</th>\n",
       "      <td>35448</td>\n",
       "      <td>0.723667</td>\n",
       "    </tr>\n",
       "    <tr>\n",
       "      <th>35449</th>\n",
       "      <td>35449</td>\n",
       "      <td>0.917000</td>\n",
       "    </tr>\n",
       "    <tr>\n",
       "      <th>35450</th>\n",
       "      <td>35450</td>\n",
       "      <td>0.268667</td>\n",
       "    </tr>\n",
       "    <tr>\n",
       "      <th>35451</th>\n",
       "      <td>35451</td>\n",
       "      <td>0.648000</td>\n",
       "    </tr>\n",
       "  </tbody>\n",
       "</table>\n",
       "<p>35452 rows × 2 columns</p>\n",
       "</div>"
      ],
      "text/plain": [
       "       index  nerdiness\n",
       "0          0   0.250667\n",
       "1          1   0.822000\n",
       "2          2   0.852333\n",
       "3          3   0.596667\n",
       "4          4   0.845000\n",
       "...      ...        ...\n",
       "35447  35447   0.854000\n",
       "35448  35448   0.723667\n",
       "35449  35449   0.917000\n",
       "35450  35450   0.268667\n",
       "35451  35451   0.648000\n",
       "\n",
       "[35452 rows x 2 columns]"
      ]
     },
     "execution_count": 13,
     "metadata": {},
     "output_type": "execute_result"
    }
   ],
   "source": [
    "sample"
   ]
  },
  {
   "cell_type": "code",
   "execution_count": 40,
   "id": "5465ec01",
   "metadata": {},
   "outputs": [],
   "source": [
    "sample['nerdiness']=sample['nerdiness'].round(3)\n",
    "sample['nerdiness']=sample['nerdiness'].round(2)\n",
    "sample['nerdiness']=sample['nerdiness'].round(1)\n",
    "sample['nerdiness']=sample['nerdiness'].round(0)"
   ]
  },
  {
   "cell_type": "code",
   "execution_count": 41,
   "id": "5a0d72aa",
   "metadata": {},
   "outputs": [],
   "source": [
    "sample.to_csv('result8.5_2.csv',index=False)"
   ]
  },
  {
   "cell_type": "code",
   "execution_count": 42,
   "id": "bf5c73de",
   "metadata": {},
   "outputs": [
    {
     "data": {
      "text/plain": [
       "19447.0"
      ]
     },
     "execution_count": 42,
     "metadata": {},
     "output_type": "execute_result"
    }
   ],
   "source": [
    "sample['nerdiness'].sum()"
   ]
  },
  {
   "cell_type": "code",
   "execution_count": null,
   "id": "a28f14aa",
   "metadata": {},
   "outputs": [],
   "source": []
  }
 ],
 "metadata": {
  "kernelspec": {
   "display_name": "Python 3 (ipykernel)",
   "language": "python",
   "name": "python3"
  },
  "language_info": {
   "codemirror_mode": {
    "name": "ipython",
    "version": 3
   },
   "file_extension": ".py",
   "mimetype": "text/x-python",
   "name": "python",
   "nbconvert_exporter": "python",
   "pygments_lexer": "ipython3",
   "version": "3.9.7"
  }
 },
 "nbformat": 4,
 "nbformat_minor": 5
}
