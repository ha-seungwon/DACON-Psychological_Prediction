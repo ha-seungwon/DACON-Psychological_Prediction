{
 "cells": [
  {
   "cell_type": "code",
   "execution_count": 1,
   "id": "dcc6518d",
   "metadata": {},
   "outputs": [],
   "source": [
    "import pandas as pd\n",
    "import numpy as np\n",
    "from scipy import stats\n",
    "from math import ceil\n",
    "import matplotlib.pyplot as plt\n",
    "import seaborn as sns\n",
    "import sys\n",
    "import math\n",
    "import matplotlib.pyplot as plt\n",
    "from sklearn.model_selection import train_test_split\n",
    "import warnings\n",
    "from sklearn.metrics import confusion_matrix, accuracy_score, precision_score, recall_score\n",
    "from sklearn.metrics import confusion_matrix, f1_score, roc_auc_score\n",
    "from sklearn.preprocessing import QuantileTransformer\n",
    "\n",
    "import xgboost\n",
    "from xgboost import XGBRegressor    \n",
    "from xgboost import XGBRegressor as model\n",
    "\n",
    "def count1(df):\n",
    "    result=[]\n",
    "    index=df.index.tolist()\n",
    "    for i in index:\n",
    "        x=df.loc[i].sum()\n",
    "        result.append(x-1)\n",
    "    return result\n",
    "\n",
    "def vcl_tr(df):\n",
    "    df_=df.loc[:, 'VCL1':'VCL16']\n",
    "    result=[]\n",
    "    index=df_.index.tolist()\n",
    "    for i in index:\n",
    "        x=df_.loc[i].sum()\n",
    "        if(x>=9):\n",
    "            result.append(1)\n",
    "        else:\n",
    "            result.append(0)\n",
    "    train['VCL_M']=result\n",
    "    \n",
    "def vcl_te(df):\n",
    "    df_=df.loc[:, 'VCL1':'VCL16']\n",
    "    result=[]\n",
    "    index=df_.index.tolist()\n",
    "    for i in index:\n",
    "        x=df_.loc[i].sum()\n",
    "        if(x>=9):\n",
    "            result.append(1)\n",
    "        else:\n",
    "            result.append(0)\n",
    "    test['VCL_M']=result\n",
    "\n",
    "def count0(df):\n",
    "    result=[]\n",
    "    index=df.index.tolist()\n",
    "    for i in index:\n",
    "        x=df.loc[i].sum()\n",
    "        result.append(x-1)\n",
    "    return result\n",
    "\n",
    "\n",
    "def q_tr(df):\n",
    "    df_=df.loc[:, 'Q1':'Q26']\n",
    "    result=[]\n",
    "    index=df_.index.tolist()\n",
    "    for i in index:\n",
    "        x=df_.loc[i].tolist()\n",
    "        re=0\n",
    "        for j in x:\n",
    "            re+=((j-1)/4)*100\n",
    "        result.append(re/(len(x)-1))\n",
    "    train['Q_m']=result\n",
    "    \n",
    "def q_te(df):\n",
    "    df_=df.loc[:, 'Q1':'Q26']\n",
    "    result=[]\n",
    "    index=df_.index.tolist()\n",
    "    for i in index:\n",
    "        x=df_.loc[i].tolist()\n",
    "        re=0\n",
    "        for j in x:\n",
    "            re+=((j-1)/4)*100\n",
    "        result.append(re/(len(x)-1))\n",
    "    test['Q_m']=result\n",
    "    \n",
    "def question_nan(df,col):\n",
    "    print(col)\n",
    "    train_q0=df[df[col]==0.0]\n",
    "    train_q1=df[df[col]!=0.0]\n",
    "    test_=train_q0\n",
    "    #결과 없는 test\n",
    "    train_=train_q1\n",
    "    #결과 들어가있는 train\n",
    "    test_=test_.drop(col,axis=1)\n",
    "    y = train_[col]\n",
    "    x= train_.drop(col,axis =1)\n",
    "    model = XGBRegressor(objective='reg:squarederror',learning_rate=0.1,max_depth = 4, n_estimators = 1000,n_jobs=-1)\n",
    "    model.fit(x, y)\n",
    "    pred = model.predict(test_)     \n",
    "    pred=pred.round(0)\n",
    "    pred=pred.tolist()\n",
    "    for i in range(len(pred)):\n",
    "        if(pred[i]<=0):\n",
    "            pred[i]=1\n",
    "    index=test_.index.tolist()\n",
    "    for i in range(len(index)):\n",
    "        df.at[index[i],col]=pred[i]\n"
   ]
  },
  {
   "cell_type": "code",
   "execution_count": 2,
   "id": "d5b3abf2",
   "metadata": {},
   "outputs": [],
   "source": [
    "sample = pd.read_csv('sample_submission.csv')\n",
    "test = pd.read_csv('test.csv')\n",
    "train = pd.read_csv('train.csv')\n",
    "Question_te=test.loc[:, 'Q1':'Q26']"
   ]
  },
  {
   "cell_type": "code",
   "execution_count": 3,
   "id": "9766d81a",
   "metadata": {},
   "outputs": [],
   "source": [
    "country_map = {}\n",
    "\n",
    "for i, c in enumerate(train['country'].unique()):\n",
    "    country_map[c] = i\n",
    "    "
   ]
  },
  {
   "cell_type": "code",
   "execution_count": 4,
   "id": "15608741",
   "metadata": {},
   "outputs": [],
   "source": [
    "train['country'] = train['country'].map(country_map)\n",
    "test['country'] = test['country'].map(country_map) #country열 Mapping"
   ]
  },
  {
   "cell_type": "code",
   "execution_count": 5,
   "id": "1b3e6650",
   "metadata": {},
   "outputs": [],
   "source": [
    "test = test.fillna(0)\n",
    "train = train.fillna(0)#test 결측치 0으로 채우기"
   ]
  },
  {
   "cell_type": "code",
   "execution_count": 6,
   "id": "b0c47d46",
   "metadata": {},
   "outputs": [],
   "source": [
    "vcl_tr(train)\n",
    "vcl_te(test)"
   ]
  },
  {
   "cell_type": "code",
   "execution_count": 7,
   "id": "9069c395",
   "metadata": {},
   "outputs": [],
   "source": [
    "\n",
    "train=train.drop(train.loc[:,'VCL1':'VCL16'],axis=1)\n",
    "test=test.drop(test.loc[:,'VCL1':'VCL16'],axis=1)"
   ]
  },
  {
   "cell_type": "code",
   "execution_count": 8,
   "id": "2c71e925",
   "metadata": {},
   "outputs": [],
   "source": [
    "q_tr(train)\n",
    "q_te(test)"
   ]
  },
  {
   "cell_type": "code",
   "execution_count": 9,
   "id": "919f4fac",
   "metadata": {},
   "outputs": [],
   "source": [
    "\n",
    "train=train.drop('index',axis=1)\n",
    "test=test.drop('index',axis=1)"
   ]
  },
  {
   "cell_type": "code",
   "execution_count": 10,
   "id": "ac0598df",
   "metadata": {},
   "outputs": [
    {
     "name": "stdout",
     "output_type": "stream",
     "text": [
      "Q1\n",
      "Q2\n",
      "Q3\n",
      "Q4\n",
      "Q5\n",
      "Q6\n",
      "Q7\n",
      "Q8\n",
      "Q9\n",
      "Q10\n",
      "Q11\n",
      "Q12\n",
      "Q13\n",
      "Q14\n",
      "Q15\n",
      "Q16\n",
      "Q17\n",
      "Q18\n",
      "Q19\n",
      "Q20\n",
      "Q21\n",
      "Q22\n",
      "Q23\n",
      "Q24\n",
      "Q25\n",
      "Q26\n",
      "Q1\n",
      "Q2\n",
      "Q3\n",
      "Q4\n",
      "Q5\n",
      "Q6\n",
      "Q7\n",
      "Q8\n",
      "Q9\n",
      "Q10\n",
      "Q11\n",
      "Q12\n",
      "Q13\n",
      "Q14\n",
      "Q15\n",
      "Q16\n",
      "Q17\n",
      "Q18\n",
      "Q19\n",
      "Q20\n",
      "Q21\n",
      "Q22\n",
      "Q23\n",
      "Q24\n",
      "Q25\n",
      "Q26\n"
     ]
    }
   ],
   "source": [
    "col=Question_te.columns.tolist()\n",
    "col\n",
    "\n",
    "for i in col:\n",
    "    question_nan(train,i)\n",
    "    \n",
    "for i in col:\n",
    "    question_nan(test,i)"
   ]
  },
  {
   "cell_type": "code",
   "execution_count": 29,
   "id": "a58eb346",
   "metadata": {},
   "outputs": [],
   "source": [
    "\n",
    "from sklearn.preprocessing import RobustScaler\n",
    "\n",
    "\n",
    "promos = ['introelapse','testelapse','surveyelapse']\n",
    "#MinMaxScaler\n",
    "#StandardScaler\n",
    "#RobustScaler\n",
    "#QuantileTransformer\n",
    "#PowerTransformer\n",
    "#KBinsDiscretizer\n",
    "scaler = RobustScaler()\n",
    "scaler.fit(train[promos])\n",
    "train[promos] = scaler.transform(train[promos])\n",
    "test[promos] = scaler.transform(test[promos])"
   ]
  },
  {
   "cell_type": "code",
   "execution_count": 30,
   "id": "3e91b313",
   "metadata": {},
   "outputs": [
    {
     "data": {
      "text/plain": [
       "array([0, 1, 1, ..., 1, 0, 1])"
      ]
     },
     "execution_count": 30,
     "metadata": {},
     "output_type": "execute_result"
    }
   ],
   "source": [
    "from xgboost import XGBClassifier\n",
    "y_train=train['nerdiness']\n",
    "x_train=train.drop('nerdiness',axis=1)\n",
    "model = XGBClassifier(objective='reg:squarederror',learning_rate=0.1,max_depth = 4, n_estimators = 3000,n_jobs=-1)\n",
    "model = model.fit(x_train, y_train)\n",
    "pred = model.predict(test)  \n",
    "pred\n",
    "\n"
   ]
  },
  {
   "cell_type": "code",
   "execution_count": 32,
   "id": "86e7f1a0",
   "metadata": {},
   "outputs": [],
   "source": [
    "sample['nerdiness'] = pred\n",
    "sample.to_csv('result8.8_3.csv',index=False)"
   ]
  },
  {
   "cell_type": "code",
   "execution_count": 33,
   "id": "24b0b8f8",
   "metadata": {},
   "outputs": [
    {
     "data": {
      "text/html": [
       "<div>\n",
       "<style scoped>\n",
       "    .dataframe tbody tr th:only-of-type {\n",
       "        vertical-align: middle;\n",
       "    }\n",
       "\n",
       "    .dataframe tbody tr th {\n",
       "        vertical-align: top;\n",
       "    }\n",
       "\n",
       "    .dataframe thead th {\n",
       "        text-align: right;\n",
       "    }\n",
       "</style>\n",
       "<table border=\"1\" class=\"dataframe\">\n",
       "  <thead>\n",
       "    <tr style=\"text-align: right;\">\n",
       "      <th></th>\n",
       "      <th>index</th>\n",
       "      <th>nerdiness</th>\n",
       "    </tr>\n",
       "  </thead>\n",
       "  <tbody>\n",
       "    <tr>\n",
       "      <th>0</th>\n",
       "      <td>0</td>\n",
       "      <td>0</td>\n",
       "    </tr>\n",
       "    <tr>\n",
       "      <th>1</th>\n",
       "      <td>1</td>\n",
       "      <td>1</td>\n",
       "    </tr>\n",
       "    <tr>\n",
       "      <th>2</th>\n",
       "      <td>2</td>\n",
       "      <td>1</td>\n",
       "    </tr>\n",
       "    <tr>\n",
       "      <th>3</th>\n",
       "      <td>3</td>\n",
       "      <td>1</td>\n",
       "    </tr>\n",
       "    <tr>\n",
       "      <th>4</th>\n",
       "      <td>4</td>\n",
       "      <td>1</td>\n",
       "    </tr>\n",
       "    <tr>\n",
       "      <th>...</th>\n",
       "      <td>...</td>\n",
       "      <td>...</td>\n",
       "    </tr>\n",
       "    <tr>\n",
       "      <th>35447</th>\n",
       "      <td>35447</td>\n",
       "      <td>1</td>\n",
       "    </tr>\n",
       "    <tr>\n",
       "      <th>35448</th>\n",
       "      <td>35448</td>\n",
       "      <td>0</td>\n",
       "    </tr>\n",
       "    <tr>\n",
       "      <th>35449</th>\n",
       "      <td>35449</td>\n",
       "      <td>1</td>\n",
       "    </tr>\n",
       "    <tr>\n",
       "      <th>35450</th>\n",
       "      <td>35450</td>\n",
       "      <td>0</td>\n",
       "    </tr>\n",
       "    <tr>\n",
       "      <th>35451</th>\n",
       "      <td>35451</td>\n",
       "      <td>1</td>\n",
       "    </tr>\n",
       "  </tbody>\n",
       "</table>\n",
       "<p>35452 rows × 2 columns</p>\n",
       "</div>"
      ],
      "text/plain": [
       "       index  nerdiness\n",
       "0          0          0\n",
       "1          1          1\n",
       "2          2          1\n",
       "3          3          1\n",
       "4          4          1\n",
       "...      ...        ...\n",
       "35447  35447          1\n",
       "35448  35448          0\n",
       "35449  35449          1\n",
       "35450  35450          0\n",
       "35451  35451          1\n",
       "\n",
       "[35452 rows x 2 columns]"
      ]
     },
     "execution_count": 33,
     "metadata": {},
     "output_type": "execute_result"
    }
   ],
   "source": [
    "sample"
   ]
  },
  {
   "cell_type": "code",
   "execution_count": 38,
   "id": "d163aa3c",
   "metadata": {},
   "outputs": [
    {
     "data": {
      "text/plain": [
       "0       -0.21875\n",
       "1       -0.15625\n",
       "2       -0.03125\n",
       "3       -0.25000\n",
       "4       -0.21875\n",
       "          ...   \n",
       "14995    0.06250\n",
       "14996    0.65625\n",
       "14997    0.21875\n",
       "14998    0.12500\n",
       "14999   -0.06250\n",
       "Name: introelapse, Length: 15000, dtype: float64"
      ]
     },
     "execution_count": 38,
     "metadata": {},
     "output_type": "execute_result"
    }
   ],
   "source": [
    "train['introelapse']\n"
   ]
  },
  {
   "cell_type": "code",
   "execution_count": null,
   "id": "ddc90638",
   "metadata": {},
   "outputs": [],
   "source": []
  }
 ],
 "metadata": {
  "kernelspec": {
   "display_name": "Python 3 (ipykernel)",
   "language": "python",
   "name": "python3"
  },
  "language_info": {
   "codemirror_mode": {
    "name": "ipython",
    "version": 3
   },
   "file_extension": ".py",
   "mimetype": "text/x-python",
   "name": "python",
   "nbconvert_exporter": "python",
   "pygments_lexer": "ipython3",
   "version": "3.9.7"
  }
 },
 "nbformat": 4,
 "nbformat_minor": 5
}
