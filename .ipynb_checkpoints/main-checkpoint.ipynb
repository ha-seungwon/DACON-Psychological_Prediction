{
 "cells": [
  {
   "cell_type": "code",
   "execution_count": 97,
   "id": "9bce4c78",
   "metadata": {},
   "outputs": [],
   "source": [
    "import pandas as pd\n",
    "import numpy as np\n",
    "from scipy import stats\n",
    "from math import ceil\n",
    "import matplotlib.pyplot as plt\n",
    "import seaborn as sns\n",
    "import sys\n",
    "import math\n",
    "import matplotlib.pyplot as plt\n",
    "from sklearn.model_selection import train_test_split\n",
    "import warnings\n",
    "from sklearn.metrics import confusion_matrix, accuracy_score, precision_score, recall_score\n",
    "from sklearn.metrics import confusion_matrix, f1_score, roc_auc_score\n",
    "from sklearn.preprocessing import QuantileTransformer"
   ]
  },
  {
   "cell_type": "code",
   "execution_count": 98,
   "id": "8e06ec12",
   "metadata": {},
   "outputs": [],
   "source": [
    "#https://dacon.io/codeshare/1877\n",
    "sample = pd.read_csv('sample_submission.csv')\n",
    "test = pd.read_csv('test.csv')\n",
    "train = pd.read_csv('train.csv')"
   ]
  },
  {
   "cell_type": "code",
   "execution_count": 99,
   "id": "86b0847e",
   "metadata": {},
   "outputs": [],
   "source": [
    "country_map = {}\n",
    "for i, c in enumerate(train['country'].unique()):\n",
    "    country_map[c] = i\n",
    "    "
   ]
  },
  {
   "cell_type": "code",
   "execution_count": 100,
   "id": "287917b3",
   "metadata": {},
   "outputs": [],
   "source": [
    "train['country'] = train['country'].map(country_map)\n",
    "test['country'] = test['country'].map(country_map) #country열 Mapping"
   ]
  },
  {
   "cell_type": "code",
   "execution_count": 101,
   "id": "980d0959",
   "metadata": {},
   "outputs": [],
   "source": [
    "test = test.fillna(0)\n",
    "train = train.fillna(0)#test 결측치 0으로 채우기"
   ]
  },
  {
   "cell_type": "code",
   "execution_count": 102,
   "id": "4ecb8bff",
   "metadata": {},
   "outputs": [
    {
     "data": {
      "text/plain": [
       "\"\\nx_train = train.loc[:, 'Q1':'ASD']\\ny_train = train['nerdiness']\\n\\nx_test = test.loc[:, 'Q1':'ASD'] #index와 nerdiness열 제외\\n\\n\""
      ]
     },
     "execution_count": 102,
     "metadata": {},
     "output_type": "execute_result"
    }
   ],
   "source": [
    "'''\n",
    "x_train = train.loc[:, 'Q1':'ASD']\n",
    "y_train = train['nerdiness']\n",
    "\n",
    "x_test = test.loc[:, 'Q1':'ASD'] #index와 nerdiness열 제외\n",
    "\n",
    "'''"
   ]
  },
  {
   "cell_type": "code",
   "execution_count": 103,
   "id": "29238318",
   "metadata": {},
   "outputs": [
    {
     "name": "stdout",
     "output_type": "stream",
     "text": [
      "<class 'pandas.core.frame.DataFrame'>\n",
      "RangeIndex: 15000 entries, 0 to 14999\n",
      "Data columns (total 70 columns):\n",
      " #   Column        Non-Null Count  Dtype  \n",
      "---  ------        --------------  -----  \n",
      " 0   index         15000 non-null  int64  \n",
      " 1   Q1            15000 non-null  float64\n",
      " 2   Q2            15000 non-null  float64\n",
      " 3   Q3            15000 non-null  float64\n",
      " 4   Q4            15000 non-null  float64\n",
      " 5   Q5            15000 non-null  float64\n",
      " 6   Q6            15000 non-null  float64\n",
      " 7   Q7            15000 non-null  float64\n",
      " 8   Q8            15000 non-null  float64\n",
      " 9   Q9            15000 non-null  float64\n",
      " 10  Q10           15000 non-null  float64\n",
      " 11  Q11           15000 non-null  float64\n",
      " 12  Q12           15000 non-null  float64\n",
      " 13  Q13           15000 non-null  float64\n",
      " 14  Q14           15000 non-null  float64\n",
      " 15  Q15           15000 non-null  float64\n",
      " 16  Q16           15000 non-null  float64\n",
      " 17  Q17           15000 non-null  float64\n",
      " 18  Q18           15000 non-null  float64\n",
      " 19  Q19           15000 non-null  float64\n",
      " 20  Q20           15000 non-null  float64\n",
      " 21  Q21           15000 non-null  float64\n",
      " 22  Q22           15000 non-null  float64\n",
      " 23  Q23           15000 non-null  float64\n",
      " 24  Q24           15000 non-null  float64\n",
      " 25  Q25           15000 non-null  float64\n",
      " 26  Q26           15000 non-null  float64\n",
      " 27  country       15000 non-null  int64  \n",
      " 28  introelapse   15000 non-null  int64  \n",
      " 29  testelapse    15000 non-null  int64  \n",
      " 30  surveyelapse  15000 non-null  int64  \n",
      " 31  TIPI1         15000 non-null  float64\n",
      " 32  TIPI2         15000 non-null  float64\n",
      " 33  TIPI3         15000 non-null  float64\n",
      " 34  TIPI4         15000 non-null  float64\n",
      " 35  TIPI5         15000 non-null  float64\n",
      " 36  TIPI6         15000 non-null  float64\n",
      " 37  TIPI7         15000 non-null  float64\n",
      " 38  TIPI8         15000 non-null  float64\n",
      " 39  TIPI9         15000 non-null  float64\n",
      " 40  TIPI10        15000 non-null  float64\n",
      " 41  VCL1          15000 non-null  int64  \n",
      " 42  VCL2          15000 non-null  int64  \n",
      " 43  VCL3          15000 non-null  int64  \n",
      " 44  VCL4          15000 non-null  int64  \n",
      " 45  VCL5          15000 non-null  int64  \n",
      " 46  VCL6          15000 non-null  int64  \n",
      " 47  VCL7          15000 non-null  int64  \n",
      " 48  VCL8          15000 non-null  int64  \n",
      " 49  VCL9          15000 non-null  int64  \n",
      " 50  VCL10         15000 non-null  int64  \n",
      " 51  VCL11         15000 non-null  int64  \n",
      " 52  VCL12         15000 non-null  int64  \n",
      " 53  VCL13         15000 non-null  int64  \n",
      " 54  VCL14         15000 non-null  int64  \n",
      " 55  VCL15         15000 non-null  int64  \n",
      " 56  VCL16         15000 non-null  int64  \n",
      " 57  education     15000 non-null  float64\n",
      " 58  urban         15000 non-null  int64  \n",
      " 59  gender        15000 non-null  float64\n",
      " 60  engnat        15000 non-null  float64\n",
      " 61  age           15000 non-null  int64  \n",
      " 62  hand          15000 non-null  float64\n",
      " 63  religion      15000 non-null  float64\n",
      " 64  orientation   15000 non-null  float64\n",
      " 65  voted         15000 non-null  float64\n",
      " 66  married       15000 non-null  float64\n",
      " 67  familysize    15000 non-null  float64\n",
      " 68  ASD           15000 non-null  float64\n",
      " 69  nerdiness     15000 non-null  int64  \n",
      "dtypes: float64(46), int64(24)\n",
      "memory usage: 8.0 MB\n"
     ]
    }
   ],
   "source": [
    "train.info()"
   ]
  },
  {
   "cell_type": "code",
   "execution_count": 104,
   "id": "101680d3",
   "metadata": {},
   "outputs": [],
   "source": [
    "\n",
    "for i in range(27,68,1):\n",
    "    train=train.drop(train.columns[26],axis=1)\n",
    "    test=test.drop(test.columns[26],axis=1)\n",
    "\n"
   ]
  },
  {
   "cell_type": "code",
   "execution_count": 105,
   "id": "10cefd1b",
   "metadata": {},
   "outputs": [],
   "source": [
    "\n",
    "train=train.drop(columns=['index','familysize','ASD'],axis=1)\n",
    "\n",
    "\n",
    "\n",
    "test=test.drop(columns=['index','familysize','ASD'],axis=1)\n"
   ]
  },
  {
   "cell_type": "code",
   "execution_count": 108,
   "id": "cb06b196",
   "metadata": {},
   "outputs": [],
   "source": [
    "\n",
    "y_train=train['nerdiness']\n",
    "x_train=train.drop('nerdiness',axis=1)\n",
    "x_test = test"
   ]
  },
  {
   "cell_type": "code",
   "execution_count": 109,
   "id": "6b16a5b7",
   "metadata": {},
   "outputs": [
    {
     "name": "stdout",
     "output_type": "stream",
     "text": [
      "Fitting 5 folds for each of 3 candidates, totalling 15 fits\n"
     ]
    },
    {
     "data": {
      "text/plain": [
       "\"\\ncv=KFold(n_splits=6, random_state=42) #교차검증\\n\\ngcv=GridSearchCV(model, param_grid=model_param_grid, cv=cv, scoring='f1', n_jobs=-1)\\n\\ngcv.fit(x_train.values,y_train.values)\\nprint('final params', gcv.best_params_)   # 최적의 파라미터 값 출력\\n\\nmodel = RandomForestClassifier(n_estimators=3000, random_state=42, n_jobs=-1)\\n\\nmodel.fit(x_train, y_train) #학습\\n\\npred = model.predict_proba(x_test)[:,1] #proba를 통해 확률값으로 변환\\n\\nsubmission['nerdiness'] = pred\\n\\n\""
      ]
     },
     "execution_count": 109,
     "metadata": {},
     "output_type": "execute_result"
    }
   ],
   "source": [
    "from sklearn.ensemble import RandomForestClassifier\n",
    "model = RandomForestClassifier(random_state=42, n_jobs=-1)\n",
    "\n",
    "from sklearn.model_selection import KFold, GridSearchCV #하이퍼파라미터 튜닝을 위한 불러오기\n",
    "from sklearn.metrics import accuracy_score\n",
    "\n",
    "model_param_grid = {'n_estimators' : [100, 1000, 3000]} # Default(100)대비 큰값으로 Dictionary구성\n",
    "\n",
    "model_grid = GridSearchCV(model, param_grid = model_param_grid, scoring=\"accuracy\",n_jobs=-1,verbose=1) #훈련 (장치 사양에 따라 시간이 걸릴 수 있음)\n",
    "model_grid.fit(x_train, y_train)\n",
    "\n",
    "pred = model_grid.predict_proba(x_test)[:,1] #proba를 통해 확률값으로 변환\n",
    "\n",
    "sample['nerdiness'] = pred\n",
    "'''\n",
    "cv=KFold(n_splits=6, random_state=42) #교차검증\n",
    "\n",
    "gcv=GridSearchCV(model, param_grid=model_param_grid, cv=cv, scoring='f1', n_jobs=-1)\n",
    "\n",
    "gcv.fit(x_train.values,y_train.values)\n",
    "print('final params', gcv.best_params_)   # 최적의 파라미터 값 출력\n",
    "\n",
    "model = RandomForestClassifier(n_estimators=3000, random_state=42, n_jobs=-1)\n",
    "\n",
    "model.fit(x_train, y_train) #학습\n",
    "\n",
    "pred = model.predict_proba(x_test)[:,1] #proba를 통해 확률값으로 변환\n",
    "\n",
    "submission['nerdiness'] = pred\n",
    "\n",
    "'''"
   ]
  },
  {
   "cell_type": "code",
   "execution_count": 110,
   "id": "1d480f02",
   "metadata": {},
   "outputs": [],
   "source": [
    "sample['nerdiness']=sample['nerdiness'].round(0)"
   ]
  },
  {
   "cell_type": "code",
   "execution_count": 111,
   "id": "723b5dbe",
   "metadata": {},
   "outputs": [],
   "source": [
    "sample.to_csv('result8.3_2.csv',index=False)"
   ]
  },
  {
   "cell_type": "code",
   "execution_count": 112,
   "id": "5dd171d5",
   "metadata": {},
   "outputs": [
    {
     "data": {
      "text/html": [
       "<div>\n",
       "<style scoped>\n",
       "    .dataframe tbody tr th:only-of-type {\n",
       "        vertical-align: middle;\n",
       "    }\n",
       "\n",
       "    .dataframe tbody tr th {\n",
       "        vertical-align: top;\n",
       "    }\n",
       "\n",
       "    .dataframe thead th {\n",
       "        text-align: right;\n",
       "    }\n",
       "</style>\n",
       "<table border=\"1\" class=\"dataframe\">\n",
       "  <thead>\n",
       "    <tr style=\"text-align: right;\">\n",
       "      <th></th>\n",
       "      <th>index</th>\n",
       "      <th>nerdiness</th>\n",
       "    </tr>\n",
       "  </thead>\n",
       "  <tbody>\n",
       "    <tr>\n",
       "      <th>0</th>\n",
       "      <td>0</td>\n",
       "      <td>0.0</td>\n",
       "    </tr>\n",
       "    <tr>\n",
       "      <th>1</th>\n",
       "      <td>1</td>\n",
       "      <td>1.0</td>\n",
       "    </tr>\n",
       "    <tr>\n",
       "      <th>2</th>\n",
       "      <td>2</td>\n",
       "      <td>1.0</td>\n",
       "    </tr>\n",
       "    <tr>\n",
       "      <th>3</th>\n",
       "      <td>3</td>\n",
       "      <td>1.0</td>\n",
       "    </tr>\n",
       "    <tr>\n",
       "      <th>4</th>\n",
       "      <td>4</td>\n",
       "      <td>1.0</td>\n",
       "    </tr>\n",
       "    <tr>\n",
       "      <th>...</th>\n",
       "      <td>...</td>\n",
       "      <td>...</td>\n",
       "    </tr>\n",
       "    <tr>\n",
       "      <th>35447</th>\n",
       "      <td>35447</td>\n",
       "      <td>1.0</td>\n",
       "    </tr>\n",
       "    <tr>\n",
       "      <th>35448</th>\n",
       "      <td>35448</td>\n",
       "      <td>1.0</td>\n",
       "    </tr>\n",
       "    <tr>\n",
       "      <th>35449</th>\n",
       "      <td>35449</td>\n",
       "      <td>1.0</td>\n",
       "    </tr>\n",
       "    <tr>\n",
       "      <th>35450</th>\n",
       "      <td>35450</td>\n",
       "      <td>0.0</td>\n",
       "    </tr>\n",
       "    <tr>\n",
       "      <th>35451</th>\n",
       "      <td>35451</td>\n",
       "      <td>1.0</td>\n",
       "    </tr>\n",
       "  </tbody>\n",
       "</table>\n",
       "<p>35452 rows × 2 columns</p>\n",
       "</div>"
      ],
      "text/plain": [
       "       index  nerdiness\n",
       "0          0        0.0\n",
       "1          1        1.0\n",
       "2          2        1.0\n",
       "3          3        1.0\n",
       "4          4        1.0\n",
       "...      ...        ...\n",
       "35447  35447        1.0\n",
       "35448  35448        1.0\n",
       "35449  35449        1.0\n",
       "35450  35450        0.0\n",
       "35451  35451        1.0\n",
       "\n",
       "[35452 rows x 2 columns]"
      ]
     },
     "execution_count": 112,
     "metadata": {},
     "output_type": "execute_result"
    }
   ],
   "source": [
    "sample"
   ]
  },
  {
   "cell_type": "code",
   "execution_count": null,
   "id": "2f145785",
   "metadata": {},
   "outputs": [],
   "source": [
    "import xgboost# index introelapse orientation\n",
    "from xgboost import XGBRegressor\n",
    "from xgboost import XGBRegressor as model\n",
    "from lightgbm import LGBMClassifier\n",
    "\n",
    "y = train['nerdiness']\n",
    "x= train.drop('nerdiness',axis =1)\n",
    "model = XGBRegressor(objective='reg:squarederror',learning_rate=0.1,max_depth = 4, n_estimators = 1000)\n",
    "model.fit(x, y)\n",
    "pred = model.predict(test)      ㄴ\n",
    "pred = pd.DataFrame(pred, columns=['nerdiness'])\n",
    "pred['nerdiness'].tolist()\n"
   ]
  },
  {
   "cell_type": "code",
   "execution_count": null,
   "id": "615fa8e7",
   "metadata": {},
   "outputs": [],
   "source": [
    "plt.figure(figsize=(50,50))\n",
    "sns.heatmap(data = train.corr(), annot=True, \n",
    "fmt = '.2f', linewidths=.5, cmap='Blues')"
   ]
  },
  {
   "cell_type": "code",
   "execution_count": 37,
   "id": "3cda93e3",
   "metadata": {},
   "outputs": [
    {
     "name": "stdout",
     "output_type": "stream",
     "text": [
      "<class 'pandas.core.frame.DataFrame'>\n",
      "RangeIndex: 15000 entries, 0 to 14999\n",
      "Data columns (total 68 columns):\n",
      " #   Column        Non-Null Count  Dtype  \n",
      "---  ------        --------------  -----  \n",
      " 0   Q1            15000 non-null  float64\n",
      " 1   Q2            15000 non-null  float64\n",
      " 2   Q3            15000 non-null  float64\n",
      " 3   Q4            15000 non-null  float64\n",
      " 4   Q5            15000 non-null  float64\n",
      " 5   Q6            15000 non-null  float64\n",
      " 6   Q7            15000 non-null  float64\n",
      " 7   Q8            15000 non-null  float64\n",
      " 8   Q9            15000 non-null  float64\n",
      " 9   Q10           15000 non-null  float64\n",
      " 10  Q11           15000 non-null  float64\n",
      " 11  Q12           15000 non-null  float64\n",
      " 12  Q13           15000 non-null  float64\n",
      " 13  Q14           15000 non-null  float64\n",
      " 14  Q15           15000 non-null  float64\n",
      " 15  Q16           15000 non-null  float64\n",
      " 16  Q17           15000 non-null  float64\n",
      " 17  Q18           15000 non-null  float64\n",
      " 18  Q19           15000 non-null  float64\n",
      " 19  Q20           15000 non-null  float64\n",
      " 20  Q21           15000 non-null  float64\n",
      " 21  Q22           15000 non-null  float64\n",
      " 22  Q23           15000 non-null  float64\n",
      " 23  Q24           15000 non-null  float64\n",
      " 24  Q25           15000 non-null  float64\n",
      " 25  Q26           15000 non-null  float64\n",
      " 26  country       15000 non-null  int64  \n",
      " 27  introelapse   15000 non-null  int64  \n",
      " 28  testelapse    15000 non-null  int64  \n",
      " 29  surveyelapse  15000 non-null  int64  \n",
      " 30  TIPI1         15000 non-null  float64\n",
      " 31  TIPI2         15000 non-null  float64\n",
      " 32  TIPI3         15000 non-null  float64\n",
      " 33  TIPI4         15000 non-null  float64\n",
      " 34  TIPI5         15000 non-null  float64\n",
      " 35  TIPI6         15000 non-null  float64\n",
      " 36  TIPI7         15000 non-null  float64\n",
      " 37  TIPI8         15000 non-null  float64\n",
      " 38  TIPI9         15000 non-null  float64\n",
      " 39  TIPI10        15000 non-null  float64\n",
      " 40  VCL1          15000 non-null  int64  \n",
      " 41  VCL2          15000 non-null  int64  \n",
      " 42  VCL3          15000 non-null  int64  \n",
      " 43  VCL4          15000 non-null  int64  \n",
      " 44  VCL5          15000 non-null  int64  \n",
      " 45  VCL6          15000 non-null  int64  \n",
      " 46  VCL7          15000 non-null  int64  \n",
      " 47  VCL8          15000 non-null  int64  \n",
      " 48  VCL9          15000 non-null  int64  \n",
      " 49  VCL10         15000 non-null  int64  \n",
      " 50  VCL11         15000 non-null  int64  \n",
      " 51  VCL12         15000 non-null  int64  \n",
      " 52  VCL13         15000 non-null  int64  \n",
      " 53  VCL14         15000 non-null  int64  \n",
      " 54  VCL15         15000 non-null  int64  \n",
      " 55  VCL16         15000 non-null  int64  \n",
      " 56  education     15000 non-null  float64\n",
      " 57  urban         15000 non-null  int64  \n",
      " 58  gender        15000 non-null  float64\n",
      " 59  engnat        15000 non-null  float64\n",
      " 60  age           15000 non-null  int64  \n",
      " 61  hand          15000 non-null  float64\n",
      " 62  religion      15000 non-null  float64\n",
      " 63  orientation   15000 non-null  float64\n",
      " 64  voted         15000 non-null  float64\n",
      " 65  married       15000 non-null  float64\n",
      " 66  familysize    15000 non-null  float64\n",
      " 67  ASD           15000 non-null  float64\n",
      "dtypes: float64(46), int64(22)\n",
      "memory usage: 7.8 MB\n"
     ]
    }
   ],
   "source": [
    "x_train.info()"
   ]
  },
  {
   "cell_type": "code",
   "execution_count": null,
   "id": "48500701",
   "metadata": {},
   "outputs": [],
   "source": []
  }
 ],
 "metadata": {
  "kernelspec": {
   "display_name": "Python 3 (ipykernel)",
   "language": "python",
   "name": "python3"
  },
  "language_info": {
   "codemirror_mode": {
    "name": "ipython",
    "version": 3
   },
   "file_extension": ".py",
   "mimetype": "text/x-python",
   "name": "python",
   "nbconvert_exporter": "python",
   "pygments_lexer": "ipython3",
   "version": "3.9.7"
  }
 },
 "nbformat": 4,
 "nbformat_minor": 5
}
