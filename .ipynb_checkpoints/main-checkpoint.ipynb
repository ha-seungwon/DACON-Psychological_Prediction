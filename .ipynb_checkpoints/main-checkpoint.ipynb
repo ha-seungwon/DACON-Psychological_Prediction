{
 "cells": [
  {
   "cell_type": "code",
   "execution_count": 1,
   "id": "b40345cc",
   "metadata": {},
   "outputs": [],
   "source": [
    "import pandas as pd\n",
    "import numpy as np\n",
    "from scipy import stats\n",
    "from math import ceil\n",
    "import matplotlib.pyplot as plt\n",
    "import seaborn as sns\n",
    "import sys\n",
    "import math\n",
    "import matplotlib.pyplot as plt\n",
    "from sklearn.model_selection import train_test_split\n",
    "import warnings\n",
    "from sklearn.metrics import confusion_matrix, accuracy_score, precision_score, recall_score\n",
    "from sklearn.metrics import confusion_matrix, f1_score, roc_auc_score\n",
    "from sklearn.preprocessing import QuantileTransformer\n",
    "\n",
    "import xgboost\n",
    "from xgboost import XGBRegressor    \n",
    "from xgboost import XGBRegressor as model\n",
    "\n",
    "def count1(df):\n",
    "    result=[]\n",
    "    index=df.index.tolist()\n",
    "    for i in index:\n",
    "        x=df.loc[i].sum()\n",
    "        result.append(x-1)\n",
    "    return result\n",
    "\n",
    "def vcl_tr(df):\n",
    "    df_=df.loc[:, 'VCL1':'VCL16']\n",
    "    result=[]\n",
    "    index=df_.index.tolist()\n",
    "    for i in index:\n",
    "        x=df_.loc[i].sum()\n",
    "        if(x>=9):\n",
    "            result.append(1)\n",
    "        else:\n",
    "            result.append(0)\n",
    "    train['VCL_M']=result\n",
    "    \n",
    "def vcl_te(df):\n",
    "    df_=df.loc[:, 'VCL1':'VCL16']\n",
    "    result=[]\n",
    "    index=df_.index.tolist()\n",
    "    for i in index:\n",
    "        x=df_.loc[i].sum()\n",
    "        if(x>=9):\n",
    "            result.append(1)\n",
    "        else:\n",
    "            result.append(0)\n",
    "    test['VCL_M']=result\n",
    "\n",
    "def count0(df):\n",
    "    result=[]\n",
    "    index=df.index.tolist()\n",
    "    for i in index:\n",
    "        x=df.loc[i].sum()\n",
    "        result.append(x-1)\n",
    "    return result\n",
    "\n",
    "\n",
    "def q_tr(df):\n",
    "    df_=df.loc[:, 'Q1':'Q26']\n",
    "    result=[]\n",
    "    index=df_.index.tolist()\n",
    "    for i in index:\n",
    "        x=df_.loc[i].tolist()\n",
    "        re=0\n",
    "        for j in x:\n",
    "            re+=((j-1)/4)*100\n",
    "        result.append(re/(len(x)-1))\n",
    "    train['Q_m']=result\n",
    "    \n",
    "def q_te(df):\n",
    "    df_=df.loc[:, 'Q1':'Q26']\n",
    "    result=[]\n",
    "    index=df_.index.tolist()\n",
    "    for i in index:\n",
    "        x=df_.loc[i].tolist()\n",
    "        re=0\n",
    "        for j in x:\n",
    "            re+=((j-1)/4)*100\n",
    "        result.append(re/(len(x)-1))\n",
    "    test['Q_m']=result\n",
    "    \n",
    "def question_nan(df,col):\n",
    "    train_q0=df[df[col]==0.0]\n",
    "    train_q1=df[df[col]!=0.0]\n",
    "    test_=train_q0\n",
    "    #결과 없는 test\n",
    "    train_=train_q1\n",
    "    #결과 들어가있는 train\n",
    "    test_=test_.drop(col,axis=1)\n",
    "    y = train_[col]\n",
    "    x= train_.drop(col,axis =1)\n",
    "    model = XGBRegressor(objective='reg:squarederror',learning_rate=0.1,max_depth = 4, n_estimators = 1000)\n",
    "    model.fit(x, y)\n",
    "    pred = model.predict(test_)      \n",
    "    pred=pred.round(0)\n",
    "    pred=pred.tolist()\n",
    "    for i in range(len(pred)):\n",
    "        if(pred[i]<=0):\n",
    "            pred[i]=1\n",
    "    index=test_.index.tolist()\n",
    "    for i in range(len(index)):\n",
    "        df.at[index[i],col]=pred[i]\n"
   ]
  },
  {
   "cell_type": "code",
   "execution_count": 2,
   "id": "24c2d497",
   "metadata": {},
   "outputs": [],
   "source": [
    "sample = pd.read_csv('sample_submission.csv')\n",
    "test = pd.read_csv('test.csv')\n",
    "train = pd.read_csv('train.csv')\n",
    "Question_te=test.loc[:, 'Q1':'Q26']"
   ]
  },
  {
   "cell_type": "code",
   "execution_count": 3,
   "id": "90571284",
   "metadata": {},
   "outputs": [],
   "source": [
    "country_map = {}\n",
    "\n",
    "for i, c in enumerate(train['country'].unique()):\n",
    "    country_map[c] = i\n",
    "    "
   ]
  },
  {
   "cell_type": "code",
   "execution_count": 4,
   "id": "ad9a32b9",
   "metadata": {},
   "outputs": [],
   "source": [
    "train['country'] = train['country'].map(country_map)\n",
    "test['country'] = test['country'].map(country_map) #country열 Mapping"
   ]
  },
  {
   "cell_type": "code",
   "execution_count": 5,
   "id": "967bc52e",
   "metadata": {},
   "outputs": [],
   "source": [
    "test = test.fillna(0)\n",
    "train = train.fillna(0)#test 결측치 0으로 채우기"
   ]
  },
  {
   "cell_type": "code",
   "execution_count": 6,
   "id": "2fdc3e5d",
   "metadata": {},
   "outputs": [],
   "source": [
    "vcl_tr(train)\n",
    "vcl_te(test)"
   ]
  },
  {
   "cell_type": "code",
   "execution_count": 7,
   "id": "66cf8646",
   "metadata": {},
   "outputs": [],
   "source": [
    "\n",
    "train=train.drop(train.loc[:,'VCL1':'VCL16'],axis=1)\n",
    "test=test.drop(test.loc[:,'VCL1':'VCL16'],axis=1)"
   ]
  },
  {
   "cell_type": "code",
   "execution_count": 8,
   "id": "4ef1e24e",
   "metadata": {},
   "outputs": [],
   "source": [
    "q_tr(train)\n",
    "q_te(test)"
   ]
  },
  {
   "cell_type": "code",
   "execution_count": null,
   "id": "8a8d81ff",
   "metadata": {},
   "outputs": [],
   "source": [
    "\n",
    "\n",
    "col=Question_te.columns.tolist()\n",
    "col\n",
    "\n",
    "for i in col:\n",
    "    question_nan(train,i)\n",
    "    \n",
    "for i in col:\n",
    "    question_nan(test,i)\n",
    "    "
   ]
  },
  {
   "cell_type": "code",
   "execution_count": null,
   "id": "f0e5e712",
   "metadata": {},
   "outputs": [],
   "source": [
    "\n",
    "train=train.drop('index',axis=1)\n",
    "test=test.drop('index',axis=1)"
   ]
  },
  {
   "cell_type": "code",
   "execution_count": null,
   "id": "23b95c12",
   "metadata": {},
   "outputs": [],
   "source": [
    "\n",
    "x_train = train.drop('nerdiness',axis=1)\n",
    "x_train=x_train.loc[:, 'Q1':'Q26']\n",
    "y_train = train['nerdiness']\n",
    "test=test=test.loc[:, 'Q1':'Q26']"
   ]
  },
  {
   "cell_type": "code",
   "execution_count": null,
   "id": "245832ed",
   "metadata": {},
   "outputs": [],
   "source": [
    "from sklearn.ensemble import RandomForestClassifier\n",
    "model = RandomForestClassifier(random_state=42, n_jobs=-1)\n",
    "\n",
    "from sklearn.model_selection import KFold, GridSearchCV #하이퍼파라미터 튜닝을 위한 불러오기\n",
    "from sklearn.metrics import accuracy_score\n",
    "\n",
    "model_param_grid = {'n_estimators' : [100, 1000, 3000]} # Default(100)대비 큰값으로 Dictionary구성\n",
    "\n",
    "model_grid = GridSearchCV(model, param_grid = model_param_grid, scoring=\"accuracy\",n_jobs=-1,verbose=1) #훈련 (장치 사양에 따라 시간이 걸릴 수 있음)\n",
    "model_grid.fit(x_train, y_train)"
   ]
  },
  {
   "cell_type": "code",
   "execution_count": null,
   "id": "61938b56",
   "metadata": {},
   "outputs": [],
   "source": [
    "\n",
    "gcv=GridSearchCV(model, param_grid=model_param_grid, scoring='f1', n_jobs=-1)"
   ]
  },
  {
   "cell_type": "code",
   "execution_count": null,
   "id": "6def8d1e",
   "metadata": {},
   "outputs": [],
   "source": [
    "\n",
    "gcv.fit(x_train.values,y_train.values)\n",
    "print('final params', gcv.best_params_)   # 최적의 파라미터 값 출력\n",
    "\n",
    "model = RandomForestClassifier(n_estimators=3000, random_state=42, n_jobs=-1)\n",
    "\n",
    "model.fit(x_train, y_train) #학습"
   ]
  },
  {
   "cell_type": "code",
   "execution_count": null,
   "id": "8f70c3b4",
   "metadata": {},
   "outputs": [],
   "source": [
    "\n",
    "pred = model.predict_proba(test)[:,1] #proba를 통해 확률값으로 변환"
   ]
  },
  {
   "cell_type": "code",
   "execution_count": null,
   "id": "9fddc261",
   "metadata": {},
   "outputs": [],
   "source": [
    "sample['nerdiness'] = pred"
   ]
  },
  {
   "cell_type": "code",
   "execution_count": null,
   "id": "0d3bd5b1",
   "metadata": {},
   "outputs": [],
   "source": [
    "sample['nerdiness']=sample['nerdiness'].round(3)\n",
    "sample['nerdiness']=sample['nerdiness'].round(2)\n",
    "sample['nerdiness']=sample['nerdiness'].round(1)\n",
    "sample['nerdiness']=sample['nerdiness'].round(0)"
   ]
  },
  {
   "cell_type": "code",
   "execution_count": null,
   "id": "c76ef55d",
   "metadata": {},
   "outputs": [],
   "source": [
    "sample[sample['nerdiness']>=2]\n"
   ]
  },
  {
   "cell_type": "code",
   "execution_count": null,
   "id": "0b2a090e",
   "metadata": {},
   "outputs": [],
   "source": [
    "sample.to_csv('result8.6_2.csv',index=False)"
   ]
  },
  {
   "cell_type": "code",
   "execution_count": null,
   "id": "93fbbefd",
   "metadata": {},
   "outputs": [],
   "source": [
    "sample['nerdiness'].sum()\n",
    "#19384.0"
   ]
  },
  {
   "cell_type": "code",
   "execution_count": null,
   "id": "b4d73f3b",
   "metadata": {},
   "outputs": [],
   "source": [
    "test"
   ]
  },
  {
   "cell_type": "code",
   "execution_count": null,
   "id": "5cfa9255",
   "metadata": {},
   "outputs": [],
   "source": [
    "train"
   ]
  },
  {
   "cell_type": "code",
   "execution_count": null,
   "id": "84d6a4d4",
   "metadata": {},
   "outputs": [],
   "source": []
  }
 ],
 "metadata": {
  "kernelspec": {
   "display_name": "Python 3 (ipykernel)",
   "language": "python",
   "name": "python3"
  },
  "language_info": {
   "codemirror_mode": {
    "name": "ipython",
    "version": 3
   },
   "file_extension": ".py",
   "mimetype": "text/x-python",
   "name": "python",
   "nbconvert_exporter": "python",
   "pygments_lexer": "ipython3",
   "version": "3.9.7"
  }
 },
 "nbformat": 4,
 "nbformat_minor": 5
}
