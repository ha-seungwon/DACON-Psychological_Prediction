{
 "cells": [
  {
   "cell_type": "code",
   "execution_count": 35,
   "id": "9bce4c78",
   "metadata": {},
   "outputs": [],
   "source": [
    "import pandas as pd\n",
    "import numpy as np\n",
    "from scipy import stats\n",
    "from math import ceil\n",
    "import matplotlib.pyplot as plt\n",
    "import seaborn as sns\n",
    "import sys\n",
    "import math\n",
    "import matplotlib.pyplot as plt\n",
    "from sklearn.model_selection import train_test_split\n",
    "import warnings\n",
    "from sklearn.metrics import confusion_matrix, accuracy_score, precision_score, recall_score\n",
    "from sklearn.metrics import confusion_matrix, f1_score, roc_auc_score\n",
    "from sklearn.preprocessing import QuantileTransformer\n",
    "\n",
    "\n",
    "\n",
    "def count1(df):\n",
    "    result=[]\n",
    "    index=df.index.tolist()\n",
    "    for i in index:\n",
    "        x=df.loc[i].sum()\n",
    "        result.append(x-1)\n",
    "    return result\n",
    "\n",
    "def vcl_tr(df):\n",
    "    df_=df.loc[:, 'VCL1':'VCL16']\n",
    "    result=[]\n",
    "    index=df_.index.tolist()\n",
    "    for i in index:\n",
    "        x=df_.loc[i].sum()\n",
    "        if(x>=9):\n",
    "            result.append(1)\n",
    "        else:\n",
    "            result.append(0)\n",
    "    train['VCL_M']=result\n",
    "    \n",
    "def vcl_te(df):\n",
    "    df_=df.loc[:, 'VCL1':'VCL16']\n",
    "    result=[]\n",
    "    index=df_.index.tolist()\n",
    "    for i in index:\n",
    "        x=df_.loc[i].sum()\n",
    "        if(x>=9):\n",
    "            result.append(1)\n",
    "        else:\n",
    "            result.append(0)\n",
    "    test['VCL_M']=result\n",
    "\n",
    "def count0(df):\n",
    "    result=[]\n",
    "    index=df.index.tolist()\n",
    "    for i in index:\n",
    "        x=df.loc[i].sum()\n",
    "        result.append(x-1)\n",
    "    return result"
   ]
  },
  {
   "cell_type": "code",
   "execution_count": 36,
   "id": "8e06ec12",
   "metadata": {},
   "outputs": [],
   "source": [
    "#https://dacon.io/codeshare/1877\n",
    "sample = pd.read_csv('sample_submission.csv')\n",
    "test = pd.read_csv('test.csv')\n",
    "train = pd.read_csv('train.csv')\n",
    "\n",
    "\n",
    "\n"
   ]
  },
  {
   "cell_type": "code",
   "execution_count": 37,
   "id": "86b0847e",
   "metadata": {},
   "outputs": [],
   "source": [
    "country_map = {}\n",
    "\n",
    "for i, c in enumerate(train['country'].unique()):\n",
    "    country_map[c] = i\n",
    "    "
   ]
  },
  {
   "cell_type": "code",
   "execution_count": 38,
   "id": "287917b3",
   "metadata": {},
   "outputs": [],
   "source": [
    "train['country'] = train['country'].map(country_map)\n",
    "test['country'] = test['country'].map(country_map) #country열 Mapping"
   ]
  },
  {
   "cell_type": "code",
   "execution_count": 39,
   "id": "980d0959",
   "metadata": {},
   "outputs": [],
   "source": [
    "test = test.fillna(0)\n",
    "train = train.fillna(0)#test 결측치 0으로 채우기"
   ]
  },
  {
   "cell_type": "code",
   "execution_count": null,
   "id": "c3fc07d6",
   "metadata": {},
   "outputs": [],
   "source": []
  },
  {
   "cell_type": "markdown",
   "id": "f9d35eb1",
   "metadata": {},
   "source": [
    "### vcl feature"
   ]
  },
  {
   "cell_type": "code",
   "execution_count": 40,
   "id": "e863cd7e",
   "metadata": {},
   "outputs": [],
   "source": [
    "vcl=train.iloc[:,[41,42,43,44,45,46,47,48,49,50,51,52,53,54,55,56,69]]"
   ]
  },
  {
   "cell_type": "code",
   "execution_count": 41,
   "id": "f8b5e976",
   "metadata": {},
   "outputs": [],
   "source": [
    "vcl_1=vcl[vcl['nerdiness']==1]\n",
    "vcl_0=vcl[vcl['nerdiness']==0]"
   ]
  },
  {
   "cell_type": "code",
   "execution_count": 42,
   "id": "17eb7fd2",
   "metadata": {},
   "outputs": [],
   "source": [
    "result1=[]\n",
    "result0=[]\n",
    "result1=count1(vcl_1)\n",
    "result0=count0(vcl_0)"
   ]
  },
  {
   "cell_type": "code",
   "execution_count": 43,
   "id": "a4378f9b",
   "metadata": {},
   "outputs": [
    {
     "name": "stdout",
     "output_type": "stream",
     "text": [
      "10.489582078766711\n",
      "8.887412274152606\n"
     ]
    }
   ],
   "source": [
    "print(np.mean(result1))\n",
    "print(np.mean(result0))"
   ]
  },
  {
   "cell_type": "code",
   "execution_count": 44,
   "id": "7f76df9b",
   "metadata": {},
   "outputs": [],
   "source": [
    "vcl_tr(train)\n",
    "vcl_te(test)"
   ]
  },
  {
   "cell_type": "code",
   "execution_count": 45,
   "id": "6f3a5120",
   "metadata": {},
   "outputs": [],
   "source": [
    "train=train.drop(train.loc[:,'VCL1':'VCL16'],axis=1)\n",
    "test=test.drop(test.loc[:,'VCL1':'VCL16'],axis=1)"
   ]
  },
  {
   "cell_type": "code",
   "execution_count": null,
   "id": "0a3ae556",
   "metadata": {},
   "outputs": [],
   "source": []
  },
  {
   "cell_type": "code",
   "execution_count": null,
   "id": "6803ab95",
   "metadata": {},
   "outputs": [],
   "source": []
  },
  {
   "cell_type": "code",
   "execution_count": null,
   "id": "77a7c9aa",
   "metadata": {},
   "outputs": [],
   "source": []
  },
  {
   "cell_type": "code",
   "execution_count": null,
   "id": "fc29817f",
   "metadata": {},
   "outputs": [],
   "source": []
  },
  {
   "cell_type": "code",
   "execution_count": null,
   "id": "8124981b",
   "metadata": {},
   "outputs": [],
   "source": []
  },
  {
   "cell_type": "code",
   "execution_count": null,
   "id": "fba41d62",
   "metadata": {},
   "outputs": [],
   "source": []
  },
  {
   "cell_type": "code",
   "execution_count": null,
   "id": "d3355d60",
   "metadata": {},
   "outputs": [],
   "source": []
  },
  {
   "cell_type": "code",
   "execution_count": 13,
   "id": "4ecb8bff",
   "metadata": {},
   "outputs": [],
   "source": [
    "\n",
    "x_train = train.loc[:, 'Q1':'ASD']\n",
    "y_train = train['nerdiness']\n",
    "\n",
    "x_test = test.loc[:, 'Q1':'ASD'] #index와 nerdiness열 제외\n",
    "\n"
   ]
  },
  {
   "cell_type": "code",
   "execution_count": null,
   "id": "117751de",
   "metadata": {},
   "outputs": [],
   "source": []
  },
  {
   "cell_type": "code",
   "execution_count": 22,
   "id": "da35b795",
   "metadata": {},
   "outputs": [
    {
     "ename": "NameError",
     "evalue": "name 'x_train' is not defined",
     "output_type": "error",
     "traceback": [
      "\u001b[0;31m---------------------------------------------------------------------------\u001b[0m",
      "\u001b[0;31mNameError\u001b[0m                                 Traceback (most recent call last)",
      "\u001b[0;32m/var/folders/y2/lkm0p1s979jf_rsdx_9cgc0w0000gn/T/ipykernel_56118/3374586786.py\u001b[0m in \u001b[0;36m<module>\u001b[0;34m\u001b[0m\n\u001b[1;32m      8\u001b[0m \u001b[0;34m\u001b[0m\u001b[0m\n\u001b[1;32m      9\u001b[0m \u001b[0mmodel_grid\u001b[0m \u001b[0;34m=\u001b[0m \u001b[0mGridSearchCV\u001b[0m\u001b[0;34m(\u001b[0m\u001b[0mmodel\u001b[0m\u001b[0;34m,\u001b[0m \u001b[0mparam_grid\u001b[0m \u001b[0;34m=\u001b[0m \u001b[0mmodel_param_grid\u001b[0m\u001b[0;34m,\u001b[0m \u001b[0mscoring\u001b[0m\u001b[0;34m=\u001b[0m\u001b[0;34m\"accuracy\"\u001b[0m\u001b[0;34m,\u001b[0m\u001b[0mn_jobs\u001b[0m\u001b[0;34m=\u001b[0m\u001b[0;34m-\u001b[0m\u001b[0;36m1\u001b[0m\u001b[0;34m,\u001b[0m\u001b[0mverbose\u001b[0m\u001b[0;34m=\u001b[0m\u001b[0;36m1\u001b[0m\u001b[0;34m)\u001b[0m \u001b[0;31m#훈련 (장치 사양에 따라 시간이 걸릴 수 있음)\u001b[0m\u001b[0;34m\u001b[0m\u001b[0;34m\u001b[0m\u001b[0m\n\u001b[0;32m---> 10\u001b[0;31m \u001b[0mmodel_grid\u001b[0m\u001b[0;34m.\u001b[0m\u001b[0mfit\u001b[0m\u001b[0;34m(\u001b[0m\u001b[0mx_train\u001b[0m\u001b[0;34m,\u001b[0m \u001b[0my_train\u001b[0m\u001b[0;34m)\u001b[0m\u001b[0;34m\u001b[0m\u001b[0;34m\u001b[0m\u001b[0m\n\u001b[0m\u001b[1;32m     11\u001b[0m \u001b[0;34m\u001b[0m\u001b[0m\n\u001b[1;32m     12\u001b[0m \u001b[0mpred\u001b[0m \u001b[0;34m=\u001b[0m \u001b[0mmodel_grid\u001b[0m\u001b[0;34m.\u001b[0m\u001b[0mpredict_proba\u001b[0m\u001b[0;34m(\u001b[0m\u001b[0mx_test\u001b[0m\u001b[0;34m)\u001b[0m\u001b[0;34m[\u001b[0m\u001b[0;34m:\u001b[0m\u001b[0;34m,\u001b[0m\u001b[0;36m1\u001b[0m\u001b[0;34m]\u001b[0m \u001b[0;31m#proba를 통해 확률값으로 변환\u001b[0m\u001b[0;34m\u001b[0m\u001b[0;34m\u001b[0m\u001b[0m\n",
      "\u001b[0;31mNameError\u001b[0m: name 'x_train' is not defined"
     ]
    }
   ],
   "source": [
    "\n",
    "from sklearn.ensemble import RandomForestClassifier\n",
    "model = RandomForestClassifier(random_state=42, n_jobs=-1)\n",
    "\n",
    "from sklearn.model_selection import KFold, GridSearchCV #하이퍼파라미터 튜닝을 위한 불러오기\n",
    "from sklearn.metrics import accuracy_score\n",
    "\n",
    "model_param_grid = {'n_estimators' : [100, 1000, 3000]} # Default(100)대비 큰값으로 Dictionary구성\n",
    "\n",
    "model_grid = GridSearchCV(model, param_grid = model_param_grid, scoring=\"accuracy\",n_jobs=-1,verbose=1) #훈련 (장치 사양에 따라 시간이 걸릴 수 있음)\n",
    "model_grid.fit(x_train, y_train)\n",
    "\n",
    "#pred = model_grid.predict_proba(x_test)[:,1] #proba를 통해 확률값으로 변환\n",
    "\n",
    "\n"
   ]
  },
  {
   "cell_type": "code",
   "execution_count": null,
   "id": "badc11f2",
   "metadata": {},
   "outputs": [],
   "source": [
    "gcv=GridSearchCV(model, param_grid=model_param_grid, cv=cv, scoring='f1', n_jobs=-1)\n",
    "\n"
   ]
  },
  {
   "cell_type": "code",
   "execution_count": null,
   "id": "665ab80f",
   "metadata": {},
   "outputs": [],
   "source": [
    "gcv.fit(x_train.values,y_train.values)\n",
    "print('final params', gcv.best_params_)   # 최적의 파라미터 값 출력\n",
    "\n",
    "model = RandomForestClassifier(n_estimators=3000, random_state=42, n_jobs=-1)\n",
    "\n",
    "model.fit(x_train, y_train) #학습\n",
    "\n"
   ]
  },
  {
   "cell_type": "code",
   "execution_count": null,
   "id": "a98e5be7",
   "metadata": {},
   "outputs": [],
   "source": [
    "pred = model.predict_proba(x_test)[:,1] #proba를 통해 확률값으로 변환\n",
    "\n"
   ]
  },
  {
   "cell_type": "code",
   "execution_count": null,
   "id": "68f8bbb1",
   "metadata": {},
   "outputs": [],
   "source": [
    "sample['nerdiness'] = pred"
   ]
  },
  {
   "cell_type": "code",
   "execution_count": null,
   "id": "0b22dba4",
   "metadata": {},
   "outputs": [],
   "source": [
    "sample['nerdiness']=sample['nerdiness'].round(2)\n",
    "sample['nerdiness']=sample['nerdiness'].round(1)\n",
    "sample['nerdiness']=sample['nerdiness'].round(0)\n",
    "sample[sample['nerdiness']>2]\n"
   ]
  },
  {
   "cell_type": "code",
   "execution_count": null,
   "id": "f43df5d7",
   "metadata": {},
   "outputs": [],
   "source": [
    "sample['nerdiness'].sum()"
   ]
  }
 ],
 "metadata": {
  "kernelspec": {
   "display_name": "Python 3 (ipykernel)",
   "language": "python",
   "name": "python3"
  },
  "language_info": {
   "codemirror_mode": {
    "name": "ipython",
    "version": 3
   },
   "file_extension": ".py",
   "mimetype": "text/x-python",
   "name": "python",
   "nbconvert_exporter": "python",
   "pygments_lexer": "ipython3",
   "version": "3.9.7"
  }
 },
 "nbformat": 4,
 "nbformat_minor": 5
}
